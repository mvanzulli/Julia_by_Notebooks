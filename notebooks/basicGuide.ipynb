{
 "cells": [
  {
   "cell_type": "markdown",
   "metadata": {},
   "source": [
    "# <span style=\"color:orange\"> Notebook of the guide [Programación básica en Julia](https://github.com/heliosdrm/guia-julialang) \n"
   ]
  },
  {
   "cell_type": "markdown",
   "metadata": {},
   "source": [
    "### <span style=\"color:green\"> Wrokspace managment:\n",
    "\n",
    "To show the size, type, and name of the variables, functions and modules it is used: \n",
    "```julia\n",
    "varinfo()\n",
    "```"
   ]
  },
  {
   "cell_type": "code",
   "execution_count": 46,
   "metadata": {},
   "outputs": [
    {
     "name": "stdout",
     "output_type": "stream",
     "text": [
      "| name            |        size | summary                              |\n",
      "|:--------------- | -----------:|:------------------------------------ |\n",
      "| Base            |             | Module                               |\n",
      "| Core            |             | Module                               |\n",
      "| Main            |             | Module                               |\n",
      "| bitHigh         | 100.024 KiB | 4080-element Vector{String}          |\n",
      "| bitcHistory     | 797.820 KiB | 4080×7 DataFrame                     |\n",
      "| csvBitcoin      |   109 bytes | 101-codeunit String                  |\n",
      "| csvFile         |   105 bytes | 97-codeunit String                   |\n",
      "| currPath        |    85 bytes | 77-codeunit String                   |\n",
      "| dataFolder      |    97 bytes | 89-codeunit String                   |\n",
      "| firstFolderPath |    80 bytes | 72-codeunit String                   |\n",
      "| foo             |     0 bytes | foo (generic function with 1 method) |\n",
      "| listFiles       |   156 bytes | 5-element Vector{String}             |\n",
      "| rootFolder      |   156 bytes | 5-element Vector{String}             |\n",
      "| rootPath        |    89 bytes | 81-codeunit String                   |\n",
      "| x               |     8 bytes | Int64                                |\n",
      "| y               |     8 bytes | Int64                                |\n",
      "| z               |     8 bytes | Int64                                |\n",
      "\n"
     ]
    }
   ],
   "source": [
    "# The input variables can be called in disorder by defining them after ; \n",
    "function foo(x;y,z) \n",
    "    a = div(y,z)\n",
    "    return x + a\n",
    "end\n",
    "# define vairables\n",
    "x = 2; y = 8; z = 4;\n",
    "# execute foo function in disorder \n",
    "foo(x;z,y)\n",
    "\n",
    "println(varinfo())"
   ]
  },
  {
   "cell_type": "markdown",
   "metadata": {},
   "source": [
    "### <span style=\"color:green\"> join paths :\n",
    "\n",
    "To concatenate folder or files path use:\n",
    "```julia\n",
    "joinpath(path1,path1)\n",
    "```\n",
    "and to read directories and files into a specific folder use:\n",
    "```julia\n",
    "diretories = readdir()\n",
    "```"
   ]
  },
  {
   "cell_type": "code",
   "execution_count": 47,
   "metadata": {},
   "outputs": [
    {
     "name": "stdout",
     "output_type": "stream",
     "text": [
      "The root folder path is /home/mvanzulli/ownCloud/Doctorado/Programming/Julia/Learning_Julia/.git\n"
     ]
    }
   ],
   "source": [
    "currPath = pwd()\n",
    "rootPath = joinpath(currPath,\"../\")\n",
    "# Move to root path\n",
    "cd(rootPath)\n",
    "rootFolder = readdir()\n",
    "firstFolderPath = joinpath(pwd(),rootFolder[1])\n",
    "# Move to first foolder of the root path \n",
    "cd(joinpath(\".\",firstFolderPath))\n",
    "joinpath(\".\",firstFolderPath)\n",
    "println(\"The root folder path is $(pwd())\")\n",
    "# Move back to current path \n",
    "cd(currPath)"
   ]
  },
  {
   "cell_type": "markdown",
   "metadata": {},
   "source": [
    "### <span style=\"color:green\"> Functions:\n",
    "The general format for writing functions is:\n",
    "\n",
    "```julia\n",
    "\"\"\"\n",
    "DOCSTRING\n",
    "\"\"\"\n",
    "function my_function_name(INPUTS) \n",
    "    #CODE\n",
    "    return OUTPUT\n",
    "end\n",
    "```\n",
    "1. DOCSTRING: Doc text in `.md` format describing the key propose and the main logic and how to use the function, this text is showed when the help command is executed. \n",
    "1. INPUTS: The different ways to organize the inputs are:\n",
    "    1. using the same order stated in the function declaration ignoring the name `my_function_name(input1, input2)`\n",
    "    1. default values `my_function_name(input1, input2=default2)`\n",
    "    1. using the same name declared in the function `my_function_name(;input1, input2)`"
   ]
  },
  {
   "cell_type": "markdown",
   "metadata": {},
   "source": [
    "### <span style=\"color:green\"> Conditionals:\n",
    "\n",
    "The most common logical expressions are:\n",
    "\n",
    "* `a == b`\n",
    "* `a! = b`\n",
    "* `a <= b`\n",
    "* `a >= b`\n",
    "* `a <= b <= c`\n",
    "* `exp1 && exp2`\n",
    "* `exp1 || exp2`\n",
    "\n",
    "```julia\n",
    "x = 1; y = 2 \n",
    "```\n",
    "Also this:\n",
    "```julia\n",
    "x == 1 ? y = y +1 : y = 0\n",
    "```\n",
    "is equal to:\n",
    "``` julia\n",
    "if x == 1 \n",
    "    y = y + 1 \n",
    "    else\n",
    "    y = 0\n",
    "end\n",
    "```"
   ]
  }
 ],
 "metadata": {
  "kernelspec": {
   "display_name": "Julia 1.7.1",
   "language": "julia",
   "name": "julia-1.7"
  },
  "language_info": {
   "file_extension": ".jl",
   "mimetype": "application/julia",
   "name": "julia",
   "version": "1.7.1"
  },
  "orig_nbformat": 4
 },
 "nbformat": 4,
 "nbformat_minor": 2
}
