{
 "cells": [
  {
   "cell_type": "markdown",
   "metadata": {},
   "source": [
    "# <span style=\"color:orange\"> Notebook of the guide [Programación básica en Julia](https://github.com/heliosdrm/guia-julialang) \n"
   ]
  },
  {
   "cell_type": "markdown",
   "metadata": {},
   "source": [
    "### <span style=\"color:green\"> Wrokspace managment:\n",
    "\n",
    "To show the size, type, and name of the variables, functions and modules it is used: \n",
    "```julia\n",
    "varinfo()\n",
    "```"
   ]
  },
  {
   "cell_type": "code",
   "execution_count": 1,
   "metadata": {},
   "outputs": [
    {
     "name": "stdout",
     "output_type": "stream",
     "text": [
      "| name |    size | summary                              |\n",
      "|:---- | -------:|:------------------------------------ |\n",
      "| Base |         | Module                               |\n",
      "| Core |         | Module                               |\n",
      "| Main |         | Module                               |\n",
      "| foo  | 0 bytes | foo (generic function with 1 method) |\n",
      "| x    | 8 bytes | Int64                                |\n",
      "| y    | 8 bytes | Int64                                |\n",
      "| z    | 8 bytes | Int64                                |\n",
      "\n"
     ]
    }
   ],
   "source": [
    "# The input variables can be called in disorder by defining them after ; \n",
    "function foo(x;y,z) \n",
    "    a = div(y,z)\n",
    "    return x + a\n",
    "end\n",
    "# define vairables\n",
    "x = 2; y = 8; z = 4;\n",
    "# execute foo function in disorder \n",
    "foo(x;z,y)\n",
    "\n",
    "println(varinfo())"
   ]
  },
  {
   "cell_type": "markdown",
   "metadata": {},
   "source": [
    "### <span style=\"color:green\"> join paths :\n",
    "\n",
    "To concatenate folder or files path use:\n",
    "```julia\n",
    "joinpath(path1,path1)\n",
    "```\n",
    "and to read directories and files into a specific folder use:\n",
    "```julia\n",
    "diretories = readdir()\n",
    "```"
   ]
  },
  {
   "cell_type": "code",
   "execution_count": 2,
   "metadata": {},
   "outputs": [
    {
     "name": "stdout",
     "output_type": "stream",
     "text": [
      "The root folder path is /home/mvanzulli/ownCloud/Doctorado/Programming/Julia/Learning_Julia/.git\n"
     ]
    }
   ],
   "source": [
    "currPath = pwd()\n",
    "rootPath = joinpath(currPath,\"../\")\n",
    "# Move to root path\n",
    "cd(rootPath)\n",
    "rootFolder = readdir()\n",
    "firstFolderPath = joinpath(pwd(),rootFolder[1])\n",
    "# Move to first foolder of the root path \n",
    "cd(joinpath(\".\",firstFolderPath))\n",
    "joinpath(\".\",firstFolderPath)\n",
    "println(\"The root folder path is $(pwd())\")\n",
    "# Move back to current path \n",
    "cd(currPath)"
   ]
  },
  {
   "cell_type": "markdown",
   "metadata": {},
   "source": [
    "### <span style=\"color:green\"> Functions:\n",
    "The general format for writing functions is:\n",
    "\n",
    "```julia\n",
    "\"\"\"\n",
    "DOCSTRING\n",
    "\"\"\"\n",
    "function my_function_name(INPUTS) \n",
    "    #CODE\n",
    "    return OUTPUT\n",
    "end\n",
    "```\n",
    "1. DOCSTRING: Doc text in `.md` format describing the key propose and the main logic and how to use the function, this text is showed when the help command is executed. \n",
    "1. INPUTS: The different ways to organize the inputs are:\n",
    "    1. using the same order stated in the function declaration ignoring the name `my_function_name(input1, input2)`\n",
    "    1. default values `my_function_name(input1, input2=default2)`\n",
    "    1. using the same name declared in the function `my_function_name(;input1, input2)`"
   ]
  },
  {
   "cell_type": "markdown",
   "metadata": {},
   "source": [
    "### <span style=\"color:green\"> Conditionals:\n",
    "#### <span style=\"color:green\"> Logical expressions:\n",
    "The most common logical expressions are:\n",
    "\n",
    "* `a == b`\n",
    "* `a != b`\n",
    "* `a <= b`\n",
    "* `a >= b`\n",
    "* `a <= b <= c`\n",
    "* `exp1 && exp2`\n",
    "* `exp1 || exp2`\n",
    "\n",
    "```julia\n",
    "x = 1; y = 2 \n",
    "```\n",
    "Also this:\n",
    "```julia\n",
    "x == 1 ? y = y +1 : y = 0\n",
    "```\n",
    "is equal to:\n",
    "``` julia\n",
    "if x == 1 \n",
    "    y = y + 1 \n",
    "    else\n",
    "    y = 0\n",
    "end\n",
    "```\n",
    "sometimes to compact code a double && substitute a if loop. Consider a program that sould exit if `x` is not empty, then:\n",
    "\n",
    "```julia\n",
    "!isempty(y) && return\n",
    "```\n",
    "#### <span style=\"color:green\"> Functional conditionals:\n",
    "\n",
    "The most common logical expressions are:\n",
    "\n",
    "* `isnan(x)` is `true` if `x` is NaN and `false` if x is something else.\n",
    "* `isinf(x)` is `true` if `x` is infinite and `false` if x is real.\n",
    "* `isfinite(x)` is `!isinf(x)`.\n",
    "* `x1 in x` is `true` if `x1` exists as a value of `x`.\n",
    "* `all(x)` only work if `x` is a `bool` vector and is `true` if x is a vector fully of `true`.\n",
    "* `any(x)` only work if `x` is a `bool` vector and is `true` if x contains a `true`.\n",
    "*  `x isa Int` return `true` if `x` is type variable that is checked. \n",
    "\n"
   ]
  },
  {
   "cell_type": "code",
   "execution_count": 3,
   "metadata": {},
   "outputs": [
    {
     "name": "stdout",
     "output_type": "stream",
     "text": [
      "Condition: 1 + 1e-8 == 1 answer is false\n",
      "Condition: 1 + 1e-8 == 1 answer with tolerance 1e-5 is true\n"
     ]
    }
   ],
   "source": [
    "#Be aware that machine epsilon is 1e-15 for Float32, so\n",
    "println(\"Condition: 1 + 1e-8 == 1 answer is $(1 + 1e-8 == 1)\")\n",
    "# to comapre two numbers with a specific tolerace is recomended to use \n",
    "println(\"Condition: 1 + 1e-8 == 1 answer with tolerance 1e-5 is $(isapprox(1 + 1e-8, 1, atol= 1e-5))\")"
   ]
  },
  {
   "cell_type": "markdown",
   "metadata": {},
   "source": [
    "### <span style=\"color:green\"> Loops:\n",
    "\n",
    "Do not be afraid to add loops: In julia there is no necessity to avoid using `for` or `while` for performance reasons. This avoid to implement vectorized operations to reduce compilation computational cost (in a `for` loop is proportional to the number of iterations). In contrast, julia only consumes this compilation time in the first execution, consequently small and simple operations is often more efficient than large matrix and complex computations. **It is important to highlight that all variables declared into any loop only exist inner the loop**\n",
    "#### <span style=\"color:red\"> for:\n",
    "```julia\n",
    "for i in 1:5\n",
    "    #code to repeat\n",
    "end\n",
    "```\n",
    "is identical to \n",
    "```julia\n",
    "for i = 1:5\n",
    "    #code to repeat\n",
    "end\n",
    "```\n",
    "to create a loop a that discard the iterator use:\n",
    "```julia\n",
    "for _ = 1:5\n",
    "    #code to repeat\n",
    "end\n",
    "```\n",
    "For an index and value iterator `enumerate` command can be useed as:\n",
    "\n",
    "```julia\n",
    "for (index, value)  in vector\n",
    "     value = vector(index)\n",
    "end\n",
    "```\n",
    "#### <span style=\"color:red\"> while:\n",
    "```julia\n",
    "while !condition == true\n",
    "    #code to repeat\n",
    "end\n",
    "```\n",
    "#### <span style=\"color:red\"> break and continue:\n",
    "\n",
    "* `break` into a loop return the code into the line where the loop is executed.\n",
    "* `continue` jump into the next step iteration. \n",
    "\n",
    "#### <span style=\"color:red\"> try  and catch:\n",
    "This statements are used to manage errors inside the code or exceptions that not necessary must throw a successful output during the execution. Note that this instructions are significantly less efficient than the others loops. \n",
    "\n",
    "```julia\n",
    "try \n",
    "    # Code that could throw an error\n",
    "catch type of error\n",
    "    # Code to execute if the error is throw\n",
    "finally \n",
    "    # Clean and close operations\n",
    "```\n",
    "\n",
    "Example of opening a file:\n",
    "```julia\n",
    "f = open(\"file\")\n",
    "try\n",
    "    # operate on file f\n",
    "finally\n",
    "    close(f)\n",
    "end\n",
    "```"
   ]
  },
  {
   "cell_type": "code",
   "execution_count": 10,
   "metadata": {},
   "outputs": [
    {
     "ename": "UndefVarError",
     "evalue": "UndefVarError: innerVar not defined",
     "output_type": "error",
     "traceback": [
      "UndefVarError: innerVar not defined\n",
      "\n",
      "Stacktrace:\n",
      "  [1] top-level scope\n",
      "    @ :0\n",
      "  [2] eval\n",
      "    @ ./boot.jl:373 [inlined]\n",
      "  [3] include_string(mapexpr::typeof(REPL.softscope), mod::Module, code::String, filename::String)\n",
      "    @ Base ./loading.jl:1196\n",
      "  [4] #invokelatest#2\n",
      "    @ ./essentials.jl:716 [inlined]\n",
      "  [5] invokelatest\n",
      "    @ ./essentials.jl:714 [inlined]\n",
      "  [6] (::VSCodeServer.var\"#150#151\"{VSCodeServer.NotebookRunCellArguments, String})()\n",
      "    @ VSCodeServer ~/.vscode-oss/extensions/julialang.language-julia-1.5.10/scripts/packages/VSCodeServer/src/serve_notebook.jl:18\n",
      "  [7] withpath(f::VSCodeServer.var\"#150#151\"{VSCodeServer.NotebookRunCellArguments, String}, path::String)\n",
      "    @ VSCodeServer ~/.vscode-oss/extensions/julialang.language-julia-1.5.10/scripts/packages/VSCodeServer/src/repl.jl:185\n",
      "  [8] notebook_runcell_request(conn::VSCodeServer.JSONRPC.JSONRPCEndpoint{Base.PipeEndpoint, Base.PipeEndpoint}, params::VSCodeServer.NotebookRunCellArguments)\n",
      "    @ VSCodeServer ~/.vscode-oss/extensions/julialang.language-julia-1.5.10/scripts/packages/VSCodeServer/src/serve_notebook.jl:14\n",
      "  [9] dispatch_msg(x::VSCodeServer.JSONRPC.JSONRPCEndpoint{Base.PipeEndpoint, Base.PipeEndpoint}, dispatcher::VSCodeServer.JSONRPC.MsgDispatcher, msg::Dict{String, Any})\n",
      "    @ VSCodeServer.JSONRPC ~/.vscode-oss/extensions/julialang.language-julia-1.5.10/scripts/packages/JSONRPC/src/typed.jl:67\n",
      " [10] serve_notebook(pipename::String; crashreporting_pipename::String)\n",
      "    @ VSCodeServer ~/.vscode-oss/extensions/julialang.language-julia-1.5.10/scripts/packages/VSCodeServer/src/serve_notebook.jl:94\n",
      " [11] top-level scope\n",
      "    @ ~/.vscode-oss/extensions/julialang.language-julia-1.5.10/scripts/notebook/notebook.jl:12\n",
      " [12] include(mod::Module, _path::String)\n",
      "    @ Base ./Base.jl:418\n",
      " [13] exec_options(opts::Base.JLOptions)\n",
      "    @ Base ./client.jl:292\n",
      " [14] _start()\n",
      "    @ Base ./client.jl:495"
     ]
    }
   ],
   "source": [
    "#Example 1\n",
    "condition = false\n",
    "iterVar = 0;\n",
    "while condition == false\n",
    "    iterVar += 1\n",
    "    if iterVar == 1\n",
    "        innerVar = 100\n",
    "        println(\"iterVar is seted inner the loop as $innerVar\")\n",
    "        continue\n",
    "    end\n",
    "    condition = true\n",
    "    break\n",
    "end\n",
    "#So as inner var is not difenied otsuide of the loop\n",
    "innerVar"
   ]
  }
 ],
 "metadata": {
  "kernelspec": {
   "display_name": "Julia 1.7.1",
   "language": "julia",
   "name": "julia-1.7"
  },
  "language_info": {
   "file_extension": ".jl",
   "mimetype": "application/julia",
   "name": "julia",
   "version": "1.7.1"
  },
  "orig_nbformat": 4
 },
 "nbformat": 4,
 "nbformat_minor": 2
}
