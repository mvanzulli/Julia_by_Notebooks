{
 "cells": [
  {
   "cell_type": "markdown",
   "metadata": {},
   "source": [
    "# <span style=\"color:orange\"> Summary of [style guide Julia doc link](https://docs.julialang.org/en/v1/manual/style-guide/) \n"
   ]
  },
  {
   "cell_type": "markdown",
   "metadata": {},
   "source": [
    "## <span style=\"color:green\"> Style for code:\n",
    "1. Indent with 4 space\n",
    "```julia\n",
    "    function foo(x)\n",
    "        y = x + 5\n",
    "        return y  \n",
    "```\n",
    "2. Use append! to name of functions that modify their arguments. Examples: push! append! sort!\n",
    "```julia\n",
    "    function modify!(x)\n",
    "        x = x + 5\n",
    "        return x  \n",
    "```\n",
    "3. Use Camel nomenclature for modules and type names use capitalization and camel case: `module SparseArrays`, `struct UnitRange`.\n",
    "\n",
    "4. Use lowercase for function like ([`maximum`](@ref), [`convert`](@ref)) and, when readable, with multiple words squashed together ([`isequal`](@ref), [`haskey`](@ref)). When necessary, use underscores as word separators. \n",
    "\n",
    "5. Name the functions with a clear and cleen description that describe the function propose in terms of inputs and output realtion and the function propose. Use nomenclature to show that this is an \"internal\" function, an implementation detail, calling it `_dTs`. The underscore highlights that this function is \"internal\", ie. it wasn't meant to be used on its own, so you don't care of forgeting what it does (because the function that calls it already documents this step etc). Eg `frame_element_force` instead of `f_ele_f`\n",
    "6. Dont add parenthesis to loop with condition\n",
    "\n",
    "    ```julia\n",
    "    if a == b \n",
    "    ``` \n",
    "    instead of\n",
    "    ```julia\n",
    "     if (a==b)\n",
    "    ```\n"
   ]
  },
  {
   "cell_type": "code",
   "execution_count": null,
   "metadata": {},
   "outputs": [],
   "source": [
    "# Example of 2.\n",
    " function modify!(x)\n",
    "        x[]+= 5\n",
    " end\n",
    " x = Ref{Int}(5)\n",
    " modify!(x)"
   ]
  },
  {
   "cell_type": "markdown",
   "metadata": {},
   "source": [
    "## <span style=\"color:green\"> Do not use:\n",
    "\n",
    "1. Big container types like: `a = Vector{Union{Int,AbstractString,Tuple,Array}}(undef, n)`, it is better to use `Vector{Any}(undef, n)`.\n",
    "\n",
    "2. ... to concatenate arrays `[a ... b]` use `collect` (a,b).\n",
    "\n",
    "3. Unnecessary static parameters foo(x::T) where {T<:Real} = foo (x::Real).\n",
    "\n",
    "4. Overuse macro aside from constants like [`pi`](@ref).\n",
    "\n",
    "5. Excessive abreviation use `indexin` rather than `indxin`.\n",
    "\n",
    "6. Overspecifying types if base function include the Abstract method. There is no performance penalty because Julia will automatically compile specialized versions as needed.\n",
    "    For example, consider the following definitions of a function `addone` that returns one plus its argument:\n",
    "    ```julia\n",
    "    addone(x::Int) = x + 1                 # works only for Int\n",
    "    addone(x::Integer) = x + oneunit(x)    # any integer type\n",
    "    addone(x::Number) = x + oneunit(x)     # any numeric type\n",
    "    addone(x) = x + oneunit(x)             # any type supporting + and oneunit\n",
    "    ```\n",
    "\n",
    "7. Defining the type of variables in the declaration function line instead of using `if` loops inside the functions. Although if a function require some type of variables call them converting the inputs:\n",
    "\n",
    "    Dont:\n",
    "    ```julia\n",
    "    function foo(x, y)\n",
    "    x = Int(x); y = Int(y)\n",
    "    ...\n",
    "    end\n",
    "    foo(x, y)\n",
    "    ```\n",
    "    use:\n",
    "\n",
    "    ```julia\n",
    "    function foo(x::Int, y::Int)\n",
    "        ...\n",
    "    end\n",
    "    foo(Int(x), Int(y))\n",
    "    ```\n",
    "\n",
    "8. `Typeof(x) == `, you generally want to use [`isa`](@ref) and [`<:`](@ref) for testing types,\n",
    "not `==`. Checking types for exact equality typically only makes sense when comparing to a known\n",
    "concrete type (e.g. `T == Float64`), or if you *really, really* know what you're doing.\n",
    "\n",
    "9. Write `map(x->f(x), a)`, you should write [`map(f, a)`](@ref).."
   ]
  },
  {
   "cell_type": "code",
   "execution_count": null,
   "metadata": {},
   "outputs": [],
   "source": [
    "# Example of 9\n",
    "# this can be use:\n",
    "vector = [1, 3, -1]\n",
    "yDR = map(x -> x^2 + 2x - 1, vector)\n",
    "print(\"Y dont recomended is : $yDR \\n\")\n",
    "# but is recomended to use\n",
    "function f(x)\n",
    "    x^2 +2x -1\n",
    "end \n",
    "yR = map(f,vector)\n",
    "print(\"Y recomended is $yR \\n\")\n"
   ]
  },
  {
   "cell_type": "markdown",
   "metadata": {},
   "source": []
  }
 ],
 "metadata": {
  "kernelspec": {
   "display_name": "Julia 1.6.2",
   "language": "julia",
   "name": "julia-1.6"
  },
  "language_info": {
   "name": "julia"
  },
  "orig_nbformat": 4
 },
 "nbformat": 4,
 "nbformat_minor": 2
}
