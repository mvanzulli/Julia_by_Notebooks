{
 "cells": [
  {
   "cell_type": "markdown",
   "metadata": {},
   "source": [
    "## <span style=\"color:orange\"> Shoot question and shoot answers\n"
   ]
  },
  {
   "cell_type": "markdown",
   "metadata": {},
   "source": [
    "###  <span style=\"color:green\"> ¿How to export a function from a module? \n",
    " \n",
    "* Every module have his particular and private scope and `include` add the scritp into the scope.\n",
    "* Using a module does not allow to call a function delcared or implemented inside of it.\n",
    "* To do this `export` operation is required.\n",
    "* This is unwanted when multiple modules and submodules are running at the same time. \n",
    "* To share variables, structs, functions and abstracts could cause conflict code \"bloating\". Eg `Solve` which method should be usen ? A possible solution is to declare `AbstractSolve` method. "
   ]
  },
  {
   "cell_type": "markdown",
   "metadata": {},
   "source": [
    "#### <span style=\"color:violet\">  Declare a internal function inside of a module:"
   ]
  },
  {
   "cell_type": "code",
   "execution_count": 128,
   "metadata": {},
   "outputs": [
    {
     "name": "stderr",
     "output_type": "stream",
     "text": [
      "WARNING: replacing module myModule.\n"
     ]
    },
    {
     "data": {
      "text/plain": [
       "Main.myModule"
      ]
     },
     "metadata": {},
     "output_type": "display_data"
    }
   ],
   "source": [
    "module myModule \n",
    "        using LinearAlgebra\n",
    "        function my_internal_function(x)\n",
    "                nX = norm(x)\n",
    "                sX = size(x)\n",
    "                return nX, sX\n",
    "        end\n",
    "        A = 2\n",
    "        export my_internal_function, A\n",
    "end"
   ]
  },
  {
   "cell_type": "markdown",
   "metadata": {},
   "source": [
    "#### <span style=\"color:violet\">  Use exported function"
   ]
  },
  {
   "cell_type": "markdown",
   "metadata": {},
   "source": [
    "###  <span style=\"color:green\"> ¿How to extract only one output from a function? \n",
    "\n",
    "* Use _ which is simalr to ~ in Octave. If nothing is specified whan calling the function a tuple is obtained\n"
   ]
  },
  {
   "cell_type": "code",
   "execution_count": 135,
   "metadata": {},
   "outputs": [
    {
     "name": "stdout",
     "output_type": "stream",
     "text": [
      "The output when nothing is specified and multiple outputs are implemnted is Tuple{Float64, Tuple{Int64}} \n",
      "The output when the variables are is Float64 \n"
     ]
    },
    {
     "data": {
      "text/plain": [
       "(3.7416573867739413, (3,))"
      ]
     },
     "metadata": {},
     "output_type": "display_data"
    }
   ],
   "source": [
    "using LinearAlgebra\n",
    "\n",
    "function my_internal_function(x)\n",
    "        nX = norm(x)\n",
    "        sX = size(x)\n",
    "        return nX, sX;\n",
    "end\n",
    "\n",
    "#If nothig is specified when callin\n",
    "typeOut = typeof(my_internal_function(x))\n",
    "print(\"The output when nothing is specified and multiple outputs are implemnted is $typeOut \\n\")\n",
    "#If nothig is specified when callin\n",
    "nX1,sX1 = my_internal_function(x)\n",
    "typeOut = typeof(nX)\n",
    "print(\"The output when the variables are is $typeOut \\n\")\n",
    "#If not ouput is wanted then\n",
    "_,sX2 = my_internal_function(x)\n",
    "print(\"The value of sX2 is $sX2 \\n\")\n"
   ]
  }
 ],
 "metadata": {
  "kernelspec": {
   "display_name": "Julia 1.6.2",
   "language": "julia",
   "name": "julia-1.6"
  },
  "language_info": {
   "file_extension": ".jl",
   "mimetype": "application/julia",
   "name": "julia",
   "version": "1.6.2"
  },
  "orig_nbformat": 4
 },
 "nbformat": 4,
 "nbformat_minor": 2
}
