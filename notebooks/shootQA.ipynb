{
 "cells": [
  {
   "cell_type": "markdown",
   "metadata": {},
   "source": [
    "## <span style=\"color:orange\"> Shoot question and short answers\n"
   ]
  },
  {
   "cell_type": "markdown",
   "metadata": {},
   "source": [
    "###  <span style=\"color:green\"> ¿How to export a function from a module? \n",
    " \n",
    "* Every module have his particular and private scope and `include` add the scritp into the scope.\n",
    "* Using a module does not allow to call a function delcared or implemented inside of it.\n",
    "* To do this `export` operation is required.\n",
    "* This is unwanted when multiple modules and submodules are running at the same time. \n",
    "* To share variables, structs, functions and abstracts could cause conflict code \"bloating\". Eg `Solve` which method should be usen ? A possible solution is to declare `AbstractSolve` method. "
   ]
  },
  {
   "cell_type": "markdown",
   "metadata": {},
   "source": [
    "#### <span style=\"color:violet\">  Declare a internal function inside of a module:"
   ]
  },
  {
   "cell_type": "code",
   "execution_count": 5,
   "metadata": {},
   "outputs": [
    {
     "name": "stdout",
     "output_type": "stream",
     "text": [
      "The output when nothing is specified and multiple outputs are implemnted is Tuple{Float64, Tuple{}} \n"
     ]
    },
    {
     "name": "stderr",
     "output_type": "stream",
     "text": [
      "WARNING: replacing module myModule.\n"
     ]
    },
    {
     "data": {
      "text/plain": [
       "Main.myModule"
      ]
     },
     "metadata": {},
     "output_type": "display_data"
    }
   ],
   "source": [
    "module myModule \n",
    "        using LinearAlgebra\n",
    "        function my_internal_function(x)\n",
    "                nx = norm(x)\n",
    "                sx = size(x)\n",
    "                return nx, sx\n",
    "        end\n",
    "        A = 2\n",
    "        export my_internal_function, A\n",
    "end"
   ]
  },
  {
   "cell_type": "markdown",
   "metadata": {},
   "source": [
    "###  <span style=\"color:green\"> ¿How to extract only one output from a function? \n",
    "\n",
    "* Use _ which is simalr to ~ in Octave. If nothing is specified whan calling the function a tuple is obtained\n"
   ]
  },
  {
   "cell_type": "code",
   "execution_count": 10,
   "metadata": {},
   "outputs": [
    {
     "name": "stdout",
     "output_type": "stream",
     "text": [
      "The output when nothing is specified and multiple outputs are implemnted is Tuple{Float64, Tuple{}} \n",
      "The output when nothing is specified and multiple outputs are implemnted is Tuple{Float64, Tuple{}} \n",
      "The output when the variables are is Float64 \n",
      "The value of sX2 is () \n",
      "The output when nothing is specified and multiple outputs are implemnted is Tuple{Float64, Tuple{}} \n",
      "The output when the variables are is Float64 \n",
      "The value of sX2 is () \n",
      "The output when nothing is specified and multiple outputs are implemnted is Tuple{Float64, Tuple{}} \n",
      "The output when the variables are is Float64 \n",
      "The value of sX2 is () \n",
      "The output when nothing is specified and multiple outputs are implemnted is Tuple{Float64, Tuple{}} \n",
      "The output when the variables are is Float64 \n",
      "The value of sX2 is () \n",
      "There is no nX2: 2.0"
     ]
    }
   ],
   "source": [
    "using LinearAlgebra\n",
    "\n",
    "function my_internal_function(x)\n",
    "        nx = norm(x)\n",
    "        sx = size(x)\n",
    "        return nx, sx;\n",
    "end\n",
    "x = 2\n",
    "#If nothig is specified when callin\n",
    "typeout = typeof(my_internal_function(x))\n",
    "print(\"The output when nothing is specified and multiple outputs are implemnted is $typeout \\n\")\n",
    "#If nothig is specified when callin\n",
    "nx1,sx1 = my_internal_function(x)\n",
    "typeout = typeof(nx1)\n",
    "print(\"The output when the variables are is $typeout \\n\")\n",
    "#If not ouput is wanted then\n",
    "nx2,sx2 = my_internal_function(x)\n",
    "print(\"The value of sx2 is $sx2 \\n\")\n",
    "print(\"There is no nx2: $nx2\")\n"
   ]
  },
  {
   "cell_type": "code",
   "execution_count": null,
   "metadata": {},
   "outputs": [],
   "source": []
  }
 ],
 "metadata": {
  "kernelspec": {
   "display_name": "Julia 1.7.1",
   "language": "julia",
   "name": "julia-1.7"
  },
  "language_info": {
   "file_extension": ".jl",
   "mimetype": "application/julia",
   "name": "julia",
   "version": "1.7.1"
  },
  "orig_nbformat": 4
 },
 "nbformat": 4,
 "nbformat_minor": 2
}
