{
 "cells": [
  {
   "cell_type": "markdown",
   "metadata": {},
   "source": [
    "## <span style=\"color:orange\"> Shoot question and shoot answers\n"
   ]
  },
  {
   "cell_type": "markdown",
   "metadata": {},
   "source": [
    "###  <span style=\"color:green\"> ¿How to export a function from a module? \n",
    " \n",
    "* Every module have his particular and private scope \n",
    "* Using a module does not allow to call a function delcared or implemented inside of it.\n",
    "* To do this `export` operation is required.\n",
    "* This is unwanted when multiple modules and submodules are running at the same time. \n",
    "* To share variables, structs, functions and abstracts could cause conflict.  "
   ]
  },
  {
   "cell_type": "markdown",
   "metadata": {},
   "source": [
    "#### <span style=\"color:violet\">  Declare a internal function inside of a module:"
   ]
  },
  {
   "cell_type": "code",
   "execution_count": 51,
   "metadata": {},
   "outputs": [
    {
     "name": "stderr",
     "output_type": "stream",
     "text": [
      "WARNING: replacing module myModule.\n"
     ]
    },
    {
     "data": {
      "text/plain": [
       "Main.myModule"
      ]
     },
     "metadata": {},
     "output_type": "display_data"
    }
   ],
   "source": [
    "module myModule \n",
    "        using LinearAlgebra\n",
    "        # include(\"my_internal_function!\")\n",
    "        x = norm([2.0,3.0,4.0])\n",
    "        function my_internal_function!(x,sizeX)\n",
    "                x= rand(sizeX)\n",
    "        end\n",
    "        x = my_internal_function!(3,3)        # my_function(x)\n",
    "        export my_internal_function!\n",
    "end"
   ]
  },
  {
   "cell_type": "markdown",
   "metadata": {},
   "source": [
    "#### <span style=\"color:violet\">  Use exported function"
   ]
  },
  {
   "cell_type": "code",
   "execution_count": 55,
   "metadata": {},
   "outputs": [
    {
     "data": {
      "text/plain": [
       "6-element Vector{Float64}:\n",
       " 0.7542079261296597\n",
       " 0.07203421732591075\n",
       " 0.03275019412251923\n",
       " 0.7204407362130305\n",
       " 0.6255722695560622\n",
       " 0.9985062555840325"
      ]
     },
     "metadata": {},
     "output_type": "display_data"
    }
   ],
   "source": [
    "my_internal_function!([5,5],6)"
   ]
  }
 ],
 "metadata": {
  "kernelspec": {
   "display_name": "Julia 1.6.2",
   "language": "julia",
   "name": "julia-1.6"
  },
  "language_info": {
   "file_extension": ".jl",
   "mimetype": "application/julia",
   "name": "julia",
   "version": "1.6.2"
  },
  "orig_nbformat": 4
 },
 "nbformat": 4,
 "nbformat_minor": 2
}
