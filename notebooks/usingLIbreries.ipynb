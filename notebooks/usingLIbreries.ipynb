{
 "cells": [
  {
   "cell_type": "markdown",
   "metadata": {},
   "source": [
    "# <span style=\"color:orange\"> Using libraries \n"
   ]
  },
  {
   "cell_type": "markdown",
   "metadata": {},
   "source": [
    "## <span style=\"color:green\"> CSV and Dates:\n"
   ]
  },
  {
   "cell_type": "code",
   "execution_count": 3,
   "metadata": {},
   "outputs": [
    {
     "name": "stdout",
     "output_type": "stream",
     "text": [
      "The max averge price of Bitcoin is 67417.68 at 2020-11-09\n"
     ]
    }
   ],
   "source": [
    "using CSV, DataFrames, Dates\n",
    "# Read files in the root folder\n",
    "listFiles = readdir(joinpath(pwd(),\"../\"))\n",
    "# Locate data index\n",
    "for (index,file) in enumerate(listFiles) \n",
    "    dataBool = occursin(\"data\",file)\n",
    "    if dataBool\n",
    "        indexData = index\n",
    "        break \n",
    "    end\n",
    "    if index == length(listFiles)\n",
    "        println(\"Data folder was not located\")\n",
    "    end\n",
    "end\n",
    "# Locate and load csv file \n",
    "dataFolder = joinpath(pwd(),\"../data/CSV\")\n",
    "csvBitcoin = joinpath(dataFolder,\"bitcoin.csv\")\n",
    "# Load csv\n",
    "bitcHistory = DataFrame(CSV.File(csvBitcoin))\n",
    "# Build a csv with the average of the open and end price\n",
    "bitHigh = bitcHistory[:,\"High\"]\n",
    "bitLow = bitcHistory[:,\"Low\"]\n",
    "# Replace the comma format\n",
    "bitHigh = replace.(bitHigh, [','=>'.'])\n",
    "bitLow = replace.(bitLow, [','=>'.'])\n",
    "# Convert into a float\n",
    "bitHigh = parse.(Float32,bitHigh)\n",
    "bitLow = parse.(Float32,bitLow)\n",
    "bitAvgPrice = (bitHigh + bitLow) / 2\n",
    "# Find ATH price\n",
    "maxAvgPrice, indexMax = findmax(bitAvgPrice)\n",
    "# Create a date vector since firt open price\n",
    "dates = collect(Date(2021, 01, 16)-Day(length(bitAvgPrice)):Day(1):Date(2021, 01, 15))\n",
    "# Add the date into data frame\n",
    "bitcoinData = DataFrame(date = dates,avgBitPrice = bitAvgPrice)\n",
    "# Locate the max into a frame and plot\n",
    "println(\"The max averge price of Bitcoin is $(bitcoinData[indexMax,\"avgBitPrice\"]) at $(bitcoinData[indexMax,\"date\"])\")"
   ]
  },
  {
   "cell_type": "code",
   "execution_count": null,
   "metadata": {},
   "outputs": [],
   "source": []
  }
 ],
 "metadata": {
  "kernelspec": {
   "display_name": "Julia 1.7.1",
   "language": "julia",
   "name": "julia-1.7"
  },
  "language_info": {
   "file_extension": ".jl",
   "mimetype": "application/julia",
   "name": "julia",
   "version": "1.7.1"
  },
  "orig_nbformat": 4
 },
 "nbformat": 4,
 "nbformat_minor": 2
}
