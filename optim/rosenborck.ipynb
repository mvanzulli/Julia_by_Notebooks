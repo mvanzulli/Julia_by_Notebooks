{
 "cells": [
  {
   "attachments": {},
   "cell_type": "markdown",
   "metadata": {},
   "source": [
    "## Optimization packages playground"
   ]
  },
  {
   "cell_type": "code",
   "execution_count": 11,
   "metadata": {},
   "outputs": [],
   "source": [
    "# Define f\n",
    "a = 1.0\n",
    "b = 100.0\n",
    "\n",
    "\"Rossenbrok's function\"\n",
    "rosenbrock(x::Vector{<:Real}, a::Real, b::Real) =  (a - x[1])^2 + b * (x[2] - x[1]^2)^2\n",
    "\n",
    "\"Closure\"\n",
    "f = x -> rosenbrock(x, a, b);\n",
    "\n",
    "\"Rossenbrok's function gradient\"\n",
    "function g!(G, x)\n",
    "    G[1] = -2.0 * (1.0 - x[1]) - 400.0 * (x[2] - x[1]^2) * x[1]\n",
    "    G[2] = 200.0 * (x[2] - x[1]^2)\n",
    "end\n",
    "\n",
    "\"Rossenbrok's Hessian matrix\"\n",
    "function 𝐻rosenbrock!(H, x)\n",
    "    H[1, 1] = 2.0 - 400.0 * x[2] + 1200.0 * x[1]^2\n",
    "    H[1, 2] = -400.0 * x[1]\n",
    "    H[2, 1] = -400.0 * x[1]\n",
    "    H[2, 2] = 200.0\n",
    "end;\n",
    "    \n",
    "\"Analytic solution\"\n",
    "xₘᵢₙ = [a, a^2];\n"
   ]
  },
  {
   "cell_type": "code",
   "execution_count": 12,
   "metadata": {},
   "outputs": [
    {
     "name": "stderr",
     "output_type": "stream",
     "text": [
      "\u001b[91m\u001b[1mERROR: \u001b[22m\u001b[39mLoadError: InitError: "
     ]
    },
    {
     "name": "stderr",
     "output_type": "stream",
     "text": [
      "could not load library \"/home/mvanzulli/.julia/artifacts/b409c0eafb4254a980f9e730f6fbe56867890f6a/lib/libavdevice.so\"\n",
      "libssl.so.1.1: cannot open shared object file: No such file or directory\n",
      "Stacktrace:\n",
      " [1] \u001b[0m\u001b[1mmacro expansion\u001b[22m\n",
      "\u001b[90m   @\u001b[39m \u001b[90m~/.julia/packages/JLLWrappers/QpMQW/src/products/\u001b[39m\u001b[90m\u001b[4mlibrary_generators.jl:54\u001b[24m\u001b[39m\u001b[90m [inlined]\u001b[39m\n",
      " [2] \u001b[0m\u001b[1m__init__\u001b[22m\u001b[0m\u001b[1m(\u001b[22m\u001b[0m\u001b[1m)\u001b[22m\n",
      "\u001b[90m   @\u001b[39m \u001b[35mFFMPEG_jll\u001b[39m \u001b[90m~/.julia/packages/FFMPEG_jll/OCtN5/src/wrappers/\u001b[39m\u001b[90m\u001b[4mx86_64-linux-gnu.jl:39\u001b[24m\u001b[39m\n",
      " [3] \u001b[0m\u001b[1m_tryrequire_from_serialized\u001b[22m\u001b[0m\u001b[1m(\u001b[22m\u001b[90mpkg\u001b[39m::\u001b[0mBase.PkgId, \u001b[90mpath\u001b[39m::\u001b[0mString, \u001b[90mocachepath\u001b[39m::\u001b[0mString\u001b[0m\u001b[1m)\u001b[22m\n",
      "\u001b[90m   @\u001b[39m \u001b[90mBase\u001b[39m \u001b[90m./\u001b[39m\u001b[90m\u001b[4mloading.jl:1407\u001b[24m\u001b[39m\n",
      " [4] top-level scope\n",
      "\u001b[90m   @\u001b[39m \u001b[90m\u001b[4mstdin:2\u001b[24m\u001b[39m\n",
      "during initialization of module FFMPEG_jll\n",
      "in expression starting at /home/mvanzulli/.julia/packages/FFMPEG/OUpap/src/FFMPEG.jl:1\n",
      "in expression starting at stdin:2\n"
     ]
    },
    {
     "name": "stderr",
     "output_type": "stream",
     "text": [
      "\u001b[91m\u001b[1mERROR: \u001b[22m\u001b[39mLoadError: "
     ]
    },
    {
     "name": "stderr",
     "output_type": "stream",
     "text": [
      "Failed to precompile FFMPEG [c87230d0-a227-11e9-1b43-d7ebe4e7570a] to \"/home/mvanzulli/.julia/compiled/v1.9/FFMPEG/jl_NItQqF\".\n",
      "Stacktrace:\n",
      " [1] \u001b[0m\u001b[1minclude\u001b[22m\u001b[0m\u001b[1m(\u001b[22m\u001b[90mx\u001b[39m::\u001b[0mString\u001b[0m\u001b[1m)\u001b[22m\n",
      "\u001b[90m   @\u001b[39m \u001b[35mPlots\u001b[39m \u001b[90m~/.julia/packages/Plots/esM5q/src/\u001b[39m\u001b[90m\u001b[4mPlots.jl:1\u001b[24m\u001b[39m\n",
      " [2] top-level scope\n",
      "\u001b[90m   @\u001b[39m \u001b[90m~/.julia/packages/Plots/esM5q/src/\u001b[39m\u001b[90m\u001b[4mPlots.jl:168\u001b[24m\u001b[39m\n",
      " [3] top-level scope\n",
      "\u001b[90m   @\u001b[39m \u001b[90m\u001b[4mstdin:2\u001b[24m\u001b[39m\n",
      "in expression starting at /home/mvanzulli/.julia/packages/Plots/esM5q/src/animation.jl:1\n",
      "in expression starting at /home/mvanzulli/.julia/packages/Plots/esM5q/src/Plots.jl:1\n",
      "in expression starting at stdin:2\n"
     ]
    },
    {
     "ename": "ErrorException",
     "evalue": "Failed to precompile Plots [91a5bcdd-55d7-5caf-9e0b-520d859cae80] to \"/home/mvanzulli/.julia/compiled/v1.9/Plots/jl_uJVnna\".",
     "output_type": "error",
     "traceback": [
      "Failed to precompile Plots [91a5bcdd-55d7-5caf-9e0b-520d859cae80] to \"/home/mvanzulli/.julia/compiled/v1.9/Plots/jl_uJVnna\".\n",
      "\n",
      "Stacktrace:\n",
      "  [1] compilecache\n",
      "    @ ./loading.jl:2127 [inlined]\n",
      "  [2] _require(pkg::Base.PkgId, env::String)\n",
      "    @ Base ./loading.jl:1770\n",
      "  [3] _require_prelocked(uuidkey::Base.PkgId, env::String)\n",
      "    @ Base ./loading.jl:1625\n",
      "  [4] macro expansion\n",
      "    @ ./loading.jl:1613 [inlined]\n",
      "  [5] macro expansion\n",
      "    @ ./lock.jl:267 [inlined]\n",
      "  [6] require(into::Module, mod::Symbol)\n",
      "    @ Base ./loading.jl:1576\n",
      "  [7] eval\n",
      "    @ ./boot.jl:370 [inlined]\n",
      "  [8] include_string(mapexpr::typeof(REPL.softscope), mod::Module, code::String, filename::String)\n",
      "    @ Base ./loading.jl:1864\n",
      "  [9] #invokelatest#2\n",
      "    @ ./essentials.jl:816 [inlined]\n",
      " [10] invokelatest\n",
      "    @ ./essentials.jl:813 [inlined]\n",
      " [11] (::VSCodeServer.var\"#198#199\"{VSCodeServer.NotebookRunCellArguments, String})()\n",
      "    @ VSCodeServer ~/.vscode/extensions/julialang.language-julia-1.38.2/scripts/packages/VSCodeServer/src/serve_notebook.jl:19\n",
      " [12] withpath(f::VSCodeServer.var\"#198#199\"{VSCodeServer.NotebookRunCellArguments, String}, path::String)\n",
      "    @ VSCodeServer ~/.vscode/extensions/julialang.language-julia-1.38.2/scripts/packages/VSCodeServer/src/repl.jl:249\n",
      " [13] notebook_runcell_request(conn::VSCodeServer.JSONRPC.JSONRPCEndpoint{Base.PipeEndpoint, Base.PipeEndpoint}, params::VSCodeServer.NotebookRunCellArguments)\n",
      "    @ VSCodeServer ~/.vscode/extensions/julialang.language-julia-1.38.2/scripts/packages/VSCodeServer/src/serve_notebook.jl:13\n",
      " [14] dispatch_msg(x::VSCodeServer.JSONRPC.JSONRPCEndpoint{Base.PipeEndpoint, Base.PipeEndpoint}, dispatcher::VSCodeServer.JSONRPC.MsgDispatcher, msg::Dict{String, Any})\n",
      "    @ VSCodeServer.JSONRPC ~/.vscode/extensions/julialang.language-julia-1.38.2/scripts/packages/JSONRPC/src/typed.jl:67\n",
      " [15] serve_notebook(pipename::String, outputchannel_logger::Base.CoreLogging.SimpleLogger; crashreporting_pipename::String)\n",
      "    @ VSCodeServer ~/.vscode/extensions/julialang.language-julia-1.38.2/scripts/packages/VSCodeServer/src/serve_notebook.jl:139\n",
      " [16] top-level scope\n",
      "    @ ~/.vscode/extensions/julialang.language-julia-1.38.2/scripts/notebook/notebook.jl:32"
     ]
    }
   ],
   "source": [
    "using Plots; pyplot()\n",
    "x  = [-2:0.05:2;]\n",
    "y = [-1:0.05:3;]\n",
    "z = [f([x,y]) for x in x, y in y]\n",
    "\n",
    "minZ = minimum(z[:]);  \n",
    "maxZ = maximum(z[:]);\n",
    "\n",
    "COL = append!([colorant\"blue\",colorant\"lime\"],range(colorant\"yellow\",colorant\"red\",length=20))\n",
    "c =  minZ .+ (maxZ-minZ).*log.(1 .+z .- minZ) ./ log(1+maxZ-minZ)\n",
    "\n",
    "Plots.plot(x,y,z,st=:surface,color=cgrad(COL,scale=:exp),#cgrad(:jet,c),\n",
    "xlabel = \"x\",ylabel=\"y\",zlabel=\"f(x,y)\",zguidefontrotation=45,camera=(-30,30))"
   ]
  },
  {
   "attachments": {},
   "cell_type": "markdown",
   "metadata": {},
   "source": [
    "### Optim.jl: Gradient required"
   ]
  },
  {
   "cell_type": "code",
   "execution_count": 13,
   "metadata": {},
   "outputs": [],
   "source": [
    "using Optim\n",
    "\n",
    "# Box \n",
    "lower = [0.3, -2.1]\n",
    "upper = [30.0, 40.0]\n",
    "\n",
    "# Initial guess\n",
    "x₀ = [0.4,0.5];"
   ]
  },
  {
   "attachments": {},
   "cell_type": "markdown",
   "metadata": {},
   "source": [
    "### Available algos"
   ]
  },
  {
   "cell_type": "code",
   "execution_count": 14,
   "metadata": {},
   "outputs": [
    {
     "data": {
      "text/plain": [
       "LBFGS{Nothing, LineSearches.InitialStatic{Float64}, LineSearches.HagerZhang{Float64, Base.RefValue{Bool}}, Optim.var\"#20#22\"}(10, LineSearches.InitialStatic{Float64}\n",
       "  alpha: Float64 1.0\n",
       "  scaled: Bool false\n",
       ", LineSearches.HagerZhang{Float64, Base.RefValue{Bool}}\n",
       "  delta: Float64 0.1\n",
       "  sigma: Float64 0.9\n",
       "  alphamax: Float64 Inf\n",
       "  rho: Float64 5.0\n",
       "  epsilon: Float64 1.0e-6\n",
       "  gamma: Float64 0.66\n",
       "  linesearchmax: Int64 50\n",
       "  psi3: Float64 0.1\n",
       "  display: Int64 0\n",
       "  mayterminate: Base.RefValue{Bool}\n",
       ", nothing, Optim.var\"#20#22\"(), Flat(), true)"
      ]
     },
     "metadata": {},
     "output_type": "display_data"
    }
   ],
   "source": [
    "inner_optimizer = GradientDescent()\n",
    "inner_optimizer = ConjugateGradient()\n",
    "momentum  = 10\n",
    "inner_optimizer = LBFGS(m = momentum)"
   ]
  },
  {
   "cell_type": "code",
   "execution_count": 15,
   "metadata": {},
   "outputs": [
    {
     "name": "stdout",
     "output_type": "stream",
     "text": [
      "-------ForwardDiff with ∇--------\n"
     ]
    },
    {
     "name": "stdout",
     "output_type": "stream",
     "text": [
      "summary(res) = \"Fminbox with L-BFGS\"\n",
      "minimum(res) = 5.361093300320716e-17\n",
      "Optim.minimizer(res) = [0.9999999926780513, 0.9999999853561207]\n",
      "Optim.iterations(res) = 4\n",
      "Optim.iteration_limit_reached(res) = false\n",
      "Optim.f_calls(res) = 78\n",
      "Optim.converged(res) = true\n",
      "-------Grdient--------\n",
      "summary(res) = \"Fminbox with L-BFGS\"\n",
      "minimum(res) = 1.383848755571263e-22\n",
      "Optim.minimizer(res) = [1.0000000000117624, 1.0000000000235425]\n",
      "Optim.iterations(res) = 4\n",
      "Optim.iteration_limit_reached(res) = false\n",
      "Optim.f_calls(res) = 74\n",
      "Optim.converged(res) = true\n"
     ]
    },
    {
     "data": {
      "text/plain": [
       "true"
      ]
     },
     "metadata": {},
     "output_type": "display_data"
    }
   ],
   "source": [
    "# Set tolerances\n",
    "#Ncalls to f \n",
    "outer_iters = 40\n",
    "#Ncalls to alg step\n",
    "iters = 30\n",
    "# gradient tolerance \n",
    "GTOL = 1e-12\n",
    "options = Optim.Options(g_tol = 1e-12, outer_iterations = outer_iters, iterations = iters, store_trace = true)\n",
    "\n",
    "# Forward Diff\n",
    "res_fdif = optimize(f, lower, upper, x₀, Fminbox(inner_optimizer),options, autodiff = :finite )\n",
    "res = optimize(f, g!, lower, upper, x₀, Fminbox(inner_optimizer))\n",
    "\n",
    "function show_results(res)\n",
    "    @show summary(res)\n",
    "    @show minimum(res)\n",
    "    @show Optim.minimizer(res)\n",
    "    @show Optim.iterations(res)\n",
    "    @show Optim.iteration_limit_reached(res)\n",
    "    # @show length(Optim.f_trace(res))\n",
    "    @show Optim.f_calls(res)\n",
    "    @show Optim.converged(res)\n",
    "end\n",
    "\n",
    "println(\"-------ForwardDiff with ∇--------\")\n",
    "show_results(res_fdif)\n",
    "\n",
    "println(\"-------Grdient--------\")\n",
    "show_results(res)"
   ]
  },
  {
   "attachments": {},
   "cell_type": "markdown",
   "metadata": {},
   "source": [
    "### Optim.jl: Gradient free "
   ]
  },
  {
   "cell_type": "code",
   "execution_count": 17,
   "metadata": {},
   "outputs": [
    {
     "name": "stdout",
     "output_type": "stream",
     "text": [
      "-------Nelder Mead--------\n",
      "summary(res) = \"Fminbox with Nelder-Mead\"\n",
      "minimum(res) = 3.0143331585332986e-9\n",
      "Optim.minimizer(res) = [0.9999499855832705, 0.9999022383782905]\n",
      "Optim.iterations(res) = 5\n",
      "Optim.iteration_limit_reached(res) = true\n",
      "Optim.f_calls(res) = 350\n",
      "Optim.converged(res) = true\n"
     ]
    },
    {
     "data": {
      "text/plain": [
       "true"
      ]
     },
     "metadata": {},
     "output_type": "display_data"
    }
   ],
   "source": [
    "inner_optimizer = NelderMead()\n",
    "res_nmead = optimize(f, lower, upper, x₀, Fminbox(inner_optimizer),options)\n",
    "\n",
    "\n",
    "println(\"-------Nelder Mead--------\")\n",
    "show_results(res_nmead)"
   ]
  },
  {
   "cell_type": "markdown",
   "metadata": {},
   "source": [
    "## Black Box Optim"
   ]
  },
  {
   "cell_type": "code",
   "execution_count": 113,
   "metadata": {},
   "outputs": [
    {
     "name": "stdout",
     "output_type": "stream",
     "text": [
      "Starting optimization with optimizer DiffEvoOpt{FitPopulation{Float64}, RadiusLimitedSelector, BlackBoxOptim.AdaptiveDiffEvoRandBin{3}, RandomBound{ContinuousRectSearchSpace}}\n",
      "0.00 secs, 0 evals, 0 steps\n",
      "DE modify state:\n",
      "\n",
      "Optimization stopped after 19105 steps and 0.02 seconds\n",
      "Termination reason: Too many steps (101) without any function evaluations (probably search has converged)\n",
      "Steps per second = 1059921.40\n",
      "Function evals per second = 1031349.85\n",
      "Improvements/step = Inf\n",
      "Total function evaluations = 18590\n",
      "\n",
      "\n",
      "Best candidate found: [1.0, 1.0]\n",
      "\n",
      "Fitness: 0.000000000\n",
      "\n"
     ]
    },
    {
     "ename": "MethodError",
     "evalue": "MethodError: no method matching replace(::String, ::Regex, ::String)\n\nClosest candidates are:\n  replace(!Matched::Union{Function, Type}, ::Any; count)\n   @ Base set.jl:739\n  replace(::String, !Matched::Pair...; count) where N\n   @ Base strings/util.jl:684\n  replace(::AbstractString, !Matched::Pair...; count)\n   @ Base strings/util.jl:783\n  ...\n",
     "output_type": "error",
     "traceback": [
      "MethodError: no method matching replace(::String, ::Regex, ::String)\n",
      "\n",
      "Closest candidates are:\n",
      "  replace(!Matched::Union{Function, Type}, ::Any; count)\n",
      "   @ Base set.jl:739\n",
      "  replace(::String, !Matched::Pair...; count) where N\n",
      "   @ Base strings/util.jl:684\n",
      "  replace(::AbstractString, !Matched::Pair...; count)\n",
      "   @ Base strings/util.jl:783\n",
      "  ...\n",
      "\n",
      "\n",
      "Stacktrace:\n",
      " [1] write_result(ctrl::BlackBoxOptim.OptRunController{DiffEvoOpt{FitPopulation{Float64}, RadiusLimitedSelector, BlackBoxOptim.AdaptiveDiffEvoRandBin{3}, RandomBound{ContinuousRectSearchSpace}}, BlackBoxOptim.ProblemEvaluator{Float64, Float64, TopListArchive{Float64, ScalarFitnessScheme{true}}, FunctionBasedProblem{var\"#13#14\", ScalarFitnessScheme{true}, ContinuousRectSearchSpace, Nothing}}}, filename::String)\n",
      "   @ BlackBoxOptim ~/.julia/packages/BlackBoxOptim/I3lfp/src/opt_controller.jl:376\n",
      " [2] write_result(ctrl::BlackBoxOptim.OptRunController{DiffEvoOpt{FitPopulation{Float64}, RadiusLimitedSelector, BlackBoxOptim.AdaptiveDiffEvoRandBin{3}, RandomBound{ContinuousRectSearchSpace}}, BlackBoxOptim.ProblemEvaluator{Float64, Float64, TopListArchive{Float64, ScalarFitnessScheme{true}}, FunctionBasedProblem{var\"#13#14\", ScalarFitnessScheme{true}, ContinuousRectSearchSpace, Nothing}}})\n",
      "   @ BlackBoxOptim ~/.julia/packages/BlackBoxOptim/I3lfp/src/opt_controller.jl:373\n",
      " [3] run!(oc::BlackBoxOptim.OptController{DiffEvoOpt{FitPopulation{Float64}, RadiusLimitedSelector, BlackBoxOptim.AdaptiveDiffEvoRandBin{3}, RandomBound{ContinuousRectSearchSpace}}, FunctionBasedProblem{var\"#13#14\", ScalarFitnessScheme{true}, ContinuousRectSearchSpace, Nothing}})\n",
      "   @ BlackBoxOptim ~/.julia/packages/BlackBoxOptim/I3lfp/src/opt_controller.jl:476\n",
      " [4] bboptimize(optctrl::BlackBoxOptim.OptController{DiffEvoOpt{FitPopulation{Float64}, RadiusLimitedSelector, BlackBoxOptim.AdaptiveDiffEvoRandBin{3}, RandomBound{ContinuousRectSearchSpace}}, FunctionBasedProblem{var\"#13#14\", ScalarFitnessScheme{true}, ContinuousRectSearchSpace, Nothing}}, x0::Vector{Vector{Float64}}; kwargs::Base.Pairs{Symbol, Union{}, Tuple{}, NamedTuple{(), Tuple{}}})\n",
      "   @ BlackBoxOptim ~/.julia/packages/BlackBoxOptim/I3lfp/src/bboptimize.jl:83\n",
      " [5] bboptimize(optctrl::BlackBoxOptim.OptController{DiffEvoOpt{FitPopulation{Float64}, RadiusLimitedSelector, BlackBoxOptim.AdaptiveDiffEvoRandBin{3}, RandomBound{ContinuousRectSearchSpace}}, FunctionBasedProblem{var\"#13#14\", ScalarFitnessScheme{true}, ContinuousRectSearchSpace, Nothing}}, x0::Vector{Vector{Float64}})\n",
      "   @ BlackBoxOptim ~/.julia/packages/BlackBoxOptim/I3lfp/src/bboptimize.jl:64\n",
      " [6] bboptimize(functionOrProblem::Function, x0::Vector{Vector{Float64}}, parameters::Dict{Symbol, Any}; kwargs::Base.Pairs{Symbol, Any, NTuple{16, Symbol}, NamedTuple{(:SearchRange, :Method, :MaxTime, :MaxFuncEvals, :FitnessScheme, :FitnessTolerance, :MaxSteps, :TraceMode, :PopulationSize, :TargetFitness, :SaveTrace, :SaveFitnessTraceToCsv, :SaveParameters, :MaxStepsWithoutProgress, :RngSeed, :RandomizeRngSeed), Tuple{Vector{Tuple{Float64, Float64}}, Symbol, Int64, Int64, ScalarFitnessScheme{true}, Float64, Int64, Symbol, Int64, Nothing, Bool, Bool, Bool, Int64, Int64, Bool}}})\n",
      "   @ BlackBoxOptim ~/.julia/packages/BlackBoxOptim/I3lfp/src/bboptimize.jl:88\n",
      " [7] bboptimize\n",
      "   @ ~/.julia/packages/BlackBoxOptim/I3lfp/src/bboptimize.jl:86 [inlined]\n",
      " [8] top-level scope\n",
      "   @ ~/Repositories/gitHub/mine/Julia_by_Notebooks/optim/rosenborck.ipynb:10"
     ]
    }
   ],
   "source": [
    "using BlackBoxOptim\n",
    "\n",
    "\n",
    "method = :probabilistic_descent\n",
    "method = :de_rand_1_bin_radiuslimited\n",
    "method = :adaptive_de_rand_1_bin_radiuslimited\n",
    "\n",
    "good_guess = [3.0, 7.2]\n",
    "two_good_guesses = [[3.0, 7.2], [3.0, 7.2]]\n",
    "res = bboptimize(f, two_good_guesses; \n",
    "SearchRange = [(lower[1], upper[1]), (lower[2], upper[2])], \n",
    " Method = method,\n",
    " MaxTime = 10,\n",
    " MaxFuncEvals = 20,\n",
    " FitnessScheme  = MinimizingFitnessScheme, # fitness scheme to be used\n",
    " FitnessTolerance = 1e-8, # fitness scheme to be used\n",
    " MaxSteps = 10000,\n",
    " TraceMode = :verbose,\n",
    " PopulationSize = 60,\n",
    " TargetFitness = nothing, # optimal (target) fitness, if known\n",
    " SaveTrace      = true,\n",
    " SaveFitnessTraceToCsv = true,\n",
    " SaveParameters = true,\n",
    " MaxStepsWithoutProgress = 10000,\n",
    " RngSeed        = 1234,   # The specific random seed to set before any random numbers are generated. The seed is randomly selected if RandomizeRngSeed is true, and this parameter is updated with its actual value.\n",
    " RandomizeRngSeed = false,\n",
    " )\n",
    "\n",
    "# Maximum time allowed in seconds. \n",
    "\n",
    "# Number of function evaluations allowed, this needs  MaxTime to be false then the MaxFuncEvals plays a role\n",
    "println(\"-------BBO Otpim--------\")\n",
    "# Access to the solution \n",
    "@show best_candidate(res)\n",
    "@show best_fitness(res)\n",
    "@show minimum(res)\n",
    "@show iteration_converged(res)\n",
    "@show res.stop_reason\n",
    "@show fitness_scheme(res)\n",
    "writetable(res)"
   ]
  }
 ],
 "metadata": {
  "kernelspec": {
   "display_name": "Julia 1.9.0",
   "language": "julia",
   "name": "julia-1.9"
  },
  "language_info": {
   "file_extension": ".jl",
   "mimetype": "application/julia",
   "name": "julia",
   "version": "1.9.0"
  },
  "orig_nbformat": 4
 },
 "nbformat": 4,
 "nbformat_minor": 2
}
