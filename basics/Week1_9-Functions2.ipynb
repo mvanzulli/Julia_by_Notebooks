{
 "cells": [
  {
   "cell_type": "code",
   "execution_count": null,
   "metadata": {},
   "outputs": [],
   "source": [
    "# Setting up a custom stylesheet in IJulia\n",
    "file = open(\"style.css\") # A .css file in the same folder as this notebook file\n",
    "styl = read(file, String) # Read the file\n",
    "HTML(\"$styl\") # Output as HTML"
   ]
  },
  {
   "cell_type": "markdown",
   "metadata": {},
   "source": [
    "# Functions in Julia II"
   ]
  },
  {
   "cell_type": "markdown",
   "metadata": {
    "collapsed": true
   },
   "source": [
    "<h2>In this lecture</h2>\n",
    "\n",
    "- [Outcome](#Outcome)\n",
    "- [One-line function definition](#One-line-function-definition)\n",
    "- [Multi-line function definition](#Multi-line-function-definition)\n",
    "- [Functions with multiple methods](#Functions-with-multiple-methods)\n"
   ]
  },
  {
   "cell_type": "markdown",
   "metadata": {},
   "source": [
    "<hr>\n",
    "<h2>Outcome</h2>\n",
    "\n",
    "After this lecture, you will be able to: \n",
    "\n",
    "- Define a function using the ``functionname(varlist) = ...`` one-line syntax\n",
    "- Define a function using the ``functionname(varlist) ... end`` multiline syntax\n",
    "- Define an additional method for an existing user-defined function\n",
    "- Specify types for input values in a user-defined function"
   ]
  },
  {
   "cell_type": "markdown",
   "metadata": {},
   "source": [
    "[Back to the top](#In-this-lecture)"
   ]
  },
  {
   "cell_type": "markdown",
   "metadata": {},
   "source": [
    "<h2>One-line function definition</h2>\n",
    "\n",
    "This has an extremely simple form. For example:"
   ]
  },
  {
   "cell_type": "code",
   "execution_count": null,
   "metadata": {},
   "outputs": [],
   "source": [
    "myfunc(firstvar) = 20*firstvar  "
   ]
  },
  {
   "cell_type": "markdown",
   "metadata": {},
   "source": [
    "The rules are for defining one-line function are: \n",
    "- the name of the function must be a valid variable name (in this case ``myfunc`` is the name)\n",
    "- the arguments of the function must be valid variable names\n",
    "- the argument must be in parentheses (and as we'll see, multiple arguments must be separated by commas)\n",
    "- the name, with arguments in parentheses goes on the left of an assignment\n",
    "- the code for evaluating the function goes on the right.\n",
    "\n",
    "By the way, it's not quite accurate that the code must always fit on one line---it must be a single statement, but so-called compound statements are often written with line breaks, to help the human reader. We will not be using compound statements in one-line functions in this course."
   ]
  },
  {
   "cell_type": "code",
   "execution_count": null,
   "metadata": {},
   "outputs": [],
   "source": [
    "myfunc(333.2222)       # then we just call it like any other function"
   ]
  },
  {
   "cell_type": "markdown",
   "metadata": {},
   "source": [
    "Here is an illustration of a two-argument function:"
   ]
  },
  {
   "cell_type": "code",
   "execution_count": null,
   "metadata": {},
   "outputs": [],
   "source": [
    "addxtoy(x,y) = x + y   # not supposed to be useful! it just shows how the job is done"
   ]
  },
  {
   "cell_type": "code",
   "execution_count": null,
   "metadata": {},
   "outputs": [],
   "source": [
    "addxtoy(33, -22.2)     # mixed types: illustrates that for quick and dirty code, we can (mostly) ignore types"
   ]
  },
  {
   "cell_type": "markdown",
   "metadata": {},
   "source": [
    "[Back to the top](#In-this-lecture)"
   ]
  },
  {
   "cell_type": "markdown",
   "metadata": {},
   "source": [
    "<h2>Multi-line function definition</h2>\n",
    "\n",
    "Let's face it, computing should not be all be done with one-liners. Julia supplies the following syntax for functions that take up multiple lines:"
   ]
  },
  {
   "cell_type": "code",
   "execution_count": null,
   "metadata": {},
   "outputs": [],
   "source": [
    "function nextfunc(a, b, c)  # this line names your function and specifies the inputs\n",
    "    a*b + c                # here go your (usually quite a few) lines\n",
    "\n",
    "    #  ... just illustrating the possiblity of using white space and additional comments \n",
    "end\n"
   ]
  },
  {
   "cell_type": "code",
   "execution_count": null,
   "metadata": {},
   "outputs": [],
   "source": [
    "nextfunc(7,5,3)           # again, just call it like any other function"
   ]
  },
  {
   "cell_type": "markdown",
   "metadata": {},
   "source": [
    "To illustrate multi-line functions a bit more, here's a useful device for debugging: a line inside a function that gives you the value and the type of a variable. \n",
    "\n",
    "It relies on the escape character ``$`` in strings, which you recall DOESN'T create a dollar sign, but instead modifies how the string is built.\n"
   ]
  },
  {
   "cell_type": "code",
   "execution_count": null,
   "metadata": {},
   "outputs": [],
   "source": [
    "function showdebugprintln(testvar)\n",
    "    println(\"inside the showdebugprint() now\")   #this line announces where the report is coming from\n",
    "    println(\"The type of testvar is $(typeof(testvar)) and the value of testvar is $testvar\")\n",
    "    #                  and this line reports what value, and hence what type, testvar actually has here\n",
    "end\n",
    "    "
   ]
  },
  {
   "cell_type": "code",
   "execution_count": null,
   "metadata": {},
   "outputs": [],
   "source": [
    "a = ['1',2.]\n",
    "showdebugprintln(a)"
   ]
  },
  {
   "cell_type": "markdown",
   "metadata": {},
   "source": [
    "[Back to the top](#In-this-lecture)"
   ]
  },
  {
   "cell_type": "markdown",
   "metadata": {},
   "source": [
    "<h2>Functions with multiple methods</h2>\n",
    "\n",
    "As we saw in Lecture 8, many code bodies can share one function name. Julia knows which of them is relevant via the type signature. The type signature is simply the list of types of all the variables that are used to call the function. \n",
    "\n",
    "Here is a function that basically parallels the ``cos`` function."
   ]
  },
  {
   "cell_type": "code",
   "execution_count": null,
   "metadata": {},
   "outputs": [],
   "source": [
    "mycos(x) = cos(x)"
   ]
  },
  {
   "cell_type": "code",
   "execution_count": null,
   "metadata": {},
   "outputs": [],
   "source": [
    "mycos(.7)  # standard value of cos (angle in radians, of course)"
   ]
  },
  {
   "cell_type": "markdown",
   "metadata": {},
   "source": [
    "Now we extend ``mycos()`` by providing a function for computing the cosine from the hypotenuse and adjacent side: "
   ]
  },
  {
   "cell_type": "code",
   "execution_count": null,
   "metadata": {},
   "outputs": [],
   "source": [
    "mycos(adj, hyp) = adj/hyp"
   ]
  },
  {
   "cell_type": "code",
   "execution_count": null,
   "metadata": {},
   "outputs": [],
   "source": [
    "mycos(12, 13)  # the cosine of the smaller angle in a standard 5, 12, 13 triangle"
   ]
  },
  {
   "cell_type": "code",
   "execution_count": null,
   "metadata": {},
   "outputs": [],
   "source": [
    "methods(mycos)  #Check this carefully!"
   ]
  },
  {
   "cell_type": "markdown",
   "metadata": {},
   "source": [
    "Again, ``methods()`` is your friend. Note especially that each method is given in terms of its input variables by type.\n",
    "\n",
    "$\\dots$ and note that, as functions, these are quite badly written! We do not cover good style in this course, but see https://docs.julialang.org/en/v1/manual/style-guide/index.html for a somewhat advanced introduction to good style in Julia code. Please remember that good style is a work in progress, not a rigid etiquette!"
   ]
  },
  {
   "cell_type": "markdown",
   "metadata": {},
   "source": [
    "As with every user-defined function, it is easy for these to go wrong. Suppose we want to make sure the ``mycos(x)`` is never called for integer values. We can require the input to be ``Float64`` as follows:"
   ]
  },
  {
   "cell_type": "code",
   "execution_count": null,
   "metadata": {},
   "outputs": [],
   "source": [
    "mycos(thet::Float64) = cos(thet)   # note  the use of :: to force Julia to check the type "
   ]
  },
  {
   "cell_type": "markdown",
   "metadata": {},
   "source": [
    "However, there are now **three** methods, and integers can still be passed (check this for yourself). We actually intended to replace ``mycos(x)`` with ``mycos(thet::Float64)``. To do so, first we must clear the old version. Unfortunately, the only way to clear a notebook is to clear everything, for example by starting again. We can do that here, by going up to the menu line (the one with \"File    Edit   View\" etc.), clicking on Kernel and selecting Restart & Clear Output. Do so, and use the down arrow to navigate to the window below **without hiting Shift-Enter even once!**"
   ]
  },
  {
   "cell_type": "code",
   "execution_count": null,
   "metadata": {},
   "outputs": [],
   "source": [
    "mycos(thet::Float64) = cos(thet)  # so passing mycos() an integer will now cause Julia to throw an error\n",
    "mycos(hyp, adj)      = adj/hyp"
   ]
  },
  {
   "cell_type": "code",
   "execution_count": null,
   "metadata": {},
   "outputs": [],
   "source": [
    "mycos(1)     # ... this shouldn't work now ..."
   ]
  },
  {
   "cell_type": "markdown",
   "metadata": {},
   "source": [
    "[Back to the top](#In-this-lecture)"
   ]
  }
 ],
 "metadata": {
  "hide_input": false,
  "kernelspec": {
   "display_name": "Julia 1.6.0",
   "language": "julia",
   "name": "julia-1.6"
  },
  "language_info": {
   "file_extension": ".jl",
   "mimetype": "application/julia",
   "name": "julia",
   "version": "1.6.0"
  },
  "varInspector": {
   "cols": {
    "lenName": 16,
    "lenType": 16,
    "lenVar": 40
   },
   "kernels_config": {
    "python": {
     "delete_cmd_postfix": "",
     "delete_cmd_prefix": "del ",
     "library": "var_list.py",
     "varRefreshCmd": "print(var_dic_list())"
    },
    "r": {
     "delete_cmd_postfix": ") ",
     "delete_cmd_prefix": "rm(",
     "library": "var_list.r",
     "varRefreshCmd": "cat(var_dic_list()) "
    }
   },
   "types_to_exclude": [
    "module",
    "function",
    "builtin_function_or_method",
    "instance",
    "_Feature"
   ],
   "window_display": false
  }
 },
 "nbformat": 4,
 "nbformat_minor": 1
}
