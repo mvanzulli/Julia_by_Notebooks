{
 "cells": [
  {
   "cell_type": "code",
   "execution_count": 1,
   "metadata": {},
   "outputs": [
    {
     "data": {
      "text/html": [
       "<link href='http://fonts.googleapis.com/css?family=Alegreya+Sans:100,300,400,500,700,800,900,100italic,300italic,400italic,500italic,700italic,800italic,900italic' rel='stylesheet' type='text/css'>\r\n",
       "<link href='http://fonts.googleapis.com/css?family=Arvo:400,700,400italic' rel='stylesheet' type='text/css'>\r\n",
       "<link href='http://fonts.googleapis.com/css?family=PT+Mono' rel='stylesheet' type='text/css'>\r\n",
       "<link href='http://fonts.googleapis.com/css?family=Shadows+Into+Light' rel='stylesheet' type='text/css'>\r\n",
       "<link href='http://fonts.googleapis.com/css?family=Philosopher:400,700,400italic,700italic' rel='stylesheet' type='text/css'>\r\n",
       "\r\n",
       "<style>\r\n",
       "\r\n",
       "@font-face {\r\n",
       "    font-family: \"Computer Modern\";\r\n",
       "    src: url('http://mirrors.ctan.org/fonts/cm-unicode/fonts/otf/cmunss.otf');\r\n",
       "}\r\n",
       "\r\n",
       "\r\n",
       "\r\n",
       "/* Formatting for header cells */\r\n",
       ".text_cell_render h1 {\r\n",
       "    font-family: 'Philosopher', sans-serif;\r\n",
       "    font-weight: 400;\r\n",
       "    font-size: 2.2em;\r\n",
       "    line-height: 100%;\r\n",
       "    color: rgb(0, 80, 120);\r\n",
       "    margin-bottom: 0.1em;\r\n",
       "    margin-top: 0.1em;\r\n",
       "    display: block;\r\n",
       "}\t\r\n",
       ".text_cell_render h2 {\r\n",
       "    font-family: 'Philosopher', serif;\r\n",
       "    font-weight: 400;\r\n",
       "    font-size: 1.9em;\r\n",
       "    line-height: 100%;\r\n",
       "    color: rgb(200,100,0);\r\n",
       "    margin-bottom: 0.1em;\r\n",
       "    margin-top: 0.1em;\r\n",
       "    display: block;\r\n",
       "}\t\r\n",
       "\r\n",
       ".text_cell_render h3 {\r\n",
       "    font-family: 'Philosopher', serif;\r\n",
       "    margin-top:12px;\r\n",
       "    margin-bottom: 3px;\r\n",
       "    font-style: italic;\r\n",
       "    color: rgb(94,127,192);\r\n",
       "}\r\n",
       "\r\n",
       ".text_cell_render h4 {\r\n",
       "    font-family: 'Philosopher', serif;\r\n",
       "}\r\n",
       "\r\n",
       ".text_cell_render h5 {\r\n",
       "    font-family: 'Alegreya Sans', sans-serif;\r\n",
       "    font-weight: 300;\r\n",
       "    font-size: 16pt;\r\n",
       "    color: grey;\r\n",
       "    font-style: italic;\r\n",
       "    margin-bottom: .1em;\r\n",
       "    margin-top: 0.1em;\r\n",
       "    display: block;\r\n",
       "}\r\n",
       "\r\n",
       ".text_cell_render h6 {\r\n",
       "    font-family: 'PT Mono', sans-serif;\r\n",
       "    font-weight: 300;\r\n",
       "    font-size: 10pt;\r\n",
       "    color: grey;\r\n",
       "    margin-bottom: 1px;\r\n",
       "    margin-top: 1px;\r\n",
       "}\r\n",
       "\r\n",
       ".CodeMirror{\r\n",
       "        font-family: \"PT Mono\";\r\n",
       "        font-size: 100%;\r\n",
       "}\r\n",
       "\r\n",
       "</style>\r\n",
       "\r\n"
      ],
      "text/plain": [
       "HTML{String}(\"<link href='http://fonts.googleapis.com/css?family=Alegreya+Sans:100,300,400,500,700,800,900,100italic,300italic,400italic,500italic,700italic,800italic,900italic' rel='stylesheet' type='text/css'>\\r\\n<link href='http://fonts.googleapis.com/css?family=Arvo:400,700,400italic' rel='stylesheet' type='text/css'>\\r\\n<link href='http://fonts.googleapis.com/css?family=PT+Mono' rel='stylesheet' type='text/css'>\\r\\n<link href='http://fonts.googleapis.com/css?family=Shadows+Into+Light' rel='stylesheet' type='text/css'>\\r\\n<link href='http://fonts.googleapis.com/css?family=Philosopher:400,700,400italic,700italic' rel='stylesheet' type='text/css'>\\r\\n\\r\\n<style>\\r\\n\\r\\n@font-face {\\r\\n    font-family: \\\"Computer Modern\\\";\\r\\n    src: url('http://mirrors.ctan.org/fonts/cm-unicode/fonts/otf/cmunss.otf');\\r\\n}\\r\\n\\r\\n\\r\\n\\r\\n/* Formatting for header cells */\\r\\n.text_cell_render h1 {\\r\\n    font-family: 'Philosopher', sans-serif;\\r\\n    font-weight: 400;\\r\\n    font-size: 2.2em;\\r\\n    line-height: 100%;\\r\\n    color: rgb(0, 80, 120);\\r\\n    margin-bottom: 0.1em;\\r\\n    margin-top: 0.1em;\\r\\n    display: block;\\r\\n}\\t\\r\\n.text_cell_render h2 {\\r\\n    font-family: 'Philosopher', serif;\\r\\n    font-weight: 400;\\r\\n    font-size: 1.9em;\\r\\n    line-height: 100%;\\r\\n    color: rgb(200,100,0);\\r\\n    margin-bottom: 0.1em;\\r\\n    margin-top: 0.1em;\\r\\n    display: block;\\r\\n}\\t\\r\\n\\r\\n.text_cell_render h3 {\\r\\n    font-family: 'Philosopher', serif;\\r\\n    margin-top:12px;\\r\\n    margin-bottom: 3px;\\r\\n    font-style: italic;\\r\\n    color: rgb(94,127,192);\\r\\n}\\r\\n\\r\\n.text_cell_render h4 {\\r\\n    font-family: 'Philosopher', serif;\\r\\n}\\r\\n\\r\\n.text_cell_render h5 {\\r\\n    font-family: 'Alegreya Sans', sans-serif;\\r\\n    font-weight: 300;\\r\\n    font-size: 16pt;\\r\\n    color: grey;\\r\\n    font-style: italic;\\r\\n    margin-bottom: .1em;\\r\\n    margin-top: 0.1em;\\r\\n    display: block;\\r\\n}\\r\\n\\r\\n.text_cell_render h6 {\\r\\n    font-family: 'PT Mono', sans-serif;\\r\\n    font-weight: 300;\\r\\n    font-size: 10pt;\\r\\n    color: grey;\\r\\n    margin-bottom: 1px;\\r\\n    margin-top: 1px;\\r\\n}\\r\\n\\r\\n.CodeMirror{\\r\\n        font-family: \\\"PT Mono\\\";\\r\\n        font-size: 100%;\\r\\n}\\r\\n\\r\\n</style>\\r\\n\\r\\n\")"
      ]
     },
     "execution_count": 1,
     "metadata": {},
     "output_type": "execute_result"
    }
   ],
   "source": [
    "# Setting up a custom stylesheet in IJulia\n",
    "file = open(\"style.css\") # A .css file in the same folder as this notebook file\n",
    "styl = read(file, String) # Read the file\n",
    "HTML(\"$styl\") # Output as HTML"
   ]
  },
  {
   "cell_type": "markdown",
   "metadata": {},
   "source": [
    "<h1> The Ebola epidemic of 2014 </h1>"
   ]
  },
  {
   "cell_type": "markdown",
   "metadata": {},
   "source": [
    "<h2>In this notebook</h2>\n",
    "\n",
    "- [Outcome](#Outcome)\n",
    "- [Introducing our main example for this week and the next](#Introducing-our-main-example-for-this-week-and-the-next)\n",
    "- [Ebola Virus Disease (EVD)](#Ebola-Virus-Disease)\n",
    "- [The West African EVD epidemic](#The-West-African-EVD-epidemic)\n",
    "- [Models vs data vs reality: the case of West African EVD](#Models-vs-data-vs-reality:-the-case-of-West-African-EVD)"
   ]
  },
  {
   "cell_type": "markdown",
   "metadata": {},
   "source": [
    "[Back to the top](#In-this-lecture)"
   ]
  },
  {
   "cell_type": "markdown",
   "metadata": {},
   "source": [
    "<h2>Outcome</h2>\n",
    "\n",
    "After this lecture, you will be able to\n",
    "- Describe Ebola Virus Disease \n",
    "- Outline the time course of the West African EVD epidemic \n",
    "- Distinguish the reality of EVD from two related things: models of the disease and the available data on the disease\n",
    "\n",
    "[Back to the top](#In-this-lecture)"
   ]
  },
  {
   "cell_type": "markdown",
   "metadata": {},
   "source": [
    "<h2>Introducing our main example for this week and the next</h2>\n",
    "\n",
    "\n",
    "In this lecture, we introduce an example that will provide us with a rich set of tasks to do in Julia. This week, we will see how to read and write data, how to write loops, how to make plots. And next week, we will put together everything in a modelling project.\n",
    "\n",
    "The particular example is the dramatic case of the outbreak of Ebola Virus Disease in West Africa in 2014. This is good for our purposes, because \n",
    "1. It was clearly a very important event, so it is nice to know that learning Julia can help us understand it.\n",
    "2. There is quite a lot of data on the event that is fairly easily obtainable.\n",
    "3. Many of the basic things to learn about in computing can be illustrated by examples from epidemics."
   ]
  },
  {
   "cell_type": "markdown",
   "metadata": {},
   "source": [
    "[Back to the top](#In-this-lecture)"
   ]
  },
  {
   "cell_type": "markdown",
   "metadata": {},
   "source": [
    "<h2>Ebola Virus Disease</h2>\n",
    "\n",
    "\n",
    "Ebola Virus Disease (EVD) is spread by direct contact with body fluids. Unlike flu and colds, airborne particles do not spread the disease.\n",
    "\n",
    "An infected person is likely to get very ill (symptoms include pain, fever, diarrhea and vomiting) and also quite likely to die---in the epidemic we'll consider, **up to 7 out of every 10 untreated cases died, and overall approximately 1 out of 3 known cases died**.\n",
    "\n",
    "It is not entirely clear how infectious the disease really is. People in daily contact with an ill person, in particular those who frequently touch them and/or their clothing and bedclothes seem to be at high risk unless special precautions are taken. At one stage of the epidemic, it was said that 1 in every 10 cases were medical personnel involved in caring for the sick. On the other hand, merely being in the presence of ill people seems not to be a big risk.\n",
    "\n",
    "The disease lasts about three weeks in most people, after which they are either dead or the virus is no longer active in their bodies. The infectious period seems to be concentrated around the third week, which is when the disease is most acute.\n",
    "\n",
    "However, in some cases it appears that the virus may persist in an inactive form in the bodies of survivors. It is not clear how long this lasts nor how likely survivors are to become infectious again. Sadly, it is true that many survivors continue to experience health problems due to EVD."
   ]
  },
  {
   "cell_type": "markdown",
   "metadata": {},
   "source": [
    "[Back to the top](#In-this-lecture)"
   ]
  },
  {
   "cell_type": "markdown",
   "metadata": {},
   "source": [
    "<h2>The West African EVD epidemic</h2>\n",
    "\n",
    "Up to 2013, all known cases of EVD were in Central Africa. But in 2014, several cases were reported from Guinea in West Africa, and these were eventually traced back to a child who became ill and died in December 2013.\n",
    "\n",
    "This child infected three family members who subsequently also died. The social context is one of small villages fairly near each other, and the disease spread into neighbouring villages. From there it rapidly spread into other areas of Guinea, and also to the neighbouring countries Liberia and Sierra Leone (but not to other neighbouring countries, except briefly into Mali). In all three countries, it spread not only through small villages but also through towns and cities.\n",
    "\n",
    "Because a single case of EVD can potentially infect many others in a short time, and because it kills so many who get ill, it represents a very serious health threat anywhere that it appears. In Guinea it was at first not recognised, because many diseases have similar symptoms and it was unknown in West Africa. Moreover, Guinea, Liberia and Sierra Leone are countries that have suffered extensive disruption through civil war and consequently have weak health systems and there is much mistrust of government. The initial response to EVD in these countries could not contain it, and it became widespread within months. Throughout much of 2014, the number of new cases per week seemed to be increasing.\n",
    "\n",
    "While in many ways one would wish that the world responded more rapidly and fully, eventually there was a strong effort, particularly by Doctors Without Borders and the World Health Organisation. They, together with local health authorities and the government, were able eventually to provided effective treatment and prevention measures. By late 2014, the number of new cases per week was not growing and throughout 2015 the new cases per week became fewer and fewer.\n",
    "\n",
    "In most of 2016, there were no new cases in the three worst-affected countries. The international emergency is over. However, the health systems in all three countries remain on the alert for possible flare-ups. And of course, the survivors are still living with the severe consequences of the epidemic.\n",
    "\n"
   ]
  },
  {
   "cell_type": "markdown",
   "metadata": {},
   "source": [
    "[Back to the top](#In-this-lecture)"
   ]
  },
  {
   "cell_type": "markdown",
   "metadata": {},
   "source": [
    "<h2>Models vs data vs reality: the case of West African EVD</h2>\n",
    "\n",
    "So what does this have to do with writing Julia code? \n",
    "\n",
    "Answer: Julia can be used to explore the EVD epidemic, and this process of exploring will illustrate many of the features of the language.\n",
    "\n",
    "In the notbooks of this folder, you will explore publicly available data, in the process learning about the following aspects of Julia:\n",
    "- handling date-time data\n",
    "- \"for\" loops\n",
    "- making plots\n",
    "- \"if\" statements\n",
    "as well as getting practice with array slicing and user-defined functions.\n",
    "\n",
    "In the lectures of Week 3, you will study one particular way of modelling the epidemic. In the process, you will \n",
    "- extend your familiarity with for loops\n",
    "- learn how to pass parameters to functions\n",
    "- learn how to use a IJulia notebook for hand-fitting a curve to data\n",
    "\n",
    "You might be tempted to think that the model of the epidemic is really how it spread. Please resist that! A model is *ALWAYS* far simpler than the real thing. In fact, a model is simpler than the data it is fitted to. This is the whole point of the model: it is fairly simple and can be completely understood. The real world is hugely more intricate than is captured in the data (for example, the actual social relations, the actual contacts between people, the role of travelling from place to place, the role of animals, etc., etc., are  not part of the data at all).\n",
    "\n",
    "The hope is that by measuring relevant things (in this case, keeping count of how many people have got ill), one can understand enough to be able to do something useful. The most important thing in the case of the EVD epidemic was to realise that it  *was* an epidemic, and could potentially spread through the entire country, possibly the entire region, and possibly even the whole world.\n",
    "\n",
    "Note that a serious viral epidemic spread in 1918 through the whole world (in that case, though, infection was through air-borne particles, greatly increasing the number of people that one ill person could infect).\n",
    "\n",
    "It is this that EVD modelling hopes to understand, and eventually to help to contain."
   ]
  },
  {
   "cell_type": "markdown",
   "metadata": {},
   "source": [
    "[Back to the top](#In-this-lecture)"
   ]
  }
 ],
 "metadata": {
  "hide_input": false,
  "kernelspec": {
   "display_name": "Julia 1.7.2",
   "language": "julia",
   "name": "julia-1.7"
  },
  "language_info": {
   "file_extension": ".jl",
   "mimetype": "application/julia",
   "name": "julia",
   "version": "1.7.2"
  },
  "varInspector": {
   "cols": {
    "lenName": 16,
    "lenType": 16,
    "lenVar": 40
   },
   "kernels_config": {
    "python": {
     "delete_cmd_postfix": "",
     "delete_cmd_prefix": "del ",
     "library": "var_list.py",
     "varRefreshCmd": "print(var_dic_list())"
    },
    "r": {
     "delete_cmd_postfix": ") ",
     "delete_cmd_prefix": "rm(",
     "library": "var_list.r",
     "varRefreshCmd": "cat(var_dic_list()) "
    }
   },
   "types_to_exclude": [
    "module",
    "function",
    "builtin_function_or_method",
    "instance",
    "_Feature"
   ],
   "window_display": false
  }
 },
 "nbformat": 4,
 "nbformat_minor": 1
}
