{
 "cells": [
  {
   "cell_type": "code",
   "execution_count": 1,
   "metadata": {},
   "outputs": [
    {
     "data": {
      "text/html": [
       "<link href='http://fonts.googleapis.com/css?family=Alegreya+Sans:100,300,400,500,700,800,900,100italic,300italic,400italic,500italic,700italic,800italic,900italic' rel='stylesheet' type='text/css'>\r\n",
       "<link href='http://fonts.googleapis.com/css?family=Arvo:400,700,400italic' rel='stylesheet' type='text/css'>\r\n",
       "<link href='http://fonts.googleapis.com/css?family=PT+Mono' rel='stylesheet' type='text/css'>\r\n",
       "<link href='http://fonts.googleapis.com/css?family=Shadows+Into+Light' rel='stylesheet' type='text/css'>\r\n",
       "<link href='http://fonts.googleapis.com/css?family=Philosopher:400,700,400italic,700italic' rel='stylesheet' type='text/css'>\r\n",
       "\r\n",
       "<style>\r\n",
       "\r\n",
       "@font-face {\r\n",
       "    font-family: \"Computer Modern\";\r\n",
       "    src: url('http://mirrors.ctan.org/fonts/cm-unicode/fonts/otf/cmunss.otf');\r\n",
       "}\r\n",
       "\r\n",
       "\r\n",
       "\r\n",
       "/* Formatting for header cells */\r\n",
       ".text_cell_render h1 {\r\n",
       "    font-family: 'Philosopher', sans-serif;\r\n",
       "    font-weight: 400;\r\n",
       "    font-size: 2.2em;\r\n",
       "    line-height: 100%;\r\n",
       "    color: rgb(0, 80, 120);\r\n",
       "    margin-bottom: 0.1em;\r\n",
       "    margin-top: 0.1em;\r\n",
       "    display: block;\r\n",
       "}\t\r\n",
       ".text_cell_render h2 {\r\n",
       "    font-family: 'Philosopher', serif;\r\n",
       "    font-weight: 400;\r\n",
       "    font-size: 1.9em;\r\n",
       "    line-height: 100%;\r\n",
       "    color: rgb(200,100,0);\r\n",
       "    margin-bottom: 0.1em;\r\n",
       "    margin-top: 0.1em;\r\n",
       "    display: block;\r\n",
       "}\t\r\n",
       "\r\n",
       ".text_cell_render h3 {\r\n",
       "    font-family: 'Philosopher', serif;\r\n",
       "    margin-top:12px;\r\n",
       "    margin-bottom: 3px;\r\n",
       "    font-style: italic;\r\n",
       "    color: rgb(94,127,192);\r\n",
       "}\r\n",
       "\r\n",
       ".text_cell_render h4 {\r\n",
       "    font-family: 'Philosopher', serif;\r\n",
       "}\r\n",
       "\r\n",
       ".text_cell_render h5 {\r\n",
       "    font-family: 'Alegreya Sans', sans-serif;\r\n",
       "    font-weight: 300;\r\n",
       "    font-size: 16pt;\r\n",
       "    color: grey;\r\n",
       "    font-style: italic;\r\n",
       "    margin-bottom: .1em;\r\n",
       "    margin-top: 0.1em;\r\n",
       "    display: block;\r\n",
       "}\r\n",
       "\r\n",
       ".text_cell_render h6 {\r\n",
       "    font-family: 'PT Mono', sans-serif;\r\n",
       "    font-weight: 300;\r\n",
       "    font-size: 10pt;\r\n",
       "    color: grey;\r\n",
       "    margin-bottom: 1px;\r\n",
       "    margin-top: 1px;\r\n",
       "}\r\n",
       "\r\n",
       ".CodeMirror{\r\n",
       "        font-family: \"PT Mono\";\r\n",
       "        font-size: 100%;\r\n",
       "}\r\n",
       "\r\n",
       "</style>\r\n",
       "\r\n"
      ],
      "text/plain": [
       "HTML{String}(\"<link href='http://fonts.googleapis.com/css?family=Alegreya+Sans:100,300,400,500,700,800,900,100italic,300italic,400italic,500italic,700italic,800italic,900italic' rel='stylesheet' type='text/css'>\\r\\n<link href='http://fonts.googleapis.com/css?family=Arvo:400,700,400italic' rel='stylesheet' type='text/css'>\\r\\n<link href='http://fonts.googleapis.com/css?family=PT+Mono' rel='stylesheet' type='text/css'>\\r\\n<link href='http://fonts.googleapis.com/css?family=Shadows+Into+Light' rel='stylesheet' type='text/css'>\\r\\n<link href='http://fonts.googleapis.com/css?family=Philosopher:400,700,400italic,700italic' rel='stylesheet' type='text/css'>\\r\\n\\r\\n<style>\\r\\n\\r\\n@font-face {\\r\\n    font-family: \\\"Computer Modern\\\";\\r\\n    src: url('http://mirrors.ctan.org/fonts/cm-unicode/fonts/otf/cmunss.otf');\\r\\n}\\r\\n\\r\\n\\r\\n\\r\\n/* Formatting for header cells */\\r\\n.text_cell_render h1 {\\r\\n    font-family: 'Philosopher', sans-serif;\\r\\n    font-weight: 400;\\r\\n    font-size: 2.2em;\\r\\n    line-height: 100%;\\r\\n    color: rgb(0, 80, 120);\\r\\n    margin-bottom: 0.1em;\\r\\n    margin-top: 0.1em;\\r\\n    display: block;\\r\\n}\\t\\r\\n.text_cell_render h2 {\\r\\n    font-family: 'Philosopher', serif;\\r\\n    font-weight: 400;\\r\\n    font-size: 1.9em;\\r\\n    line-height: 100%;\\r\\n    color: rgb(200,100,0);\\r\\n    margin-bottom: 0.1em;\\r\\n    margin-top: 0.1em;\\r\\n    display: block;\\r\\n}\\t\\r\\n\\r\\n.text_cell_render h3 {\\r\\n    font-family: 'Philosopher', serif;\\r\\n    margin-top:12px;\\r\\n    margin-bottom: 3px;\\r\\n    font-style: italic;\\r\\n    color: rgb(94,127,192);\\r\\n}\\r\\n\\r\\n.text_cell_render h4 {\\r\\n    font-family: 'Philosopher', serif;\\r\\n}\\r\\n\\r\\n.text_cell_render h5 {\\r\\n    font-family: 'Alegreya Sans', sans-serif;\\r\\n    font-weight: 300;\\r\\n    font-size: 16pt;\\r\\n    color: grey;\\r\\n    font-style: italic;\\r\\n    margin-bottom: .1em;\\r\\n    margin-top: 0.1em;\\r\\n    display: block;\\r\\n}\\r\\n\\r\\n.text_cell_render h6 {\\r\\n    font-family: 'PT Mono', sans-serif;\\r\\n    font-weight: 300;\\r\\n    font-size: 10pt;\\r\\n    color: grey;\\r\\n    margin-bottom: 1px;\\r\\n    margin-top: 1px;\\r\\n}\\r\\n\\r\\n.CodeMirror{\\r\\n        font-family: \\\"PT Mono\\\";\\r\\n        font-size: 100%;\\r\\n}\\r\\n\\r\\n</style>\\r\\n\\r\\n\")"
      ]
     },
     "execution_count": 1,
     "metadata": {},
     "output_type": "execute_result"
    }
   ],
   "source": [
    "# Setting up a custom stylesheet in IJulia\n",
    "file = open(\"./../../style.css\") # A .css file in the same folder as this notebook file\n",
    "styl = read(file,String) # Read the file\n",
    "HTML(\"$styl\") # Output as HTML"
   ]
  },
  {
   "cell_type": "markdown",
   "metadata": {},
   "source": [
    "<h1> Multiple curves in a single diagram </h1>"
   ]
  },
  {
   "cell_type": "markdown",
   "metadata": {},
   "source": [
    "<h2>In this notebook</h2>\n",
    "\n",
    "- [Outcome](#Outcome)\n",
    "- [\"if\" statements](#\"if\"-statements)\n",
    "- [Using \"for\" and \"if\" to fill in missing data](#Using-\"for\"-and-\"if\"-to-fill-in-missing-data)\n",
    "- [Plotting the different countries' data simultaneously](#Plotting-the-different-countries'-data-simultaneously)\n",
    "- [Customising the simultaneous plot](#Customising-the-simultaneous-plot)"
   ]
  },
  {
   "cell_type": "markdown",
   "metadata": {},
   "source": [
    "[Back to the top](#In-this-lecture)"
   ]
  },
  {
   "cell_type": "markdown",
   "metadata": {},
   "source": [
    "<h2>Outcome</h2>\n",
    "\n",
    "After this notebook, you will be able to\n",
    "- Use ``if`` to check for and remove non-numerical values in the data\n",
    "- Plot several data series simultaneously\n",
    "- Provide different markers and colours for the several data series\n",
    "- Provide names to use in a legend for the plot\n",
    "\n",
    "[Back to the top](#In-this-lecture)"
   ]
  },
  {
   "cell_type": "markdown",
   "metadata": {},
   "source": [
    "<h2>\"if\" statements</h2>\n",
    "\n",
    "The ``if`` statement, and variations thereof, are one of the most fundamental structures in  any programming language.\n",
    "\n",
    "Basically, from time to time, a program needs to choose between a path on which to proceed.\n",
    "\n",
    "The simplest choice is between doing something and doing nothing, which applies to a few of  the data in our West African EVD data set. Let's load it now to illustrate; we slice to show only the last 10 lines, which is where the missing data are. "
   ]
  },
  {
   "cell_type": "markdown",
   "metadata": {},
   "source": [
    "[Back to the top](#In-this-lecture)"
   ]
  },
  {
   "cell_type": "code",
   "execution_count": 2,
   "metadata": {},
   "outputs": [
    {
     "data": {
      "text/plain": [
       "10×9 Matrix{Any}:\n",
       " 123  1201  672  427  319  249     129     525     224\n",
       " 114   982  613  411  310  174     106     397     197\n",
       " 102   779  481  412  305  115      75     252     101\n",
       "  87   528  337  398  264   33      24      97      49\n",
       "  66   309  202  281  186   12      11      16       5\n",
       "  51   260  182  248  171   12      11        \"–\"     \"–\"\n",
       "  40   239  160  226  149   13      11        \"-\"     \"-\"\n",
       "  23   176  110  168  108    8       2        \"–\"     \"–\"\n",
       "   9   130   82  122   80    8       2        \"–\"     \"–\"\n",
       "   0    49   29   49   29     \"–\"     \"–\"     \"–\"     \"–\""
      ]
     },
     "execution_count": 2,
     "metadata": {},
     "output_type": "execute_result"
    }
   ],
   "source": [
    "using DelimitedFiles\n",
    "EVDdata = DelimitedFiles.readdlm(\"wikipediaEVDdatesconverted.csv\", ',') # again: don't forget the delimiter!\n",
    "EVDdata[end-9:end, :] # note the use of \"end\" in the array slicing\n",
    "                      # ... and that end-9:end is a range with 10 elements"
   ]
  },
  {
   "cell_type": "markdown",
   "metadata": {},
   "source": [
    "We see that some of  them are not numbers. The last four columns (check the Wikipedia page again to confirm) are for Liberia and Sierra Leone. The absent data are because the first cases in those countries were reported after 22 March 2014.\n",
    "\n",
    "We would like to change them. First let's look at \"if\" statements, via some examples"
   ]
  },
  {
   "cell_type": "code",
   "execution_count": null,
   "metadata": {},
   "outputs": [],
   "source": [
    "a = rand() # create a random variable\n",
    "println(\"a now has the value $a\")\n",
    "if a > 0.5\n",
    "    println(\"this is quite a large value\")\n",
    "end"
   ]
  },
  {
   "cell_type": "code",
   "execution_count": null,
   "metadata": {},
   "outputs": [],
   "source": [
    "# let's run this through a for loop to see it many times\n",
    "# NB! Note the  use of indentation to mark the start and end of the for and if structures\n",
    "\n",
    "for k = 1:8\n",
    "   b = rand()\n",
    "   println(\"b now has the value $b\")\n",
    "   if b > 0.5\n",
    "      println(\"this is quite a large value\")\n",
    "   end \n",
    "end"
   ]
  },
  {
   "cell_type": "markdown",
   "metadata": {},
   "source": [
    "<h2>Using \"for\" and \"if\" to fill in missing data</h2>\n",
    "\n",
    "Now we loop over *all* the data values. We use the function ``isdigit()`` to test whether the data value can be read as a number. This function returns either \"true\" or \"false\", so it is perfect for an ``if`` test.\n",
    "\n",
    "Now, ``isdigit()`` as a test only works if the argument is a character. Since we have no idea what the data may be, we first convert it to a string, and then test if the first character in the string one of the digits. Of course, this is not perfect: if the entry is the string \"1 January\" it will appear to be a number by this test. But we know that we're testing for entries that do not start with a digit, so that's fine.\n",
    "\n",
    "Since any string converts to a string, we can safely use the function ``string()`` to convert the numbers to strings before we test with ``isdigit()``.\n",
    "\n",
    "And of course, whenever our ``isdigit(...)`` code evaluates to ``false``, we must replace that element of the array with something useful. I choose the number 0 as the replacement, but other choices also work (notably ``NaN`` and ``missing``); the best choice depends on the context and what you want to achieve. The question of wrong and missing values is actually a fairly advanced topic in data handling and statistics, and we don't pursue it here (with some regret, because handling them is one of Julia's great strengths)."
   ]
  },
  {
   "cell_type": "code",
   "execution_count": null,
   "metadata": {},
   "outputs": [],
   "source": [
    "rows, cols = size(EVDdata)  # size() is a very useful function ... look it up with \"? size\"\n",
    "for j = 1:cols\n",
    "    for i = 1:rows  # this order goes does one column at a time\n",
    "       if !isdigit(string(EVDdata[i, j])[1]) # remember that \"!\" is the NOT operator (week 1, lecture 5)\n",
    "         EVDdata[i,j] = 0\n",
    "       end\n",
    "   end\n",
    "end"
   ]
  },
  {
   "cell_type": "markdown",
   "metadata": {},
   "source": [
    "Let's check those last few rows to see how  it worked:"
   ]
  },
  {
   "cell_type": "code",
   "execution_count": null,
   "metadata": {},
   "outputs": [],
   "source": [
    "EVDdata[end-9:end, :]"
   ]
  },
  {
   "cell_type": "markdown",
   "metadata": {},
   "source": [
    "[Back to the top](#In-this-lecture)"
   ]
  },
  {
   "cell_type": "markdown",
   "metadata": {},
   "source": [
    "<h2>Plotting the different countries' data simultaneously</h2>\n",
    "\n",
    "This is rather easy. We provide a first series for the x-values (namely the  series epidays) and then we extract as an array the three columns with the individual countries. The plot is then a really simple function statement---that's the beauty of Plots."
   ]
  },
  {
   "cell_type": "code",
   "execution_count": null,
   "metadata": {},
   "outputs": [],
   "source": [
    "# extract the data\n",
    "epidays = EVDdata[:,1]\n",
    "\n",
    "# Note that we need to convert EVDdata[:, [4, 6, 8]] that has Matrix{Any} type to either Integer or Float type to be used in plots.\n",
    "# Here we're converting to Integer type - Matrix{Int64}\n",
    "EVDcasesbycountry = convert.(Int, EVDdata[:, [4, 6, 8]])\n",
    "\n",
    "# load Plots and plot them\n",
    "using Plots\n",
    "gr()\n",
    "plot(epidays, EVDcasesbycountry)"
   ]
  },
  {
   "cell_type": "markdown",
   "metadata": {},
   "source": [
    "[Back to the top](#In-this-lecture)"
   ]
  },
  {
   "cell_type": "markdown",
   "metadata": {},
   "source": [
    "<h2>Customising the simultaneous plot</h2>\n",
    "\n",
    "The plot above is already fairly useful, but a better legend would help, and again I would prefer to be reminded that the data is only for every week or so, sometimes even less often. Title and axis labels are needed also. In this case perhaps the grid lines will also help to read the plot."
   ]
  },
  {
   "cell_type": "code",
   "execution_count": null,
   "metadata": {},
   "outputs": [],
   "source": [
    "plot(epidays, EVDcasesbycountry,\n",
    "marker = ([:octagon :star7 :square], 9),\n",
    "label  = [\"Guinea\" \"Liberia\" \"Sierra Leone\"],\n",
    "title  = \"EVD in West Africa, epidemic segregated by country\",\n",
    "xlabel = \"Days since 22 March 2014\",\n",
    "ylabel = \"Number of cases to date\",\n",
    "line   = (:scatter)\n",
    ")"
   ]
  },
  {
   "cell_type": "markdown",
   "metadata": {},
   "source": [
    "It can be tricky to place legends. Above, Plots has done it's best and it's acceptable but not great. Suppose we don't like what Plots have done and prefer to put top left.The option ``topleft`` (again, note the use of ``:`` to show it is a value of an attribute) will do nicely, we have to pass it to the keyword ``legend``, see below.\n",
    "\n",
    "Alternatively, a slightly transparent legend will show that the plot continues as expected below it (this is done by specifying an alpha level smaller than 1; look at the Plots website for details). Legends outside the plot area may also be specified.\n",
    "\n"
   ]
  },
  {
   "cell_type": "code",
   "execution_count": null,
   "metadata": {},
   "outputs": [],
   "source": [
    "plot(epidays, EVDcasesbycountry,\n",
    "legend = :topleft,\n",
    "marker = ([:octagon :star7 :square], 9),\n",
    "label  = [\"Guinea\" \"Liberia\" \"Sierra Leone\"],\n",
    "title  = \"EVD in West Africa, epidemic segregated by country\",\n",
    "xlabel = \"Days since 22 March 2014\",\n",
    "ylabel = \"Number of cases to date\",\n",
    "line   = (:scatter)\n",
    ")"
   ]
  },
  {
   "cell_type": "markdown",
   "metadata": {},
   "source": [
    "And why not save the plot?"
   ]
  },
  {
   "cell_type": "code",
   "execution_count": null,
   "metadata": {},
   "outputs": [],
   "source": [
    "savefig(\"L5testfig.pdf\")  #the extension defines the filetype, see documentation for alternativesn to PDF."
   ]
  },
  {
   "cell_type": "markdown",
   "metadata": {},
   "source": [
    "[Back to the top](#In-this-lecture)"
   ]
  }
 ],
 "metadata": {
  "@webio": {
   "lastCommId": null,
   "lastKernelId": null
  },
  "hide_input": false,
  "kernelspec": {
   "display_name": "Julia 1.7.2",
   "language": "julia",
   "name": "julia-1.7"
  },
  "language_info": {
   "file_extension": ".jl",
   "mimetype": "application/julia",
   "name": "julia",
   "version": "1.7.3"
  },
  "varInspector": {
   "cols": {
    "lenName": 16,
    "lenType": 16,
    "lenVar": 40
   },
   "kernels_config": {
    "python": {
     "delete_cmd_postfix": "",
     "delete_cmd_prefix": "del ",
     "library": "var_list.py",
     "varRefreshCmd": "print(var_dic_list())"
    },
    "r": {
     "delete_cmd_postfix": ") ",
     "delete_cmd_prefix": "rm(",
     "library": "var_list.r",
     "varRefreshCmd": "cat(var_dic_list()) "
    }
   },
   "types_to_exclude": [
    "module",
    "function",
    "builtin_function_or_method",
    "instance",
    "_Feature"
   ],
   "window_display": false
  }
 },
 "nbformat": 4,
 "nbformat_minor": 1
}
