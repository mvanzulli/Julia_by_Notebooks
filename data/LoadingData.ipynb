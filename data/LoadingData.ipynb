{
 "cells": [
  {
   "cell_type": "code",
   "execution_count": 1,
   "metadata": {},
   "outputs": [
    {
     "data": {
      "text/html": [
       "<link href='http://fonts.googleapis.com/css?family=Alegreya+Sans:100,300,400,500,700,800,900,100italic,300italic,400italic,500italic,700italic,800italic,900italic' rel='stylesheet' type='text/css'>\r\n",
       "<link href='http://fonts.googleapis.com/css?family=Arvo:400,700,400italic' rel='stylesheet' type='text/css'>\r\n",
       "<link href='http://fonts.googleapis.com/css?family=PT+Mono' rel='stylesheet' type='text/css'>\r\n",
       "<link href='http://fonts.googleapis.com/css?family=Shadows+Into+Light' rel='stylesheet' type='text/css'>\r\n",
       "<link href='http://fonts.googleapis.com/css?family=Philosopher:400,700,400italic,700italic' rel='stylesheet' type='text/css'>\r\n",
       "\r\n",
       "<style>\r\n",
       "\r\n",
       "@font-face {\r\n",
       "    font-family: \"Computer Modern\";\r\n",
       "    src: url('http://mirrors.ctan.org/fonts/cm-unicode/fonts/otf/cmunss.otf');\r\n",
       "}\r\n",
       "\r\n",
       "\r\n",
       "\r\n",
       "/* Formatting for header cells */\r\n",
       ".text_cell_render h1 {\r\n",
       "    font-family: 'Philosopher', sans-serif;\r\n",
       "    font-weight: 400;\r\n",
       "    font-size: 2.2em;\r\n",
       "    line-height: 100%;\r\n",
       "    color: rgb(0, 80, 120);\r\n",
       "    margin-bottom: 0.1em;\r\n",
       "    margin-top: 0.1em;\r\n",
       "    display: block;\r\n",
       "}\t\r\n",
       ".text_cell_render h2 {\r\n",
       "    font-family: 'Philosopher', serif;\r\n",
       "    font-weight: 400;\r\n",
       "    font-size: 1.9em;\r\n",
       "    line-height: 100%;\r\n",
       "    color: rgb(200,100,0);\r\n",
       "    margin-bottom: 0.1em;\r\n",
       "    margin-top: 0.1em;\r\n",
       "    display: block;\r\n",
       "}\t\r\n",
       "\r\n",
       ".text_cell_render h3 {\r\n",
       "    font-family: 'Philosopher', serif;\r\n",
       "    margin-top:12px;\r\n",
       "    margin-bottom: 3px;\r\n",
       "    font-style: italic;\r\n",
       "    color: rgb(94,127,192);\r\n",
       "}\r\n",
       "\r\n",
       ".text_cell_render h4 {\r\n",
       "    font-family: 'Philosopher', serif;\r\n",
       "}\r\n",
       "\r\n",
       ".text_cell_render h5 {\r\n",
       "    font-family: 'Alegreya Sans', sans-serif;\r\n",
       "    font-weight: 300;\r\n",
       "    font-size: 16pt;\r\n",
       "    color: grey;\r\n",
       "    font-style: italic;\r\n",
       "    margin-bottom: .1em;\r\n",
       "    margin-top: 0.1em;\r\n",
       "    display: block;\r\n",
       "}\r\n",
       "\r\n",
       ".text_cell_render h6 {\r\n",
       "    font-family: 'PT Mono', sans-serif;\r\n",
       "    font-weight: 300;\r\n",
       "    font-size: 10pt;\r\n",
       "    color: grey;\r\n",
       "    margin-bottom: 1px;\r\n",
       "    margin-top: 1px;\r\n",
       "}\r\n",
       "\r\n",
       ".CodeMirror{\r\n",
       "        font-family: \"PT Mono\";\r\n",
       "        font-size: 100%;\r\n",
       "}\r\n",
       "\r\n",
       "</style>\r\n",
       "\r\n"
      ],
      "text/plain": [
       "HTML{String}(\"<link href='http://fonts.googleapis.com/css?family=Alegreya+Sans:100,300,400,500,700,800,900,100italic,300italic,400italic,500italic,700italic,800italic,900italic' rel='stylesheet' type='text/css'>\\r\\n<link href='http://fonts.googleapis.com/css?family=Arvo:400,700,400italic' rel='stylesheet' type='text/css'>\\r\\n<link href='http://fonts.googleapis.com/css?family=PT+Mono' rel='stylesheet' type='text/css'>\\r\\n<link href='http://fonts.googleapis.com/css?family=Shadows+Into+Light' rel='stylesheet' type='text/css'>\\r\\n<link href='http://fonts.googleapis.com/css?family=Philosopher:400,700,400italic,700italic' rel='stylesheet' type='text/css'>\\r\\n\\r\\n<style>\\r\\n\\r\\n@font-face {\\r\\n    font-family: \\\"Computer Modern\\\";\\r\\n    src: url('http://mirrors.ctan.org/fonts/cm-unicode/fonts/otf/cmunss.otf');\\r\\n}\\r\\n\\r\\n\\r\\n\\r\\n/* Formatting for header cells */\\r\\n.text_cell_render h1 {\\r\\n    font-family: 'Philosopher', sans-serif;\\r\\n    font-weight: 400;\\r\\n    font-size: 2.2em;\\r\\n    line-height: 100%;\\r\\n    color: rgb(0, 80, 120);\\r\\n    margin-bottom: 0.1em;\\r\\n    margin-top: 0.1em;\\r\\n    display: block;\\r\\n}\\t\\r\\n.text_cell_render h2 {\\r\\n    font-family: 'Philosopher', serif;\\r\\n    font-weight: 400;\\r\\n    font-size: 1.9em;\\r\\n    line-height: 100%;\\r\\n    color: rgb(200,100,0);\\r\\n    margin-bottom: 0.1em;\\r\\n    margin-top: 0.1em;\\r\\n    display: block;\\r\\n}\\t\\r\\n\\r\\n.text_cell_render h3 {\\r\\n    font-family: 'Philosopher', serif;\\r\\n    margin-top:12px;\\r\\n    margin-bottom: 3px;\\r\\n    font-style: italic;\\r\\n    color: rgb(94,127,192);\\r\\n}\\r\\n\\r\\n.text_cell_render h4 {\\r\\n    font-family: 'Philosopher', serif;\\r\\n}\\r\\n\\r\\n.text_cell_render h5 {\\r\\n    font-family: 'Alegreya Sans', sans-serif;\\r\\n    font-weight: 300;\\r\\n    font-size: 16pt;\\r\\n    color: grey;\\r\\n    font-style: italic;\\r\\n    margin-bottom: .1em;\\r\\n    margin-top: 0.1em;\\r\\n    display: block;\\r\\n}\\r\\n\\r\\n.text_cell_render h6 {\\r\\n    font-family: 'PT Mono', sans-serif;\\r\\n    font-weight: 300;\\r\\n    font-size: 10pt;\\r\\n    color: grey;\\r\\n    margin-bottom: 1px;\\r\\n    margin-top: 1px;\\r\\n}\\r\\n\\r\\n.CodeMirror{\\r\\n        font-family: \\\"PT Mono\\\";\\r\\n        font-size: 100%;\\r\\n}\\r\\n\\r\\n</style>\\r\\n\\r\\n\")"
      ]
     },
     "execution_count": 1,
     "metadata": {},
     "output_type": "execute_result"
    }
   ],
   "source": [
    "# Setting up a custom stylesheet in IJulia\n",
    "file = open(\"style.css\") # A .css file in the same folder as this notebook file\n",
    "styl = read(file, String) # Read the file\n",
    "HTML(\"$styl\") # Output as HTML"
   ]
  },
  {
   "cell_type": "markdown",
   "metadata": {},
   "source": [
    "<h1> Ebola and Wikipedia: Loading publicly available data using Julia </h1>"
   ]
  },
  {
   "cell_type": "markdown",
   "metadata": {},
   "source": [
    "<h2>In this notebook</h2>\n",
    "\n",
    "- [Outcome](#Outcome)\n",
    "- [Wikipedia data on the West African EVD epidemic](#Wikipedia-data-on-the-West-African-EVD-epidemic)\n",
    "- [Loading the DelimitedFiles package](#Loading-the-DelimitedFiles-package)\n",
    "- [Using readdlm() to load a .csv file](#Using-readdlm-to-load-a-.csv-file)"
   ]
  },
  {
   "cell_type": "markdown",
   "metadata": {},
   "source": [
    "[Back to the top](#In-this-lecture)"
   ]
  },
  {
   "cell_type": "markdown",
   "metadata": {},
   "source": [
    "<h2>Outcome</h2>\n",
    "\n",
    "After this notebook, we will be able to\n",
    "- Find data on the West African EVD epidemic online\n",
    "- Load a Julia package\n",
    "- Use readdlm() to load this data from a .csv file\n",
    "\n",
    "[Back to the top](#In-this-lecture)"
   ]
  },
  {
   "cell_type": "markdown",
   "metadata": {},
   "source": [
    "<h2>Wikipedia data on the West African EVD epidemic</h2>\n",
    "\n",
    "Wikipedia has many excellent articles on Ebola. We will be using one with fairly complete data on the timeline of cases: https://en.wikipedia.org/wiki/West_African_Ebola_virus_epidemic_timeline_of_reported_cases_and_deaths\n",
    "\n"
   ]
  },
  {
   "cell_type": "markdown",
   "metadata": {},
   "source": [
    "[Back to the top](#In-this-lecture)"
   ]
  },
  {
   "cell_type": "markdown",
   "metadata": {},
   "source": [
    "The data is provided in wikipediaEVDraw.csv. The \".csv\" extension indicates that it is a comma-separated file, and the \"raw\" in the filename indicates that the data are imported as is, without any changes.\n",
    "\n",
    "If you would like to learn how to create .csv files from tables on the web, please go the optional lecture \"How to export web tables to .csv files\"."
   ]
  },
  {
   "cell_type": "markdown",
   "metadata": {},
   "source": [
    "[Back to the top](#In-this-lecture)"
   ]
  },
  {
   "cell_type": "markdown",
   "metadata": {},
   "source": [
    "<h2>Loading the DelimitedFiles package</h2>\n",
    "\n",
    "Here is a special Julia moment: our first time to load a package explicitly. \n",
    "\n",
    "As noted in an earlier lecture, Julia consists of some basics that are always loaded, plus extensions that can be additionally loaded. One of these is the DelimitedFiles package, which is part of the standard library, but in order to use it, you have to load it. To do so is very simple: you just enter ``using DelimitedFiles``. We need it to read the .csv file of EVD data.\n",
    "\n",
    "But *why* do we need to load the DelimitedFiles package? Why isn't it available out of the box, when you start up Julia?\n",
    "\n",
    "The reason is efficiency, of two kinds. First there is starting-up efficiency, then there is functionality efficiency.\n",
    "\n",
    "Starting-up efficiency is achieved by not cluttering the starting-up process with all kinds of features that aren't essential to starting up. Most programs go a little beyond the absolute minimum, though, and Julia is no exception. However, although .csv files are very often used, they are only one of many kinds of delimited files. It is part of the Julia philosophy to put related functionalities together in one place, so the methods for reading and writing delimited files are all in the DelimitedFiles package. This makes it both quite large and full of features that are only rarely needed---**in other words, it makes DelimitedFiles incompatible with starting-up efficiency**.\n",
    "\n",
    "Functionality efficiency is achieved by making it easy to find the functionality you need, quick to write the code you need, and for this code to run optimally fast. How this is achieved is an advanced topic, but one thing is clear: making it possible read a .csv file in out-of-the box Julia does not necessarily help with any of this.\n",
    "\n",
    "What you see here is a strong element of Julia's design, which values consistency and efficiency above convenience."
   ]
  },
  {
   "cell_type": "markdown",
   "metadata": {},
   "source": [
    "[Back to the top](#In-this-lecture)"
   ]
  },
  {
   "cell_type": "markdown",
   "metadata": {},
   "source": [
    "<h2>Using readdlm to load a .csv file</h2>\n",
    "\n",
    "Now we can start using Julia again. In a new notebook for you Week 2 Julia code, enter and execute the line below:"
   ]
  },
  {
   "cell_type": "code",
   "execution_count": 1,
   "metadata": {
    "scrolled": true
   },
   "outputs": [
    {
     "data": {
      "text/plain": [
       "54×9 Matrix{Any}:\n",
       " \"25 Nov 2015\"  28637  11314  3804  2536  …  4808     14122     3955\n",
       " \"18 Nov 2015\"  28634  11314  3804  2536     4808     14122     3955\n",
       " \"11 Nov 2015\"  28635  11314  3805  2536     4808     14122     3955\n",
       " \"4 Nov 2015\"   28607  11314  3810  2536     4808     14089     3955\n",
       " \"25 Oct 2015\"  28539  11298  3806  2535     4808     14061     3955\n",
       " \"18 Oct 2015\"  28476  11298  3803  2535  …  4808     14001     3955\n",
       " \"11 Oct 2015\"  28454  11297  3800  2534     4808     13982     3955\n",
       " \"27 Sep 2015\"  28388  11296  3805  2533     4808     13911     3955\n",
       " \"20 Sep 2015\"  28295  11295  3800  2532     4808     13823     3955\n",
       " \"13 Sep 2015\"  28220  11291  3792  2530     4808     13756     3953\n",
       " \"6 Sep 2015\"   28147  11291  3792  2530  …  4808     13683     3953\n",
       " \"30 Aug 2015\"  28073  11290  3792  2529     4808     13609     3953\n",
       " \"16 Aug 2015\"  27952  11284  3786  2524     4808     13494     3952\n",
       " ⋮                                        ⋱                     \n",
       " \"9 Aug 2014\"    1835   1011   506   373      323       730      315\n",
       " \"30 Jul 2014\"   1437    825   472   346      227       574      252\n",
       " \"23 Jul 2014\"   1201    672   427   319      129       525      224\n",
       " \"14 Jul 2014\"    982    613   411   310  …   106       397      197\n",
       " \"2 Jul 2014\"     779    481   412   305       75       252      101\n",
       " \"17 Jun 2014\"    528    337   398   264       24        97       49\n",
       " \"27 May 2014\"    309    202   281   186       11        16        5\n",
       " \"12 May 2014\"    260    182   248   171       11          \"–\"      \"–\"\n",
       " \"1 May 2014\"     239    160   226   149  …    11          \"-\"      \"-\"\n",
       " \"14 Apr 2014\"    176    110   168   108        2          \"–\"      \"–\"\n",
       " \"31 Mar 2014\"    130     82   122    80        2          \"–\"      \"–\"\n",
       " \"22 Mar 2014\"     49     29    49    29         \"–\"       \"–\"      \"–\""
      ]
     },
     "execution_count": 1,
     "metadata": {},
     "output_type": "execute_result"
    }
   ],
   "source": [
    "using DelimitedFiles\n",
    "wikiEVDraw = DelimitedFiles.readdlm(\"wikipediaEVDraw.csv\", ',')  # getting quotes right is important!"
   ]
  },
  {
   "cell_type": "markdown",
   "metadata": {},
   "source": [
    "The ``readdlm()`` function is Julia's way to read any file that consists of lines separated into data items with a delimiter of some sort. In fact, the very word \"readdlm\" is an abbreviation of \"read-with-a-delimiter\". \n",
    "\n",
    "Notice five things\n",
    "- We loaded the DelimitedFiles package with ``using DelimitedFiles``.\n",
    "- In order to use ``readdlm()``, we have to say that it sits in the DelimitedFiles package, using the dot syntax ``DelimitedFiles.readdlm()``. This use$^1$ of dot syntax for referencing an object that sits inside another object is also used in languages like C++ and Java. \n",
    "- We have used a variable to contain the data from the file (you could change the name, though, if you like)\n",
    "- The file name is given as a string, using double quotes\n",
    "- The delimeter is given as a character, using single quotes\n",
    "\n",
    "Finally, we see from the output the type the data: after they have been stored in the variable as an array, the elements are of type ``Any``. This is not good for computation---in particular, for modelling we need the data in terms of days since the start of the epidemic. Our next job is to convert the strings in columnn one into integers which give number of days since 22 March 2014.\n",
    "\n",
    "$^1$ The dot syntax for using ``readdlm()`` can be avoided, but to present that we would need to discuss modules, and that is a relatively advanced topic that is not important for this course."
   ]
  },
  {
   "cell_type": "markdown",
   "metadata": {},
   "source": [
    "[Back to the top](#In-this-lecture)"
   ]
  }
 ],
 "metadata": {
  "@webio": {
   "lastCommId": null,
   "lastKernelId": null
  },
  "hide_input": false,
  "kernelspec": {
   "display_name": "Julia 1.7.2",
   "language": "julia",
   "name": "julia-1.7"
  },
  "language_info": {
   "file_extension": ".jl",
   "mimetype": "application/julia",
   "name": "julia",
   "version": "1.7.3"
  },
  "varInspector": {
   "cols": {
    "lenName": 16,
    "lenType": 16,
    "lenVar": 40
   },
   "kernels_config": {
    "python": {
     "delete_cmd_postfix": "",
     "delete_cmd_prefix": "del ",
     "library": "var_list.py",
     "varRefreshCmd": "print(var_dic_list())"
    },
    "r": {
     "delete_cmd_postfix": ") ",
     "delete_cmd_prefix": "rm(",
     "library": "var_list.r",
     "varRefreshCmd": "cat(var_dic_list()) "
    }
   },
   "types_to_exclude": [
    "module",
    "function",
    "builtin_function_or_method",
    "instance",
    "_Feature"
   ],
   "window_display": false
  }
 },
 "nbformat": 4,
 "nbformat_minor": 1
}
