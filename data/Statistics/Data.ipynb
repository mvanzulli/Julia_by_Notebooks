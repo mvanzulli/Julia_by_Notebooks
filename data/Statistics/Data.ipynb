{
 "cells": [
  {
   "cell_type": "code",
   "execution_count": null,
   "metadata": {},
   "outputs": [],
   "source": [
    "# Setting up a custom stylesheet in IJulia\n",
    "file = open(\"style.css\") # A .css file in the same folder as this notebook file\n",
    "styl = read(file, String) # Read the file\n",
    "HTML(\"$styl\") # Output as HTML"
   ]
  },
  {
   "cell_type": "markdown",
   "metadata": {},
   "source": [
    "# Data"
   ]
  },
  {
   "cell_type": "markdown",
   "metadata": {},
   "source": [
    "<h2>In this lesson</h2>"
   ]
  },
  {
   "cell_type": "markdown",
   "metadata": {},
   "source": [
    "- [Introduction](#Introduction)\n",
    "- [Importing the packages for this lesson](#Importing-the-packages-for-this-lesson)\n",
    "- [Outcome](#Outcome)\n",
    "- [The standard normal distribution](#The-standard-normal-distribution)\n",
    "- [Using the Distributions package](#Using-the-Distributions-package)\n",
    "- [Comparing samples](#Comparing-samples)\n",
    "- [Plotly](#Plotly)"
   ]
  },
  {
   "cell_type": "markdown",
   "metadata": {},
   "source": [
    "<hr>\n",
    "<h2>Introduction</h2>"
   ]
  },
  {
   "cell_type": "markdown",
   "metadata": {},
   "source": [
    "Data is everywhere and working with data is very important in scientific computing.  Data point values come in patterns, called distributions.  Whether you are modelling, getting data from a research project, or simply want ot manufactor some data, Julia is the place to go."
   ]
  },
  {
   "cell_type": "markdown",
   "metadata": {},
   "source": [
    "We know about the `rand()` and `randn()` functions, but by using the `Distributions` package we can do much, much more."
   ]
  },
  {
   "cell_type": "markdown",
   "metadata": {},
   "source": [
    "[Back to the top](#In-this-lesson)"
   ]
  },
  {
   "cell_type": "markdown",
   "metadata": {},
   "source": [
    "<hr>\n",
    "<h2>Importing the packages for this lesson</h2>"
   ]
  },
  {
   "cell_type": "code",
   "execution_count": null,
   "metadata": {
    "scrolled": false
   },
   "outputs": [],
   "source": [
    "import Pkg\n",
    "\n",
    "Pkg.add(\"Distributions\")\n",
    "Pkg.add(\"StatsPlots\")\n",
    "Pkg.add(\"HypothesisTests\")\n",
    "Pkg.add(\"GLM\")\n",
    "Pkg.add(\"ORCA\")\n",
    "Pkg.add(\"Plots\")\n",
    "Pkg.add(\"DataFrames\")"
   ]
  },
  {
   "cell_type": "code",
   "execution_count": null,
   "metadata": {
    "scrolled": true
   },
   "outputs": [],
   "source": [
    "using Distributions\n",
    "using DataFrames\n",
    "using StatsPlots\n",
    "using HypothesisTests\n",
    "using GLM \n",
    "using ORCA\n",
    "using Plots"
   ]
  },
  {
   "cell_type": "markdown",
   "metadata": {},
   "source": [
    "Initiate GR backend for plotting"
   ]
  },
  {
   "cell_type": "code",
   "execution_count": null,
   "metadata": {},
   "outputs": [],
   "source": [
    "gr()"
   ]
  },
  {
   "cell_type": "markdown",
   "metadata": {},
   "source": [
    "<hr>\n",
    "<h2>Outcome</h2>"
   ]
  },
  {
   "cell_type": "markdown",
   "metadata": {
    "collapsed": true
   },
   "source": [
    "After successfully completing this lecture, you will be able to:\n",
    "\n",
    "- Understand and plot the standard normal distribution\n",
    "- Create a variety of random value from different distributions using the `Distributions` package\n",
    "- Plot some of the distributions in the `Distributions` package\n",
    "- Create your own data using a distribution and its parameters\n",
    "- Use the online plotting library `Plotly`"
   ]
  },
  {
   "cell_type": "markdown",
   "metadata": {},
   "source": [
    "<hr>\n",
    "<h2>The standard normal distribution</h2>"
   ]
  },
  {
   "cell_type": "markdown",
   "metadata": {},
   "source": [
    "The Julie function `rand()` allows us to return an array of randomly selected values.  The values come from a specific distribution, namely the **standard normal** distribution.  The majority of values cluster around the mean of $ 0 $ and a standard deviation of $ 1 $.  Let's get $ 1000 $ such values and attach this array to the variable `norm1`."
   ]
  },
  {
   "cell_type": "code",
   "execution_count": null,
   "metadata": {},
   "outputs": [],
   "source": [
    "# We will put a semicolon at the end to supress the output\n",
    "norm1 = randn(1000);"
   ]
  },
  {
   "cell_type": "markdown",
   "metadata": {},
   "source": [
    "We can plot this as histogram.  In the example below, we will use the keyword argument `bins`.  Setting it to $ 10 $ means that between the minimum and maximum value we create $ 10 $ equally sized ranges and count how many values occur in each range."
   ]
  },
  {
   "cell_type": "code",
   "execution_count": null,
   "metadata": {
    "scrolled": true
   },
   "outputs": [],
   "source": [
    "# Beware the pink text box!!!\n",
    "Plots.histogram(norm1, bins = 10, label = \"Standard normal distribution\", title = \"Histogram\")"
   ]
  },
  {
   "cell_type": "markdown",
   "metadata": {},
   "source": [
    "These values were selected at random.  We can check how close we came to a real mean of $ 0 $ and a standard deviation of $ 1 $."
   ]
  },
  {
   "cell_type": "code",
   "execution_count": null,
   "metadata": {},
   "outputs": [],
   "source": [
    "# Using mean()\n",
    "mean(norm1)"
   ]
  },
  {
   "cell_type": "code",
   "execution_count": null,
   "metadata": {},
   "outputs": [],
   "source": [
    "# Standard deviation using std()\n",
    "std(norm1)"
   ]
  },
  {
   "cell_type": "markdown",
   "metadata": {},
   "source": [
    "[Back to the top](#In-this-lesson)"
   ]
  },
  {
   "cell_type": "markdown",
   "metadata": {},
   "source": [
    "<hr>\n",
    "<h2>Using the Distributions package</h2>"
   ]
  },
  {
   "cell_type": "markdown",
   "metadata": {},
   "source": [
    "We can ask for random data point values for a variable to be taken from any number of discrete or continuous distributions.  This greatly expands on the standard normal distribution provided by the `randn()` function.  In this lesson we will concentrate on the continuous random variables and start with the normal distribution."
   ]
  },
  {
   "cell_type": "markdown",
   "metadata": {},
   "source": [
    "### The normal distribution"
   ]
  },
  {
   "cell_type": "markdown",
   "metadata": {},
   "source": [
    "The `Normal()` function from the Distribution package takes two arguments.  The first is the mean and the second is the required standard deviation.  We use it in conjunction with the `rand()` function so that we can specifiy how many data point values we want."
   ]
  },
  {
   "cell_type": "code",
   "execution_count": null,
   "metadata": {},
   "outputs": [],
   "source": [
    "# Recreating the standard normal distribution\n",
    "norm2 = rand(Normal(0, 1), 1000);"
   ]
  },
  {
   "cell_type": "code",
   "execution_count": null,
   "metadata": {},
   "outputs": [],
   "source": [
    "# Histogram\n",
    "Plots.histogram(norm2, bins = 10, label = \"Standard normal distribution\", title = \"Histogram\")"
   ]
  },
  {
   "cell_type": "markdown",
   "metadata": {},
   "source": [
    "Just to belabor the point, we can use `Plots` to show us the theoretical normal distribution."
   ]
  },
  {
   "cell_type": "markdown",
   "metadata": {},
   "source": [
    "Let's use plotlyjs as our plots backend from here."
   ]
  },
  {
   "cell_type": "code",
   "execution_count": null,
   "metadata": {},
   "outputs": [],
   "source": [
    "plotlyjs()"
   ]
  },
  {
   "cell_type": "code",
   "execution_count": null,
   "metadata": {},
   "outputs": [],
   "source": [
    "Plots.plot(Normal(0, 1), fill = (0.5, :blue), label = \"Standard normal distribution\",\n",
    "title = \"Density\")"
   ]
  },
  {
   "cell_type": "markdown",
   "metadata": {},
   "source": [
    "We can also fit some data to a distribution.  In the example below we use the `norm1` array and fit it to the standard normal distribution."
   ]
  },
  {
   "cell_type": "code",
   "execution_count": null,
   "metadata": {},
   "outputs": [],
   "source": [
    "fit(Normal, norm1)"
   ]
  },
  {
   "cell_type": "markdown",
   "metadata": {
    "collapsed": true
   },
   "source": [
    "We can plot other distributions as well.  Here is the $ {\\chi}^{2} $ distribution with different degrees of freedom."
   ]
  },
  {
   "cell_type": "code",
   "execution_count": null,
   "metadata": {},
   "outputs": [],
   "source": [
    "Plots.plot(Chisq(3), fill = (0.25, :blue), label = \"3 degrees of freedom\")\n",
    "Plots.plot!(Chisq(5), fill = (0.25, :orange), label = \"5 degrees of feedom\")\n",
    "Plots.plot!(Chisq(10), fill = (0.25, :deepskyblue), label = \"10 degrees of freedom\")"
   ]
  },
  {
   "cell_type": "markdown",
   "metadata": {},
   "source": [
    "The exponential distribution with scale parameter $ \\theta $."
   ]
  },
  {
   "cell_type": "code",
   "execution_count": null,
   "metadata": {},
   "outputs": [],
   "source": [
    "Plots.plot(Exponential(2), fill = (0.25, :blue), label = \"Scale parameter 2\")\n",
    "Plots.plot!(Exponential(4), fill = (0.25, :orange), label = \"Scale parameter 4\")\n",
    "Plots.plot!(Exponential(6), fill = (0.25, :deepskyblue), label = \"Scale parameter 6\")"
   ]
  },
  {
   "cell_type": "markdown",
   "metadata": {},
   "source": [
    "[Back to the top](#In-this-lesson)"
   ]
  },
  {
   "cell_type": "markdown",
   "metadata": {},
   "source": [
    "<hr>\n",
    "<h2>Comparing samples</h2>"
   ]
  },
  {
   "cell_type": "markdown",
   "metadata": {},
   "source": [
    "The reason for the detour to a quick peek into the distributions package, is that we want to create arrays of data point values or elements that are picked at random, each drawn from a specific distribution."
   ]
  },
  {
   "cell_type": "markdown",
   "metadata": {},
   "source": [
    "So, imagine that we compare the results of two sets of experiments or observed outcomes.  These can take on many, many form.  We have seen data from an Ebola epidemic, but we can consider a lot more.  Let's keep it simple and consider the examination results of a particular course.  Imagine that we have the results of two consecutive years.  Our aim is to learn how to use Julia.  So, we don't need actual results.  We can simply simulate some results.  You can well imagine that these values can be stored as arrays!"
   ]
  },
  {
   "cell_type": "markdown",
   "metadata": {},
   "source": [
    "If $ 100 $ students take the examination each year, we can use the `rand()` function to generate random values.  As argument, though, we pass a specific distribution.  We'll use the normal distribution with a mean and a standard deviation."
   ]
  },
  {
   "cell_type": "code",
   "execution_count": null,
   "metadata": {},
   "outputs": [],
   "source": [
    "year1 = rand(Normal(67, 10), 100)\n",
    "year2 = rand(Normal(71, 15), 100);"
   ]
  },
  {
   "cell_type": "markdown",
   "metadata": {},
   "source": [
    "Our aim will be to compare these.  The average scored for each year differs.  Are they statistically different, though?  This is not a course in statistics, but using Julia, we'll see how easy it is to tell us if there is such a difference."
   ]
  },
  {
   "cell_type": "markdown",
   "metadata": {},
   "source": [
    "For now, let's plot the examination results as theoretical distributions."
   ]
  },
  {
   "cell_type": "code",
   "execution_count": null,
   "metadata": {},
   "outputs": [],
   "source": [
    "Plots.plot(Normal(67, 10), fill = (0.5, :orange), label = \"Year 1\", title = \"Boxplot\")\n",
    "Plots.plot!(Normal(71, 15), fill = (0.5, :blue), label = \"Year 2\")"
   ]
  },
  {
   "cell_type": "markdown",
   "metadata": {},
   "source": [
    "We can get more statistical information from these two distributions."
   ]
  },
  {
   "cell_type": "code",
   "execution_count": null,
   "metadata": {},
   "outputs": [],
   "source": [
    "# Skewness\n",
    "skewness(year1), skewness(year2)"
   ]
  },
  {
   "cell_type": "code",
   "execution_count": null,
   "metadata": {},
   "outputs": [],
   "source": [
    "# Kurtosis\n",
    "kurtosis(year1), kurtosis(year2)"
   ]
  },
  {
   "cell_type": "markdown",
   "metadata": {},
   "source": [
    "Now let's compare these two year by way of Student's *t*-test."
   ]
  },
  {
   "cell_type": "code",
   "execution_count": null,
   "metadata": {},
   "outputs": [],
   "source": [
    "EqualVarianceTTest(year1, year2)"
   ]
  },
  {
   "cell_type": "markdown",
   "metadata": {},
   "source": [
    "Imagine instead that these were the same students going on from year $ 1 $ to year $ 2 $.  We want to know if there is a correlation between the marks in the two years."
   ]
  },
  {
   "cell_type": "code",
   "execution_count": null,
   "metadata": {},
   "outputs": [],
   "source": [
    "data = DataFrame(One = year1, Two = year2);"
   ]
  },
  {
   "cell_type": "code",
   "execution_count": null,
   "metadata": {},
   "outputs": [],
   "source": [
    "first(data, 5)"
   ]
  },
  {
   "cell_type": "code",
   "execution_count": null,
   "metadata": {
    "scrolled": false
   },
   "outputs": [],
   "source": [
    "OLS = glm(@formula(One ~ Two), data, Normal(), IdentityLink())"
   ]
  },
  {
   "cell_type": "markdown",
   "metadata": {},
   "source": [
    "[Back to the top](#In-this-lesson)"
   ]
  },
  {
   "cell_type": "markdown",
   "metadata": {},
   "source": [
    "## Plotly"
   ]
  },
  {
   "cell_type": "markdown",
   "metadata": {},
   "source": [
    "Plotly is a collabrotaive / social website for plotting.  Let's have a look."
   ]
  },
  {
   "cell_type": "code",
   "execution_count": null,
   "metadata": {
    "scrolled": true
   },
   "outputs": [],
   "source": [
    "Plots.plot(Plots.fakedata(50, 5), w = 1)"
   ]
  },
  {
   "cell_type": "markdown",
   "metadata": {},
   "source": [
    "[Back to the top](#In-this-lesson)"
   ]
  }
 ],
 "metadata": {
  "@webio": {
   "lastCommId": null,
   "lastKernelId": null
  },
  "anaconda-cloud": {},
  "kernelspec": {
   "display_name": "Julia 1.6.0",
   "language": "julia",
   "name": "julia-1.6"
  },
  "language_info": {
   "file_extension": ".jl",
   "mimetype": "application/julia",
   "name": "julia",
   "version": "1.6.0"
  }
 },
 "nbformat": 4,
 "nbformat_minor": 1
}
