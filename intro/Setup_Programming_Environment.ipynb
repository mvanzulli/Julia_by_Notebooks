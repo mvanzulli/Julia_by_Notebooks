{
 "cells": [
  {
   "cell_type": "code",
   "execution_count": 1,
   "metadata": {},
   "outputs": [
    {
     "data": {
      "text/html": [
       "<link href='http://fonts.googleapis.com/css?family=Alegreya+Sans:100,300,400,500,700,800,900,100italic,300italic,400italic,500italic,700italic,800italic,900italic' rel='stylesheet' type='text/css'>\r\n",
       "<link href='http://fonts.googleapis.com/css?family=Arvo:400,700,400italic' rel='stylesheet' type='text/css'>\r\n",
       "<link href='http://fonts.googleapis.com/css?family=PT+Mono' rel='stylesheet' type='text/css'>\r\n",
       "<link href='http://fonts.googleapis.com/css?family=Shadows+Into+Light' rel='stylesheet' type='text/css'>\r\n",
       "<link href='http://fonts.googleapis.com/css?family=Philosopher:400,700,400italic,700italic' rel='stylesheet' type='text/css'>\r\n",
       "\r\n",
       "<style>\r\n",
       "\r\n",
       "@font-face {\r\n",
       "    font-family: \"Computer Modern\";\r\n",
       "    src: url('http://mirrors.ctan.org/fonts/cm-unicode/fonts/otf/cmunss.otf');\r\n",
       "}\r\n",
       "\r\n",
       "\r\n",
       "\r\n",
       "/* Formatting for header cells */\r\n",
       ".text_cell_render h1 {\r\n",
       "    font-family: 'Philosopher', sans-serif;\r\n",
       "    font-weight: 400;\r\n",
       "    font-size: 2.2em;\r\n",
       "    line-height: 100%;\r\n",
       "    color: rgb(0, 80, 120);\r\n",
       "    margin-bottom: 0.1em;\r\n",
       "    margin-top: 0.1em;\r\n",
       "    display: block;\r\n",
       "}\t\r\n",
       ".text_cell_render h2 {\r\n",
       "    font-family: 'Philosopher', serif;\r\n",
       "    font-weight: 400;\r\n",
       "    font-size: 1.9em;\r\n",
       "    line-height: 100%;\r\n",
       "    color: rgb(200,100,0);\r\n",
       "    margin-bottom: 0.1em;\r\n",
       "    margin-top: 0.1em;\r\n",
       "    display: block;\r\n",
       "}\t\r\n",
       "\r\n",
       ".text_cell_render h3 {\r\n",
       "    font-family: 'Philosopher', serif;\r\n",
       "    margin-top:12px;\r\n",
       "    margin-bottom: 3px;\r\n",
       "    font-style: italic;\r\n",
       "    color: rgb(94,127,192);\r\n",
       "}\r\n",
       "\r\n",
       ".text_cell_render h4 {\r\n",
       "    font-family: 'Philosopher', serif;\r\n",
       "}\r\n",
       "\r\n",
       ".text_cell_render h5 {\r\n",
       "    font-family: 'Alegreya Sans', sans-serif;\r\n",
       "    font-weight: 300;\r\n",
       "    font-size: 16pt;\r\n",
       "    color: grey;\r\n",
       "    font-style: italic;\r\n",
       "    margin-bottom: .1em;\r\n",
       "    margin-top: 0.1em;\r\n",
       "    display: block;\r\n",
       "}\r\n",
       "\r\n",
       ".text_cell_render h6 {\r\n",
       "    font-family: 'PT Mono', sans-serif;\r\n",
       "    font-weight: 300;\r\n",
       "    font-size: 10pt;\r\n",
       "    color: grey;\r\n",
       "    margin-bottom: 1px;\r\n",
       "    margin-top: 1px;\r\n",
       "}\r\n",
       "\r\n",
       ".CodeMirror{\r\n",
       "        font-family: \"PT Mono\";\r\n",
       "        font-size: 100%;\r\n",
       "}\r\n",
       "\r\n",
       "</style>\r\n",
       "\r\n"
      ],
      "text/plain": [
       "HTML{String}(\"<link href='http://fonts.googleapis.com/css?family=Alegreya+Sans:100,300,400,500,700,800,900,100italic,300italic,400italic,500italic,700italic,800italic,900italic' rel='stylesheet' type='text/css'>\\r\\n<link href='http://fonts.googleapis.com/css?family=Arvo:400,700,400italic' rel='stylesheet' type='text/css'>\\r\\n<link href='http://fonts.googleapis.com/css?family=PT+Mono' rel='stylesheet' type='text/css'>\\r\\n<link href='http://fonts.googleapis.com/css?family=Shadows+Into+Light' rel='stylesheet' type='text/css'>\\r\\n<link href='http://fonts.googleapis.com/css?family=Philosopher:400,700,400italic,700italic' rel='stylesheet' type='text/css'>\\r\\n\\r\\n<style>\\r\\n\\r\\n@font-face {\\r\\n    font-family: \\\"Computer Modern\\\";\\r\\n    src: url('http://mirrors.ctan.org/fonts/cm-unicode/fonts/otf/cmunss.otf');\\r\\n}\\r\\n\\r\\n\\r\\n\\r\\n/* Formatting for header cells */\\r\\n.text_cell_render h1 {\\r\\n    font-family: 'Philosopher', sans-serif;\\r\\n    font-weight: 400;\\r\\n    font-size: 2.2em;\\r\\n    line-height: 100%;\\r\\n    color: rgb(0, 80, 120);\\r\\n    margin-bottom: 0.1em;\\r\\n    margin-top: 0.1em;\\r\\n    display: block;\\r\\n}\\t\\r\\n.text_cell_render h2 {\\r\\n    font-family: 'Philosopher', serif;\\r\\n    font-weight: 400;\\r\\n    font-size: 1.9em;\\r\\n    line-height: 100%;\\r\\n    color: rgb(200,100,0);\\r\\n    margin-bottom: 0.1em;\\r\\n    margin-top: 0.1em;\\r\\n    display: block;\\r\\n}\\t\\r\\n\\r\\n.text_cell_render h3 {\\r\\n    font-family: 'Philosopher', serif;\\r\\n    margin-top:12px;\\r\\n    margin-bottom: 3px;\\r\\n    font-style: italic;\\r\\n    color: rgb(94,127,192);\\r\\n}\\r\\n\\r\\n.text_cell_render h4 {\\r\\n    font-family: 'Philosopher', serif;\\r\\n}\\r\\n\\r\\n.text_cell_render h5 {\\r\\n    font-family: 'Alegreya Sans', sans-serif;\\r\\n    font-weight: 300;\\r\\n    font-size: 16pt;\\r\\n    color: grey;\\r\\n    font-style: italic;\\r\\n    margin-bottom: .1em;\\r\\n    margin-top: 0.1em;\\r\\n    display: block;\\r\\n}\\r\\n\\r\\n.text_cell_render h6 {\\r\\n    font-family: 'PT Mono', sans-serif;\\r\\n    font-weight: 300;\\r\\n    font-size: 10pt;\\r\\n    color: grey;\\r\\n    margin-bottom: 1px;\\r\\n    margin-top: 1px;\\r\\n}\\r\\n\\r\\n.CodeMirror{\\r\\n        font-family: \\\"PT Mono\\\";\\r\\n        font-size: 100%;\\r\\n}\\r\\n\\r\\n</style>\\r\\n\\r\\n\")"
      ]
     },
     "execution_count": 1,
     "metadata": {},
     "output_type": "execute_result"
    }
   ],
   "source": [
    "# Setting up a custom stylesheet in IJulia\n",
    "file = open(\"style.css\") # A .css file in the same folder as this notebook file\n",
    "styl = read(file, String) # Read the file\n",
    "HTML(\"$styl\") # Output as HTML"
   ]
  },
  {
   "cell_type": "markdown",
   "metadata": {},
   "source": [
    "# Getting ready --- Julia Programming Environment"
   ]
  },
  {
   "cell_type": "markdown",
   "metadata": {},
   "source": [
    "<h2>In this notebook</h2>"
   ]
  },
  {
   "cell_type": "markdown",
   "metadata": {},
   "source": [
    "- [Outcome](#Outcome)\n",
    "- [Julia Programming Environment with IJulia](#Julia-Programming-Environment-with-IJulia)\n",
    "- [Naming, saving, opening Julia notebooks](#Naming,-saving,-opening-Julia-notebooks)\n",
    "- [A Few More Comments](#A-Few-More-Comments)\n",
    "- [Visual Studio Code](#Visual-Studio-Code)\n",
    "- [JuliaPro](#JuliaPro)\n",
    "- [What environment to choose?](#What-environment-to-choose?)"
   ]
  },
  {
   "cell_type": "markdown",
   "metadata": {},
   "source": [
    "<h2>Outcome</h2>\n",
    "\n",
    "- Install IJulia on your own computer\n",
    "- Start a new interactive Jupyter notebook using IJulia\n",
    "- Do elementary arithmetic in a Julia notebook code cell\n",
    "- Name, save and rename notebooks\n",
    "- Open an existing notebook on Jupyter notebook\n",
    "- Install VS Code and run Julia scripts\n",
    "- Install JuliaPro and Juno to run Julia scripts"
   ]
  },
  {
   "cell_type": "markdown",
   "metadata": {},
   "source": [
    "[Back to the top](#In-this-lecture)"
   ]
  },
  {
   "cell_type": "markdown",
   "metadata": {},
   "source": [
    "---"
   ]
  },
  {
   "cell_type": "markdown",
   "metadata": {},
   "source": [
    "<h2>Julia Programming Environment with IJulia</h2>\n",
    "\n",
    "\n",
    "To get interactive notebooks running we should use:\n",
    "\n",
    "Step 1: Start Julia REPL, and go to the command line.\n",
    "\n",
    "Step 2: Install IJulia by typing and entering ``Pkg.add(\"IJulia\")``.\n",
    "\n",
    "Step 3: Activate IJulia by typing and entering ``using IJulia``.\n",
    "\n",
    "Step 4: Start up IJulia by typing and entering ``notebook()``. It opens in a browser (if necessary, starting up the browser).\n",
    "\n",
    "It can be a little unclear how to shut it down. I generally first close the browser window, then return to the Julia terminal and press Ctrl-C. The other way round also works. \n",
    "\n",
    "\n",
    "If you launch Jupyter notebook using IJulia package, depending on your working directory\n",
    "\n",
    "\n",
    "Click on the New button (near the top right), selecting Julia 1.5.0 (depending on the version of Julia you have), as your notebook. It opens a new tab in your browser, using the name Untitled (I've renamed my notebook to `practice notebook`. It should look like this:\n",
    "\n",
    "<img src=\"Week1_Lecture2_2-IJuliaNotebook.png\" alt=\"(Screenshot of empty IJulia notebook)\">\n",
    "\n",
    "\n",
    "What you see is an empty notebook, with a cell ready to receive input. Note that it is a code cell, indicated by a message in the toolbar at the top of your browser page, and also by the \"In [ ]:\" to the left of the cell.\n",
    "\n",
    "You will need to ensure that cells with code in them are always code cells. Otherwise they will not do any programming tasks for you.\n",
    "\n",
    "Let's try it out! We'll enter some very elementary arithmetic expressions, and get the notebook to evaluate them by pressing Shift-Enter\n"
   ]
  },
  {
   "cell_type": "code",
   "execution_count": 4,
   "metadata": {},
   "outputs": [
    {
     "data": {
      "text/plain": [
       "2"
      ]
     },
     "execution_count": 4,
     "metadata": {},
     "output_type": "execute_result"
    }
   ],
   "source": [
    "1+1"
   ]
  },
  {
   "cell_type": "code",
   "execution_count": 6,
   "metadata": {},
   "outputs": [
    {
     "data": {
      "text/plain": [
       "-8"
      ]
     },
     "execution_count": 6,
     "metadata": {},
     "output_type": "execute_result"
    }
   ],
   "source": [
    "2003 * 2016   #\n",
    "45 - 76\n",
    "2^2*2*(4-5)"
   ]
  },
  {
   "cell_type": "markdown",
   "metadata": {},
   "source": [
    "Note that the elementary arithmetic operators are  ``+``  ``-``   ``*``   ``/``   ``^`` \n",
    "\n",
    "Parentheses should be used when there is any possibility of more than one interpretation."
   ]
  },
  {
   "cell_type": "markdown",
   "metadata": {},
   "source": [
    "[Back to the top](#In-this-lecture)"
   ]
  },
  {
   "cell_type": "markdown",
   "metadata": {},
   "source": [
    "----"
   ]
  },
  {
   "cell_type": "markdown",
   "metadata": {},
   "source": [
    "<h2>Naming, saving, opening Julia notebooks</h2>\n",
    "\n",
    "One often wants to save a notebook for future use. Jupyter notebook gives it the unhelpful name \"Untitled\", so the first step is to rename your current notebook.\n",
    "\n",
    "To do so, click on `File` (near the top left), a menu opens, click Rename... and type the name of your choice in the box that opens. Click Rename or just hit Enter.\n",
    "\n",
    "Every once in a while you should save the notebook you are currently working on, and also just before closing the notebook and leaving. \n",
    "\n",
    "To save, click on `File` and in the menu click the `Save and Checkpoint` option.\n",
    "\n",
    "One should always leave gracefully, if you can. So when done with a notebook, click on `File`, click on `Save and Checkpoint`, and then click the `Close and Halt` option. Note that this closes the notebook and the Julia kernel is shut down.\n",
    "\n",
    "At any time you wish to, you can open the notebook again. Just go the directory page, which is the very first one that Jupyter notebook opened for you. It will be there under the name you saved it as. Just click on it, and it opens in its own tab. The Julia kernel will start and you can start coding again."
   ]
  },
  {
   "cell_type": "markdown",
   "metadata": {},
   "source": [
    "[Back to the top](#In-this-lecture)"
   ]
  },
  {
   "cell_type": "markdown",
   "metadata": {},
   "source": [
    "---"
   ]
  },
  {
   "cell_type": "markdown",
   "metadata": {},
   "source": [
    "<h2>A Few More Comments</h2>\n",
    "\n",
    "### Julia is like an interpreted language\n",
    "\n",
    "What you have just seen is a demonstration of how interpreted languages work: the moment they get a complete line of code, they execute it. Python and Matlab are interpreted languages. (But see provisos below).\n",
    "\n",
    "This is the opposite of compiled languages like C and Fortran. There, the code has to be compiled before it is run.\n",
    "\n",
    "Provisos: \n",
    "*Julia doesn't actually keep an interpreter running. Instead, it uses just-in-time compilation to compile tiny bits of code and then run them. Usually, the effect is very similar to what an interpreter would be doing. And it is possible to compile code for both Matlab and Python and run the result as a free-standing program.*"
   ]
  },
  {
   "cell_type": "markdown",
   "metadata": {},
   "source": [
    "### Julia as a command line interpreter\n",
    "\n",
    "Actually, the situation here in a notebook is a bit of a luxury: one can put several lines in a cell and execute them all at once. From the command line, really one can only execute one line at a time$^1$. In this mode, it is quite similar to Python and Matlab.\n",
    "\n",
    "$^1$ Terms and conditions apply: a single command line entry can look as if it contains several lines. And one can chain several (usually very short) commands on one line."
   ]
  },
  {
   "cell_type": "markdown",
   "metadata": {},
   "source": [
    "### Code files in Julia\n",
    "\n",
    "Although Jupyter notebook (equivalently via IJulia package) is a wonderful environment in which to explore the pleasures of coding in Julia, you should know that many Julia projects consists purely of files that contain lines of Julia code. The Julia code files have `.jl` file extension, i.e. `my_first_project.jl`.\n",
    "\n",
    "This of course is how most computer programs are organised.\n",
    "\n",
    "In particular, Julia itself consists of a very basic core, written in C, the Base package, mostly written in Julia, and many extensions, some of them written in other languages but mostly written in Julia. This adds up to many thousands of lines of code, organised in hundreds of files.\n",
    "\n",
    "In this course, we will not require you to write files of Julia code."
   ]
  },
  {
   "cell_type": "markdown",
   "metadata": {},
   "source": [
    "### The Base package\n",
    "\n",
    "When you start a new Jupyter notebook with Julia kernel, you have available to you the core, the Base package and some extensions we need not mention now. But often one wants to do things that are available only in further extensions. In Julia, these extensions are called *packages*. Such packages have to be added to your Jupyter notebook session. We will cover that in Lesson 3, and use several of the extension packages in Lesson 3 and in Lesson 4."
   ]
  },
  {
   "cell_type": "markdown",
   "metadata": {},
   "source": [
    "----"
   ]
  },
  {
   "cell_type": "markdown",
   "metadata": {},
   "source": [
    "<h2>Visual Studio Code</h2>\n",
    "\n",
    "The Visual Studio Code (VS Code) is a source-code editor developed by Microsoft Corporation which includes support for debugging, embedded Git control for version controlling, syntax highlighting, code completion etc. It comes with a variety of powerful extensions for many programming languages including Julia.\n",
    "\n",
    "If you prefer a light-weighted source code editor and you want to start a properly structure Julia project with code files, you should look into the VS Code. On the course [**Resource**](https://www.coursera.org/learn/julia-programming/resources/bFfWc) page. Please follow the instructions there to install VS Code and the Julia extension.\n",
    "\n",
    "Below is a typical working environment inside VS Code. You can see how you can create a folder `JULIA` (the folder name can be anything) and put Julia code files with `.jl` extension. You can also execute your program from the VS Code terminal as shown below. *Note that on Macs, if you want to execute Julia scripts from the terminal, you have to create a symbolic link for the Julia binary (`julia`) which is explained in the Resource page linked above*.\n"
   ]
  },
  {
   "cell_type": "markdown",
   "metadata": {},
   "source": [
    "----"
   ]
  },
  {
   "cell_type": "markdown",
   "metadata": {},
   "source": [
    "<h2>JuliaPro</h2>\n",
    "\n",
    "JuliaPro is a lightweight and easy to install software package for Julia development. With standard Julia, you need three steps: Julia itself, installation of an editor (Juno/Atom/VS Code) and add the desired packages. With JuliaPro, you have all three steps above within an installer.\n",
    "\n",
    "JuliaPro makes use of Juno IDE which is a package inside of the Atom IDE that allows us to use and run Julia code. You can find more information about installation steps at below links:\n",
    "\n",
    "The official JuliaPro page: [JuliaPro](https://juliacomputing.com/products/juliapro/)\n",
    "\n",
    "Our course offers JuliaPro (with Juno) installation guide: [Course JuliaPro installation](https://www.coursera.org/learn/julia-programming/lecture/MUQvO/installing-julia-pro)"
   ]
  },
  {
   "cell_type": "markdown",
   "metadata": {},
   "source": [
    "----"
   ]
  },
  {
   "cell_type": "markdown",
   "metadata": {},
   "source": [
    "<h2>What environment to choose?</h2>\n",
    "\n",
    "You have 3 Julia programming environments for this course, namely:\n",
    "\n",
    "1. IJulia (with Jupyter notebook)\n",
    "2. VS Code (with Julia Extension)\n",
    "3. JuliaPro (with Juno IDE)\n",
    "\n",
    "There are advantages and disadvantages related to each programming environment and it all comes down to what you want to achieve. For example, if you want to prototype your idea as quickly as possible, you may prefer running the Julia code in a notebook. If you want to start a Data Science project for example, and organise your code in a modular fashion, you would want to use either VS Code / JuliaPro with Juno since you can store `.jl` code files in a modular way in a project.\n",
    "\n",
    "You can have a look at this article at your own interest to find more about what each environment can offer: [Juno VS Jupyter](https://towardsdatascience.com/juno-vs-jupyter-which-is-the-better-development-environment-for-julia-19e26b36403d)"
   ]
  },
  {
   "cell_type": "markdown",
   "metadata": {},
   "source": [
    "[Back to the top](#In-this-lecture)"
   ]
  }
 ],
 "metadata": {
  "hide_input": false,
  "kernelspec": {
   "display_name": "Julia 1.7.2",
   "language": "julia",
   "name": "julia-1.7"
  },
  "language_info": {
   "file_extension": ".jl",
   "mimetype": "application/julia",
   "name": "julia",
   "version": "1.7.2"
  },
  "varInspector": {
   "cols": {
    "lenName": 16,
    "lenType": 16,
    "lenVar": 40
   },
   "kernels_config": {
    "python": {
     "delete_cmd_postfix": "",
     "delete_cmd_prefix": "del ",
     "library": "var_list.py",
     "varRefreshCmd": "print(var_dic_list())"
    },
    "r": {
     "delete_cmd_postfix": ") ",
     "delete_cmd_prefix": "rm(",
     "library": "var_list.r",
     "varRefreshCmd": "cat(var_dic_list()) "
    }
   },
   "types_to_exclude": [
    "module",
    "function",
    "builtin_function_or_method",
    "instance",
    "_Feature"
   ],
   "window_display": false
  }
 },
 "nbformat": 4,
 "nbformat_minor": 1
}
