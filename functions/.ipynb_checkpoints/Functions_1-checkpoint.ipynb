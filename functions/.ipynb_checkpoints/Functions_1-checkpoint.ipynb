{
 "cells": [
  {
   "cell_type": "code",
   "execution_count": 1,
   "metadata": {},
   "outputs": [
    {
     "data": {
      "text/html": [
       "<link href='http://fonts.googleapis.com/css?family=Alegreya+Sans:100,300,400,500,700,800,900,100italic,300italic,400italic,500italic,700italic,800italic,900italic' rel='stylesheet' type='text/css'>\r\n",
       "<link href='http://fonts.googleapis.com/css?family=Arvo:400,700,400italic' rel='stylesheet' type='text/css'>\r\n",
       "<link href='http://fonts.googleapis.com/css?family=PT+Mono' rel='stylesheet' type='text/css'>\r\n",
       "<link href='http://fonts.googleapis.com/css?family=Shadows+Into+Light' rel='stylesheet' type='text/css'>\r\n",
       "<link href='http://fonts.googleapis.com/css?family=Philosopher:400,700,400italic,700italic' rel='stylesheet' type='text/css'>\r\n",
       "\r\n",
       "<style>\r\n",
       "\r\n",
       "@font-face {\r\n",
       "    font-family: \"Computer Modern\";\r\n",
       "    src: url('http://mirrors.ctan.org/fonts/cm-unicode/fonts/otf/cmunss.otf');\r\n",
       "}\r\n",
       "\r\n",
       "\r\n",
       "\r\n",
       "/* Formatting for header cells */\r\n",
       ".text_cell_render h1 {\r\n",
       "    font-family: 'Philosopher', sans-serif;\r\n",
       "    font-weight: 400;\r\n",
       "    font-size: 2.2em;\r\n",
       "    line-height: 100%;\r\n",
       "    color: rgb(0, 80, 120);\r\n",
       "    margin-bottom: 0.1em;\r\n",
       "    margin-top: 0.1em;\r\n",
       "    display: block;\r\n",
       "}\t\r\n",
       ".text_cell_render h2 {\r\n",
       "    font-family: 'Philosopher', serif;\r\n",
       "    font-weight: 400;\r\n",
       "    font-size: 1.9em;\r\n",
       "    line-height: 100%;\r\n",
       "    color: rgb(200,100,0);\r\n",
       "    margin-bottom: 0.1em;\r\n",
       "    margin-top: 0.1em;\r\n",
       "    display: block;\r\n",
       "}\t\r\n",
       "\r\n",
       ".text_cell_render h3 {\r\n",
       "    font-family: 'Philosopher', serif;\r\n",
       "    margin-top:12px;\r\n",
       "    margin-bottom: 3px;\r\n",
       "    font-style: italic;\r\n",
       "    color: rgb(94,127,192);\r\n",
       "}\r\n",
       "\r\n",
       ".text_cell_render h4 {\r\n",
       "    font-family: 'Philosopher', serif;\r\n",
       "}\r\n",
       "\r\n",
       ".text_cell_render h5 {\r\n",
       "    font-family: 'Alegreya Sans', sans-serif;\r\n",
       "    font-weight: 300;\r\n",
       "    font-size: 16pt;\r\n",
       "    color: grey;\r\n",
       "    font-style: italic;\r\n",
       "    margin-bottom: .1em;\r\n",
       "    margin-top: 0.1em;\r\n",
       "    display: block;\r\n",
       "}\r\n",
       "\r\n",
       ".text_cell_render h6 {\r\n",
       "    font-family: 'PT Mono', sans-serif;\r\n",
       "    font-weight: 300;\r\n",
       "    font-size: 10pt;\r\n",
       "    color: grey;\r\n",
       "    margin-bottom: 1px;\r\n",
       "    margin-top: 1px;\r\n",
       "}\r\n",
       "\r\n",
       ".CodeMirror{\r\n",
       "        font-family: \"PT Mono\";\r\n",
       "        font-size: 100%;\r\n",
       "}\r\n",
       "\r\n",
       "</style>\r\n",
       "\r\n"
      ],
      "text/plain": [
       "HTML{String}(\"<link href='http://fonts.googleapis.com/css?family=Alegreya+Sans:100,300,400,500,700,800,900,100italic,300italic,400italic,500italic,700italic,800italic,900italic' rel='stylesheet' type='text/css'>\\r\\n<link href='http://fonts.googleapis.com/css?family=Arvo:400,700,400italic' rel='stylesheet' type='text/css'>\\r\\n<link href='http://fonts.googleapis.com/css?family=PT+Mono' rel='stylesheet' type='text/css'>\\r\\n<link href='http://fonts.googleapis.com/css?family=Shadows+Into+Light' rel='stylesheet' type='text/css'>\\r\\n<link href='http://fonts.googleapis.com/css?family=Philosopher:400,700,400italic,700italic' rel='stylesheet' type='text/css'>\\r\\n\\r\\n<style>\\r\\n\\r\\n@font-face {\\r\\n    font-family: \\\"Computer Modern\\\";\\r\\n    src: url('http://mirrors.ctan.org/fonts/cm-unicode/fonts/otf/cmunss.otf');\\r\\n}\\r\\n\\r\\n\\r\\n\\r\\n/* Formatting for header cells */\\r\\n.text_cell_render h1 {\\r\\n    font-family: 'Philosopher', sans-serif;\\r\\n    font-weight: 400;\\r\\n    font-size: 2.2em;\\r\\n    line-height: 100%;\\r\\n    color: rgb(0, 80, 120);\\r\\n    margin-bottom: 0.1em;\\r\\n    margin-top: 0.1em;\\r\\n    display: block;\\r\\n}\\t\\r\\n.text_cell_render h2 {\\r\\n    font-family: 'Philosopher', serif;\\r\\n    font-weight: 400;\\r\\n    font-size: 1.9em;\\r\\n    line-height: 100%;\\r\\n    color: rgb(200,100,0);\\r\\n    margin-bottom: 0.1em;\\r\\n    margin-top: 0.1em;\\r\\n    display: block;\\r\\n}\\t\\r\\n\\r\\n.text_cell_render h3 {\\r\\n    font-family: 'Philosopher', serif;\\r\\n    margin-top:12px;\\r\\n    margin-bottom: 3px;\\r\\n    font-style: italic;\\r\\n    color: rgb(94,127,192);\\r\\n}\\r\\n\\r\\n.text_cell_render h4 {\\r\\n    font-family: 'Philosopher', serif;\\r\\n}\\r\\n\\r\\n.text_cell_render h5 {\\r\\n    font-family: 'Alegreya Sans', sans-serif;\\r\\n    font-weight: 300;\\r\\n    font-size: 16pt;\\r\\n    color: grey;\\r\\n    font-style: italic;\\r\\n    margin-bottom: .1em;\\r\\n    margin-top: 0.1em;\\r\\n    display: block;\\r\\n}\\r\\n\\r\\n.text_cell_render h6 {\\r\\n    font-family: 'PT Mono', sans-serif;\\r\\n    font-weight: 300;\\r\\n    font-size: 10pt;\\r\\n    color: grey;\\r\\n    margin-bottom: 1px;\\r\\n    margin-top: 1px;\\r\\n}\\r\\n\\r\\n.CodeMirror{\\r\\n        font-family: \\\"PT Mono\\\";\\r\\n        font-size: 100%;\\r\\n}\\r\\n\\r\\n</style>\\r\\n\\r\\n\")"
      ]
     },
     "execution_count": 1,
     "metadata": {},
     "output_type": "execute_result"
    }
   ],
   "source": [
    "# Setting up a custom stylesheet in IJulia\n",
    "file = open(\"./../style.css\") # A .css file in the same folder as this notebook file\n",
    "styl = read(file, String) # Read the file\n",
    "HTML(\"$styl\") # Output as HTML"
   ]
  },
  {
   "cell_type": "markdown",
   "metadata": {},
   "source": [
    "# Functions in Julia I"
   ]
  },
  {
   "cell_type": "markdown",
   "metadata": {
    "collapsed": true
   },
   "source": [
    "<h2>In this notebook</h2>\n",
    "\n",
    "- [Outcome](#Outcome)\n",
    "- [Functions in Julia](#Functions-in-Julia)\n",
    "- [Command line help](#Command-line-help)\n",
    "- [Built-in mathematical functions](#Built-in-mathematical-functions)\n",
    "- [Multiple dispatch](#Multiple-dispatch)\n"
   ]
  },
  {
   "cell_type": "markdown",
   "metadata": {},
   "source": [
    "<hr>\n",
    "<h2>Outcome</h2>\n",
    "\n",
    "After this lecture, you will be able to: \n",
    "\n",
    "- Say how a Julia function works\n",
    "- Describe the difference between built-in and user-defined functions in Julia\n",
    "- List and use some basic mathematical functions\n",
    "- Describe Julia's multiple dispatch using ``muladd()`` as the example"
   ]
  },
  {
   "cell_type": "markdown",
   "metadata": {},
   "source": [
    "[Back to the top](#In-this-lecture)"
   ]
  },
  {
   "cell_type": "markdown",
   "metadata": {},
   "source": [
    "<h2>Functions in Julia</h2>\n",
    "\n",
    "Recall a recent example using the funtion ``println()``:"
   ]
  },
  {
   "cell_type": "code",
   "execution_count": null,
   "metadata": {},
   "outputs": [],
   "source": [
    "greeting = \"Hello, world!!\"\n",
    "println(greeting) "
   ]
  },
  {
   "cell_type": "markdown",
   "metadata": {},
   "source": [
    "This is a good example of the basics of how a function works: it receives some input (in this case, the value of a variable) and makes something happen (in this case, showing a string on the screen).\n",
    "\n",
    "Many a function generates a value. In fact, possibly the most common use of functions is to create values to be assigned to variables:"
   ]
  },
  {
   "cell_type": "code",
   "execution_count": 2,
   "metadata": {},
   "outputs": [
    {
     "data": {
      "text/plain": [
       "(0.9800665778412416, 2.302585092994046, 1.22)"
      ]
     },
     "execution_count": 2,
     "metadata": {},
     "output_type": "execute_result"
    }
   ],
   "source": [
    "a, b, c = cos(0.2), log(10), abs(-1.22)  # multiple assignment to three separate variables"
   ]
  },
  {
   "cell_type": "code",
   "execution_count": 5,
   "metadata": {},
   "outputs": [
    {
     "ename": "LoadError",
     "evalue": "ArgumentError: typeof: too many arguments (expected 1)",
     "output_type": "error",
     "traceback": [
      "ArgumentError: typeof: too many arguments (expected 1)",
      "",
      "Stacktrace:",
      " [1] top-level scope",
      "   @ In[5]:1",
      " [2] eval",
      "   @ ./boot.jl:373 [inlined]",
      " [3] include_string(mapexpr::typeof(REPL.softscope), mod::Module, code::String, filename::String)",
      "   @ Base ./loading.jl:1196"
     ]
    }
   ],
   "source": []
  },
  {
   "cell_type": "markdown",
   "metadata": {},
   "source": [
    "Julia is a functional language, which means that in a sense the basic unit for organising code in Julia is the function. For instance, ``typeof()`` is a function that provides information which in other types of languages is obtained via other means. If you read the Julia code (it is publicly available, see www.julialang.org), you will see that virtually everything there is done via functions.\n",
    "\n",
    "This means of course that when you write code, you should also as far as possible organise your code in funtions. We address user-defined functions in Lecture 9 (the one after this one)."
   ]
  },
  {
   "cell_type": "markdown",
   "metadata": {},
   "source": [
    "[Back to the top](#In-this-lecture)"
   ]
  },
  {
   "cell_type": "markdown",
   "metadata": {},
   "source": [
    "<h2>Command line help</h2>\n",
    "\n",
    "To get help in an IJulia, type \"?\" followed by a topic. For functions, you'll get the syntax (there may be several versions) and in other cases some brief guidance. A few example queries follow, concerning ```cos```, ```help``` and\n",
    "```floor```"
   ]
  },
  {
   "cell_type": "code",
   "execution_count": null,
   "metadata": {},
   "outputs": [],
   "source": [
    "? cos # a standard maths function gives what you expect, with bonus for explaining what happens to arrays\n"
   ]
  },
  {
   "cell_type": "code",
   "execution_count": null,
   "metadata": {},
   "outputs": [],
   "source": [
    "?help   # space or not after after \"?\" makes no difference (but hopping to a new line does!)"
   ]
  },
  {
   "cell_type": "markdown",
   "metadata": {},
   "source": [
    "Ah well, asking for help in general isn't that helpful ... the right particular question gets good help, but they can be hard to find."
   ]
  },
  {
   "cell_type": "code",
   "execution_count": null,
   "metadata": {},
   "outputs": [],
   "source": [
    "? floor"
   ]
  },
  {
   "cell_type": "markdown",
   "metadata": {},
   "source": [
    "... while in this case the help may be a bit too detailed! It does alert you to the variety of outputs that ```floor``` can give you. Which one you get depends on the type signature of the variables you provide, and this is your first sight of one of Julia's greatest features: multiple dispatch. More on this feature below, though on this course you only glimpse its power (it is at the heart of much that makes Julia such a wonderful language)."
   ]
  },
  {
   "cell_type": "markdown",
   "metadata": {},
   "source": [
    "**This rapid, concise help is a wonderful resource to have on hand. USE IT OFTEN,    especially for spelling and syntax.**"
   ]
  },
  {
   "cell_type": "markdown",
   "metadata": {},
   "source": [
    "[Back to the top](#In-this-lecture)"
   ]
  },
  {
   "cell_type": "markdown",
   "metadata": {},
   "source": [
    "<h2>Built-in mathematical functions</h2>\n",
    "\n",
    "Julia has many built-in functions, and for scientific and technical computing the most important of these are mathematical. The following lists a very small part of what is available:\n",
    "\n",
    "``exp()``\n",
    "\n",
    "``log()``    ...  NB! this is the *natural* logarithm\n",
    "\n",
    "``log10()``  ...    *this* is the logarithm to base 10\n",
    "\n",
    "\n",
    "``cos()``    ... argument must be in radians\n",
    "\n",
    "``sin()``\n",
    "\n",
    "``tan()``\n",
    "\n",
    "``acos()``   ... the result is a value in radians\n",
    "\n",
    "``asin()``\n",
    "\n",
    "``atan(x)``   ...  NB! this only returns some angles (between -π/2 and π/2, to be exact)\n",
    "\n",
    "``atan(y,x)``  ... The *atan2* of many languages (including Python and Matlab); use this to get angles from quadrants two and three; it requires two inputs\n",
    "\n",
    "\n",
    "``floor()``\n",
    "\n",
    "``ceil()``\n",
    "\n",
    "``rem()`` ... thorow the remaining of a division. \n",
    "\n",
    "``round()``  ... use round(Int, x) to convert any x of abstract type Real to an integer type (usually Int64)  \n",
    "\n",
    "**DO EXPLORE THESE USING THE \"?\" QUERY METHOD!**"
   ]
  },
  {
   "cell_type": "markdown",
   "metadata": {},
   "source": [
    "And if you enter the first one or more letters of a function, and press Tab, you'll see a list of possible completions. This includes all the available function names that start with that letter or letter. This is a good way to search for function names. For example:"
   ]
  },
  {
   "cell_type": "code",
   "execution_count": 9,
   "metadata": {},
   "outputs": [
    {
     "name": "stdout",
     "output_type": "stream",
     "text": [
      "search: \u001b[0m\u001b[1mr\u001b[22m\u001b[0m\u001b[1me\u001b[22m\u001b[0m\u001b[1mm\u001b[22m \u001b[0m\u001b[1mr\u001b[22m\u001b[0m\u001b[1me\u001b[22m\u001b[0m\u001b[1mm\u001b[22m2pi ba\u001b[0m\u001b[1mr\u001b[22m\u001b[0m\u001b[1me\u001b[22m\u001b[0m\u001b[1mm\u001b[22module div\u001b[0m\u001b[1mr\u001b[22m\u001b[0m\u001b[1me\u001b[22m\u001b[0m\u001b[1mm\u001b[22m ext\u001b[0m\u001b[1mr\u001b[22m\u001b[0m\u001b[1me\u001b[22m\u001b[0m\u001b[1mm\u001b[22ma \u001b[0m\u001b[1mr\u001b[22m\u001b[0m\u001b[1me\u001b[22mi\u001b[0m\u001b[1mm\u001b[22m IOSt\u001b[0m\u001b[1mr\u001b[22m\u001b[0m\u001b[1me\u001b[22ma\u001b[0m\u001b[1mm\u001b[22m p\u001b[0m\u001b[1mr\u001b[22m\u001b[0m\u001b[1me\u001b[22mco\u001b[0m\u001b[1mm\u001b[22mpile\n",
      "\n"
     ]
    },
    {
     "data": {
      "text/latex": [
       "\\begin{verbatim}\n",
       "rem(x::Integer, T::Type{<:Integer}) -> T\n",
       "mod(x::Integer, T::Type{<:Integer}) -> T\n",
       "%(x::Integer, T::Type{<:Integer}) -> T\n",
       "\\end{verbatim}\n",
       "Find \\texttt{y::T} such that \\texttt{x} ≡ \\texttt{y} (mod n), where n is the number of integers representable in \\texttt{T}, and \\texttt{y} is an integer in \\texttt{[typemin(T),typemax(T)]}. If \\texttt{T} can represent any integer (e.g. \\texttt{T == BigInt}), then this operation corresponds to a conversion to \\texttt{T}.\n",
       "\n",
       "\\section{Examples}\n",
       "\\begin{verbatim}\n",
       "julia> 129 % Int8\n",
       "-127\n",
       "\\end{verbatim}\n",
       "\\rule{\\textwidth}{1pt}\n",
       "\\begin{verbatim}\n",
       "rem(x, y)\n",
       "%(x, y)\n",
       "\\end{verbatim}\n",
       "Remainder from Euclidean division, returning a value of the same sign as \\texttt{x}, and smaller in magnitude than \\texttt{y}. This value is always exact.\n",
       "\n",
       "See also: \\href{@ref}{\\texttt{div}}, \\href{@ref}{\\texttt{mod}}, \\href{@ref}{\\texttt{mod1}}, \\href{@ref}{\\texttt{divrem}}.\n",
       "\n",
       "\\section{Examples}\n",
       "\\begin{verbatim}\n",
       "julia> x = 15; y = 4;\n",
       "\n",
       "julia> x % y\n",
       "3\n",
       "\n",
       "julia> x == div(x, y) * y + rem(x, y)\n",
       "true\n",
       "\n",
       "julia> rem.(-5:5, 3)'\n",
       "1×11 adjoint(::Vector{Int64}) with eltype Int64:\n",
       " -2  -1  0  -2  -1  0  1  2  0  1  2\n",
       "\\end{verbatim}\n",
       "\\rule{\\textwidth}{1pt}\n",
       "\\begin{verbatim}\n",
       "rem(x, y, r::RoundingMode=RoundToZero)\n",
       "\\end{verbatim}\n",
       "Compute the remainder of \\texttt{x} after integer division by \\texttt{y}, with the quotient rounded according to the rounding mode \\texttt{r}. In other words, the quantity\n",
       "\n",
       "\\begin{verbatim}\n",
       "x - y*round(x/y,r)\n",
       "\\end{verbatim}\n",
       "without any intermediate rounding.\n",
       "\n",
       "\\begin{itemize}\n",
       "\\item if \\texttt{r == RoundNearest}, then the result is exact, and in the interval $[-|y|/2, |y|/2]$. See also \\href{@ref}{\\texttt{RoundNearest}}.\n",
       "\n",
       "\n",
       "\\item if \\texttt{r == RoundToZero} (default), then the result is exact, and in the interval $[0, |y|)$ if \\texttt{x} is positive, or $(-|y|, 0]$ otherwise. See also \\href{@ref}{\\texttt{RoundToZero}}.\n",
       "\n",
       "\n",
       "\\item if \\texttt{r == RoundDown}, then the result is in the interval $[0, y)$ if \\texttt{y} is positive, or $(y, 0]$ otherwise. The result may not be exact if \\texttt{x} and \\texttt{y} have different signs, and \\texttt{abs(x) < abs(y)}. See also \\href{@ref}{\\texttt{RoundDown}}.\n",
       "\n",
       "\n",
       "\\item if \\texttt{r == RoundUp}, then the result is in the interval \\texttt{(-y,0]} if \\texttt{y} is positive, or \\texttt{[0,-y)} otherwise. The result may not be exact if \\texttt{x} and \\texttt{y} have the same sign, and \\texttt{abs(x) < abs(y)}. See also \\href{@ref}{\\texttt{RoundUp}}.\n",
       "\n",
       "\\end{itemize}\n",
       "\\section{Examples:}\n",
       "\\begin{verbatim}\n",
       "julia> x = 9; y = 4;\n",
       "\n",
       "julia> x % y  # same as rem(x, y)\n",
       "1\n",
       "\n",
       "julia> x ÷ y  # same as div(x, y)\n",
       "2\n",
       "\n",
       "julia> x == div(x, y) * y + rem(x, y)\n",
       "true\n",
       "\\end{verbatim}\n"
      ],
      "text/markdown": [
       "```\n",
       "rem(x::Integer, T::Type{<:Integer}) -> T\n",
       "mod(x::Integer, T::Type{<:Integer}) -> T\n",
       "%(x::Integer, T::Type{<:Integer}) -> T\n",
       "```\n",
       "\n",
       "Find `y::T` such that `x` ≡ `y` (mod n), where n is the number of integers representable in `T`, and `y` is an integer in `[typemin(T),typemax(T)]`. If `T` can represent any integer (e.g. `T == BigInt`), then this operation corresponds to a conversion to `T`.\n",
       "\n",
       "# Examples\n",
       "\n",
       "```jldoctest\n",
       "julia> 129 % Int8\n",
       "-127\n",
       "```\n",
       "\n",
       "---\n",
       "\n",
       "```\n",
       "rem(x, y)\n",
       "%(x, y)\n",
       "```\n",
       "\n",
       "Remainder from Euclidean division, returning a value of the same sign as `x`, and smaller in magnitude than `y`. This value is always exact.\n",
       "\n",
       "See also: [`div`](@ref), [`mod`](@ref), [`mod1`](@ref), [`divrem`](@ref).\n",
       "\n",
       "# Examples\n",
       "\n",
       "```jldoctest\n",
       "julia> x = 15; y = 4;\n",
       "\n",
       "julia> x % y\n",
       "3\n",
       "\n",
       "julia> x == div(x, y) * y + rem(x, y)\n",
       "true\n",
       "\n",
       "julia> rem.(-5:5, 3)'\n",
       "1×11 adjoint(::Vector{Int64}) with eltype Int64:\n",
       " -2  -1  0  -2  -1  0  1  2  0  1  2\n",
       "```\n",
       "\n",
       "---\n",
       "\n",
       "```\n",
       "rem(x, y, r::RoundingMode=RoundToZero)\n",
       "```\n",
       "\n",
       "Compute the remainder of `x` after integer division by `y`, with the quotient rounded according to the rounding mode `r`. In other words, the quantity\n",
       "\n",
       "```\n",
       "x - y*round(x/y,r)\n",
       "```\n",
       "\n",
       "without any intermediate rounding.\n",
       "\n",
       "  * if `r == RoundNearest`, then the result is exact, and in the interval $[-|y|/2, |y|/2]$. See also [`RoundNearest`](@ref).\n",
       "  * if `r == RoundToZero` (default), then the result is exact, and in the interval $[0, |y|)$ if `x` is positive, or $(-|y|, 0]$ otherwise. See also [`RoundToZero`](@ref).\n",
       "  * if `r == RoundDown`, then the result is in the interval $[0, y)$ if `y` is positive, or $(y, 0]$ otherwise. The result may not be exact if `x` and `y` have different signs, and `abs(x) < abs(y)`. See also [`RoundDown`](@ref).\n",
       "  * if `r == RoundUp`, then the result is in the interval `(-y,0]` if `y` is positive, or `[0,-y)` otherwise. The result may not be exact if `x` and `y` have the same sign, and `abs(x) < abs(y)`. See also [`RoundUp`](@ref).\n",
       "\n",
       "# Examples:\n",
       "\n",
       "```jldoctest\n",
       "julia> x = 9; y = 4;\n",
       "\n",
       "julia> x % y  # same as rem(x, y)\n",
       "1\n",
       "\n",
       "julia> x ÷ y  # same as div(x, y)\n",
       "2\n",
       "\n",
       "julia> x == div(x, y) * y + rem(x, y)\n",
       "true\n",
       "```\n"
      ],
      "text/plain": [
       "\u001b[36m  rem(x::Integer, T::Type{<:Integer}) -> T\u001b[39m\n",
       "\u001b[36m  mod(x::Integer, T::Type{<:Integer}) -> T\u001b[39m\n",
       "\u001b[36m  %(x::Integer, T::Type{<:Integer}) -> T\u001b[39m\n",
       "\n",
       "  Find \u001b[36my::T\u001b[39m such that \u001b[36mx\u001b[39m ≡ \u001b[36my\u001b[39m (mod n), where n is the number of integers\n",
       "  representable in \u001b[36mT\u001b[39m, and \u001b[36my\u001b[39m is an integer in \u001b[36m[typemin(T),typemax(T)]\u001b[39m. If \u001b[36mT\u001b[39m can\n",
       "  represent any integer (e.g. \u001b[36mT == BigInt\u001b[39m), then this operation corresponds to\n",
       "  a conversion to \u001b[36mT\u001b[39m.\n",
       "\n",
       "\u001b[1m  Examples\u001b[22m\n",
       "\u001b[1m  ≡≡≡≡≡≡≡≡≡≡\u001b[22m\n",
       "\n",
       "\u001b[36m  julia> 129 % Int8\u001b[39m\n",
       "\u001b[36m  -127\u001b[39m\n",
       "\n",
       "  ────────────────────────────────────────────────────────────────────────────\n",
       "\n",
       "\u001b[36m  rem(x, y)\u001b[39m\n",
       "\u001b[36m  %(x, y)\u001b[39m\n",
       "\n",
       "  Remainder from Euclidean division, returning a value of the same sign as \u001b[36mx\u001b[39m,\n",
       "  and smaller in magnitude than \u001b[36my\u001b[39m. This value is always exact.\n",
       "\n",
       "  See also: \u001b[36mdiv\u001b[39m, \u001b[36mmod\u001b[39m, \u001b[36mmod1\u001b[39m, \u001b[36mdivrem\u001b[39m.\n",
       "\n",
       "\u001b[1m  Examples\u001b[22m\n",
       "\u001b[1m  ≡≡≡≡≡≡≡≡≡≡\u001b[22m\n",
       "\n",
       "\u001b[36m  julia> x = 15; y = 4;\u001b[39m\n",
       "\u001b[36m  \u001b[39m\n",
       "\u001b[36m  julia> x % y\u001b[39m\n",
       "\u001b[36m  3\u001b[39m\n",
       "\u001b[36m  \u001b[39m\n",
       "\u001b[36m  julia> x == div(x, y) * y + rem(x, y)\u001b[39m\n",
       "\u001b[36m  true\u001b[39m\n",
       "\u001b[36m  \u001b[39m\n",
       "\u001b[36m  julia> rem.(-5:5, 3)'\u001b[39m\n",
       "\u001b[36m  1×11 adjoint(::Vector{Int64}) with eltype Int64:\u001b[39m\n",
       "\u001b[36m   -2  -1  0  -2  -1  0  1  2  0  1  2\u001b[39m\n",
       "\n",
       "  ────────────────────────────────────────────────────────────────────────────\n",
       "\n",
       "\u001b[36m  rem(x, y, r::RoundingMode=RoundToZero)\u001b[39m\n",
       "\n",
       "  Compute the remainder of \u001b[36mx\u001b[39m after integer division by \u001b[36my\u001b[39m, with the quotient\n",
       "  rounded according to the rounding mode \u001b[36mr\u001b[39m. In other words, the quantity\n",
       "\n",
       "\u001b[36m  x - y*round(x/y,r)\u001b[39m\n",
       "\n",
       "  without any intermediate rounding.\n",
       "\n",
       "    •  if \u001b[36mr == RoundNearest\u001b[39m, then the result is exact, and in the\n",
       "       interval \u001b[35m[-|y|/2, |y|/2]\u001b[39m. See also \u001b[36mRoundNearest\u001b[39m.\n",
       "\n",
       "    •  if \u001b[36mr == RoundToZero\u001b[39m (default), then the result is exact, and in\n",
       "       the interval \u001b[35m[0, |y|)\u001b[39m if \u001b[36mx\u001b[39m is positive, or \u001b[35m(-|y|, 0]\u001b[39m otherwise.\n",
       "       See also \u001b[36mRoundToZero\u001b[39m.\n",
       "\n",
       "    •  if \u001b[36mr == RoundDown\u001b[39m, then the result is in the interval \u001b[35m[0, y)\u001b[39m if \u001b[36my\u001b[39m\n",
       "       is positive, or \u001b[35m(y, 0]\u001b[39m otherwise. The result may not be exact if \u001b[36mx\u001b[39m\n",
       "       and \u001b[36my\u001b[39m have different signs, and \u001b[36mabs(x) < abs(y)\u001b[39m. See also\n",
       "       \u001b[36mRoundDown\u001b[39m.\n",
       "\n",
       "    •  if \u001b[36mr == RoundUp\u001b[39m, then the result is in the interval \u001b[36m(-y,0]\u001b[39m if \u001b[36my\u001b[39m is\n",
       "       positive, or \u001b[36m[0,-y)\u001b[39m otherwise. The result may not be exact if \u001b[36mx\u001b[39m\n",
       "       and \u001b[36my\u001b[39m have the same sign, and \u001b[36mabs(x) < abs(y)\u001b[39m. See also \u001b[36mRoundUp\u001b[39m.\n",
       "\n",
       "\u001b[1m  Examples:\u001b[22m\n",
       "\u001b[1m  ≡≡≡≡≡≡≡≡≡≡≡\u001b[22m\n",
       "\n",
       "\u001b[36m  julia> x = 9; y = 4;\u001b[39m\n",
       "\u001b[36m  \u001b[39m\n",
       "\u001b[36m  julia> x % y  # same as rem(x, y)\u001b[39m\n",
       "\u001b[36m  1\u001b[39m\n",
       "\u001b[36m  \u001b[39m\n",
       "\u001b[36m  julia> x ÷ y  # same as div(x, y)\u001b[39m\n",
       "\u001b[36m  2\u001b[39m\n",
       "\u001b[36m  \u001b[39m\n",
       "\u001b[36m  julia> x == div(x, y) * y + rem(x, y)\u001b[39m\n",
       "\u001b[36m  true\u001b[39m"
      ]
     },
     "execution_count": 9,
     "metadata": {},
     "output_type": "execute_result"
    }
   ],
   "source": [
    "?rem      # Tab to show completions, use up and down arrows to scroll the list in box"
   ]
  },
  {
   "cell_type": "markdown",
   "metadata": {},
   "source": [
    "[Back to the top](#In-this-lecture)"
   ]
  },
  {
   "cell_type": "markdown",
   "metadata": {},
   "source": [
    "<h2>Multiple dispatch</h2>\n",
    "\n",
    "This is related to the fact that many functions allow, or even require, more than one input value. For example, ``binomial`` requires two values, and ``muladd()`` requires three (look them up!).\n",
    "\n",
    "Moreover, functions must accept inputs of more than one type. For instance, if we enter ``cos(1)`` then we are sending a value with type ``Int64`` to Julia's ``cos()`` function. And if we enter \"``cos(1.)`` we are sending a value of type ``Float64``. But the value created by Julia's ``cos()`` function in both cases is 0.5403023058681398.\n",
    "\n",
    "Which is exactly what we want, of course. BUT!\n",
    "\n",
    "A function name points to a code body. **When the code actually executes, it should be specialised on one type, else it will run very slowly, if at all**. A function such as ``cos()`` actually has several such code bodies, to deal with inputs of different types. These are called the *methods* of that function. So how do Julia functions manage to have only one name, but many methods?\n",
    "\n",
    "The answer is multiple dispatch: Julia allows many methods, as long as they differ according to input type. All the input values are used to check this, hence the name multiple dispatch. The pattern of types in the input values in a given function call is its *type signature*. For example, ``muladd()`` has 12 permissible type signatures, which we see by using the function methods():"
   ]
  },
  {
   "cell_type": "code",
   "execution_count": 8,
   "metadata": {},
   "outputs": [
    {
     "data": {
      "text/html": [
       "# 21 methods for generic function <b>muladd</b>:<ul><li> muladd(A::<b>Union{LinearAlgebra.Adjoint{var\"#s859\", <:StridedMatrix{T} where T}, LinearAlgebra.Transpose{var\"#s859\", <:StridedMatrix{T} where T}, StridedMatrix{var\"#s859\"}} where var\"#s859\"<:Number</b>, y::<b>AbstractVector{<:Number}</b>, z::<b>Union{Number, AbstractVector}</b>) in LinearAlgebra at <a href=\"file:///build/julia/src/julia-1.7.2/usr/share/julia/stdlib/v1.7/LinearAlgebra/src/matmul.jl\" target=\"_blank\">/usr/share/julia/stdlib/v1.7/LinearAlgebra/src/matmul.jl:238</a></li> <li> muladd(A::<b>Union{LinearAlgebra.Adjoint{var\"#s859\", <:StridedMatrix{T} where T}, LinearAlgebra.Transpose{var\"#s859\", <:StridedMatrix{T} where T}, StridedMatrix{var\"#s859\"}} where var\"#s859\"<:Number</b>, B::<b>Union{LinearAlgebra.Adjoint{var\"#s858\", <:StridedMatrix{T} where T}, LinearAlgebra.Transpose{var\"#s858\", <:StridedMatrix{T} where T}, StridedMatrix{var\"#s858\"}} where var\"#s858\"<:Number</b>, z::<b>Union{Number, AbstractVecOrMat}</b>) in LinearAlgebra at <a href=\"file:///build/julia/src/julia-1.7.2/usr/share/julia/stdlib/v1.7/LinearAlgebra/src/matmul.jl\" target=\"_blank\">/usr/share/julia/stdlib/v1.7/LinearAlgebra/src/matmul.jl:245</a></li> <li> muladd(x::<b>LinearAlgebra.Transpose{T, <:AbstractVector} where T</b>, A::<b>AbstractMatrix</b>, z::<b>Union{Number, AbstractVecOrMat}</b>) in LinearAlgebra at <a href=\"file:///build/julia/src/julia-1.7.2/usr/share/julia/stdlib/v1.7/LinearAlgebra/src/matmul.jl\" target=\"_blank\">/usr/share/julia/stdlib/v1.7/LinearAlgebra/src/matmul.jl:233</a></li> <li> muladd(x::<b>Real</b>, z::<b>Complex</b>, y::<b>Number</b>) in Base at <a href=\"https://github.com/JuliaLang/julia/tree/bf534986350a991e4a1b29126de0342ffd76205e/base/complex.jl#L336\" target=\"_blank\">complex.jl:336</a></li> <li> muladd(x::<b>Real</b>, y::<b>Real</b>, z::<b>Complex</b>) in Base at <a href=\"https://github.com/JuliaLang/julia/tree/bf534986350a991e4a1b29126de0342ffd76205e/base/complex.jl#L340\" target=\"_blank\">complex.jl:340</a></li> <li> muladd(x::<b>LinearAlgebra.Adjoint{T, <:AbstractVector} where T</b>, A::<b>AbstractMatrix</b>, z::<b>Union{Number, AbstractVecOrMat}</b>) in LinearAlgebra at <a href=\"file:///build/julia/src/julia-1.7.2/usr/share/julia/stdlib/v1.7/LinearAlgebra/src/matmul.jl\" target=\"_blank\">/usr/share/julia/stdlib/v1.7/LinearAlgebra/src/matmul.jl:231</a></li> <li> muladd(u::<b>AbstractVector</b>, v::<b>Union{LinearAlgebra.Adjoint{T, var\"#s859\"}, LinearAlgebra.Transpose{T, var\"#s859\"}} where {T, var\"#s859\"<:(AbstractVector)}</b>, z::<b>Union{Number, AbstractArray}</b>) in LinearAlgebra at <a href=\"file:///build/julia/src/julia-1.7.2/usr/share/julia/stdlib/v1.7/LinearAlgebra/src/matmul.jl\" target=\"_blank\">/usr/share/julia/stdlib/v1.7/LinearAlgebra/src/matmul.jl:218</a></li> <li> muladd(A::<b>LinearAlgebra.Diagonal</b>, B::<b>LinearAlgebra.Diagonal</b>, z::<b>LinearAlgebra.Diagonal</b>) in LinearAlgebra at <a href=\"file:///build/julia/src/julia-1.7.2/usr/share/julia/stdlib/v1.7/LinearAlgebra/src/diagonal.jl\" target=\"_blank\">/usr/share/julia/stdlib/v1.7/LinearAlgebra/src/diagonal.jl:746</a></li> <li> muladd(A::<b>AbstractMatrix</b>, y::<b>AbstractVecOrMat</b>, z::<b>Union{Number, AbstractArray}</b>) in LinearAlgebra at <a href=\"file:///build/julia/src/julia-1.7.2/usr/share/julia/stdlib/v1.7/LinearAlgebra/src/matmul.jl\" target=\"_blank\">/usr/share/julia/stdlib/v1.7/LinearAlgebra/src/matmul.jl:204</a></li> <li> muladd(z::<b>Complex</b>, w::<b>Complex</b>, x::<b>Complex</b>) in Base at <a href=\"https://github.com/JuliaLang/julia/tree/bf534986350a991e4a1b29126de0342ffd76205e/base/complex.jl#L293\" target=\"_blank\">complex.jl:293</a></li> <li> muladd(z::<b>Complex</b>, x::<b>Real</b>, y::<b>Real</b>) in Base at <a href=\"https://github.com/JuliaLang/julia/tree/bf534986350a991e4a1b29126de0342ffd76205e/base/complex.jl#L337\" target=\"_blank\">complex.jl:337</a></li> <li> muladd(z::<b>Complex</b>, x::<b>Real</b>, w::<b>Complex</b>) in Base at <a href=\"https://github.com/JuliaLang/julia/tree/bf534986350a991e4a1b29126de0342ffd76205e/base/complex.jl#L338\" target=\"_blank\">complex.jl:338</a></li> <li> muladd(z::<b>Complex</b>, w::<b>Complex</b>, x::<b>Real</b>) in Base at <a href=\"https://github.com/JuliaLang/julia/tree/bf534986350a991e4a1b29126de0342ffd76205e/base/complex.jl#L341\" target=\"_blank\">complex.jl:341</a></li> <li> muladd(A::<b>LinearAlgebra.UniformScaling</b>, B::<b>LinearAlgebra.UniformScaling</b>, z::<b>LinearAlgebra.UniformScaling</b>) in LinearAlgebra at <a href=\"file:///build/julia/src/julia-1.7.2/usr/share/julia/stdlib/v1.7/LinearAlgebra/src/uniformscaling.jl\" target=\"_blank\">/usr/share/julia/stdlib/v1.7/LinearAlgebra/src/uniformscaling.jl:511</a></li> <li> muladd(A::<b>Union{LinearAlgebra.Diagonal, LinearAlgebra.UniformScaling}</b>, B::<b>Union{LinearAlgebra.Diagonal, LinearAlgebra.UniformScaling}</b>, z::<b>Union{LinearAlgebra.Diagonal, LinearAlgebra.UniformScaling}</b>) in LinearAlgebra at <a href=\"file:///build/julia/src/julia-1.7.2/usr/share/julia/stdlib/v1.7/LinearAlgebra/src/uniformscaling.jl\" target=\"_blank\">/usr/share/julia/stdlib/v1.7/LinearAlgebra/src/uniformscaling.jl:513</a></li> <li> muladd(x::<b>Float64</b>, y::<b>Float64</b>, z::<b>Float64</b>) in Base at <a href=\"https://github.com/JuliaLang/julia/tree/bf534986350a991e4a1b29126de0342ffd76205e/base/float.jl#L412\" target=\"_blank\">float.jl:412</a></li> <li> muladd(x::<b>Float32</b>, y::<b>Float32</b>, z::<b>Float32</b>) in Base at <a href=\"https://github.com/JuliaLang/julia/tree/bf534986350a991e4a1b29126de0342ffd76205e/base/float.jl#L411\" target=\"_blank\">float.jl:411</a></li> <li> muladd(x::<b>Float16</b>, y::<b>Float16</b>, z::<b>Float16</b>) in Base at <a href=\"https://github.com/JuliaLang/julia/tree/bf534986350a991e4a1b29126de0342ffd76205e/base/float.jl#L410\" target=\"_blank\">float.jl:410</a></li> <li> muladd(x::<b>T</b>, y::<b>T</b>, z::<b>T</b>)<i> where T<:Number</i> in Base at <a href=\"https://github.com/JuliaLang/julia/tree/bf534986350a991e4a1b29126de0342ffd76205e/base/promotion.jl#L462\" target=\"_blank\">promotion.jl:462</a></li> <li> muladd(x::<b>Number</b>, y::<b>Number</b>, z::<b>Number</b>) in Base at <a href=\"https://github.com/JuliaLang/julia/tree/bf534986350a991e4a1b29126de0342ffd76205e/base/promotion.jl#L416\" target=\"_blank\">promotion.jl:416</a></li> <li> muladd(x, y, z) in Base.Math at <a href=\"https://github.com/JuliaLang/julia/tree/bf534986350a991e4a1b29126de0342ffd76205e/base/math.jl#L1160\" target=\"_blank\">math.jl:1160</a></li> </ul>"
      ],
      "text/plain": [
       "# 21 methods for generic function \"muladd\":\n",
       "[1] muladd(A::Union{LinearAlgebra.Adjoint{var\"#s859\", <:StridedMatrix{T} where T}, LinearAlgebra.Transpose{var\"#s859\", <:StridedMatrix{T} where T}, StridedMatrix{var\"#s859\"}} where var\"#s859\"<:Number, y::AbstractVector{<:Number}, z::Union{Number, AbstractVector}) in LinearAlgebra at /usr/share/julia/stdlib/v1.7/LinearAlgebra/src/matmul.jl:238\n",
       "[2] muladd(A::Union{LinearAlgebra.Adjoint{var\"#s859\", <:StridedMatrix{T} where T}, LinearAlgebra.Transpose{var\"#s859\", <:StridedMatrix{T} where T}, StridedMatrix{var\"#s859\"}} where var\"#s859\"<:Number, B::Union{LinearAlgebra.Adjoint{var\"#s858\", <:StridedMatrix{T} where T}, LinearAlgebra.Transpose{var\"#s858\", <:StridedMatrix{T} where T}, StridedMatrix{var\"#s858\"}} where var\"#s858\"<:Number, z::Union{Number, AbstractVecOrMat}) in LinearAlgebra at /usr/share/julia/stdlib/v1.7/LinearAlgebra/src/matmul.jl:245\n",
       "[3] muladd(x::LinearAlgebra.Transpose{T, <:AbstractVector} where T, A::AbstractMatrix, z::Union{Number, AbstractVecOrMat}) in LinearAlgebra at /usr/share/julia/stdlib/v1.7/LinearAlgebra/src/matmul.jl:233\n",
       "[4] muladd(x::Real, z::Complex, y::Number) in Base at complex.jl:336\n",
       "[5] muladd(x::Real, y::Real, z::Complex) in Base at complex.jl:340\n",
       "[6] muladd(x::LinearAlgebra.Adjoint{T, <:AbstractVector} where T, A::AbstractMatrix, z::Union{Number, AbstractVecOrMat}) in LinearAlgebra at /usr/share/julia/stdlib/v1.7/LinearAlgebra/src/matmul.jl:231\n",
       "[7] muladd(u::AbstractVector, v::Union{LinearAlgebra.Adjoint{T, var\"#s859\"}, LinearAlgebra.Transpose{T, var\"#s859\"}} where {T, var\"#s859\"<:(AbstractVector)}, z::Union{Number, AbstractArray}) in LinearAlgebra at /usr/share/julia/stdlib/v1.7/LinearAlgebra/src/matmul.jl:218\n",
       "[8] muladd(A::LinearAlgebra.Diagonal, B::LinearAlgebra.Diagonal, z::LinearAlgebra.Diagonal) in LinearAlgebra at /usr/share/julia/stdlib/v1.7/LinearAlgebra/src/diagonal.jl:746\n",
       "[9] muladd(A::AbstractMatrix, y::AbstractVecOrMat, z::Union{Number, AbstractArray}) in LinearAlgebra at /usr/share/julia/stdlib/v1.7/LinearAlgebra/src/matmul.jl:204\n",
       "[10] muladd(z::Complex, w::Complex, x::Complex) in Base at complex.jl:293\n",
       "[11] muladd(z::Complex, x::Real, y::Real) in Base at complex.jl:337\n",
       "[12] muladd(z::Complex, x::Real, w::Complex) in Base at complex.jl:338\n",
       "[13] muladd(z::Complex, w::Complex, x::Real) in Base at complex.jl:341\n",
       "[14] muladd(A::LinearAlgebra.UniformScaling, B::LinearAlgebra.UniformScaling, z::LinearAlgebra.UniformScaling) in LinearAlgebra at /usr/share/julia/stdlib/v1.7/LinearAlgebra/src/uniformscaling.jl:511\n",
       "[15] muladd(A::Union{LinearAlgebra.Diagonal, LinearAlgebra.UniformScaling}, B::Union{LinearAlgebra.Diagonal, LinearAlgebra.UniformScaling}, z::Union{LinearAlgebra.Diagonal, LinearAlgebra.UniformScaling}) in LinearAlgebra at /usr/share/julia/stdlib/v1.7/LinearAlgebra/src/uniformscaling.jl:513\n",
       "[16] muladd(x::Float64, y::Float64, z::Float64) in Base at float.jl:412\n",
       "[17] muladd(x::Float32, y::Float32, z::Float32) in Base at float.jl:411\n",
       "[18] muladd(x::Float16, y::Float16, z::Float16) in Base at float.jl:410\n",
       "[19] muladd(x::T, y::T, z::T) where T<:Number in Base at promotion.jl:462\n",
       "[20] muladd(x::Number, y::Number, z::Number) in Base at promotion.jl:416\n",
       "[21] muladd(x, y, z) in Base.Math at math.jl:1160"
      ]
     },
     "execution_count": 8,
     "metadata": {},
     "output_type": "execute_result"
    }
   ],
   "source": [
    "methods(muladd)"
   ]
  },
  {
   "cell_type": "markdown",
   "metadata": {},
   "source": [
    "As we might noticed the there are specified methods and others that are more abstract. A general supertype inputs can be defined in detrmient of performance like:\n",
    "```\n",
    "muladd(x::T, y::T, z::T) where T<:Number \n",
    "muladd(x, y, z)\n",
    "```\n",
    "\n",
    "Many of the bugs you can expect to see if you program in Julia arise because a function was called with values for which there is no method. That is, the type signature of the input values was wrong. You solve this in one of two ways\n",
    "- by making sure the input values have the right type signature, or \n",
    "- by writing an additional method for the required type signature"
   ]
  },
  {
   "cell_type": "markdown",
   "metadata": {},
   "source": [
    "[Back to the top](#In-this-lecture)"
   ]
  },
  {
   "cell_type": "markdown",
   "metadata": {},
   "source": [
    "<h2>Def of Multiple dispatch in Julia</h2>\n",
    "\n",
    "----\n",
    "\n",
    "*From Wikipedia*\n",
    "\n",
    "*Multiple Dispatch is a feature of programming language where function or method can be dynamically dispatched based on the run time type or in, the more general case, some other attribute of more than one of its arguments.*"
   ]
  },
  {
   "cell_type": "markdown",
   "metadata": {},
   "source": [
    "Lets define a generic function:"
   ]
  },
  {
   "cell_type": "code",
   "execution_count": 3,
   "metadata": {},
   "outputs": [
    {
     "data": {
      "text/plain": [
       "f (generic function with 1 method)"
      ]
     },
     "execution_count": 3,
     "metadata": {},
     "output_type": "execute_result"
    }
   ],
   "source": [
    "f(x) = x^2"
   ]
  },
  {
   "cell_type": "code",
   "execution_count": 4,
   "metadata": {},
   "outputs": [
    {
     "data": {
      "text/plain": [
       "361"
      ]
     },
     "execution_count": 4,
     "metadata": {},
     "output_type": "execute_result"
    }
   ],
   "source": [
    "f(19)"
   ]
  },
  {
   "cell_type": "markdown",
   "metadata": {},
   "source": [
    "What happens if we want to compte the function with an array as an input"
   ]
  },
  {
   "cell_type": "code",
   "execution_count": 7,
   "metadata": {},
   "outputs": [
    {
     "ename": "LoadError",
     "evalue": "MethodError: no method matching ^(::Vector{Int64}, ::Int64)\n\u001b[0mClosest candidates are:\n\u001b[0m  ^(\u001b[91m::Union{AbstractChar, AbstractString}\u001b[39m, ::Integer) at /usr/share/julia/base/strings/basic.jl:721\n\u001b[0m  ^(\u001b[91m::LinearAlgebra.Diagonal\u001b[39m, ::Integer) at /usr/share/julia/stdlib/v1.7/LinearAlgebra/src/diagonal.jl:196\n\u001b[0m  ^(\u001b[91m::LinearAlgebra.Diagonal\u001b[39m, ::Real) at /usr/share/julia/stdlib/v1.7/LinearAlgebra/src/diagonal.jl:195\n\u001b[0m  ...",
     "output_type": "error",
     "traceback": [
      "MethodError: no method matching ^(::Vector{Int64}, ::Int64)\n\u001b[0mClosest candidates are:\n\u001b[0m  ^(\u001b[91m::Union{AbstractChar, AbstractString}\u001b[39m, ::Integer) at /usr/share/julia/base/strings/basic.jl:721\n\u001b[0m  ^(\u001b[91m::LinearAlgebra.Diagonal\u001b[39m, ::Integer) at /usr/share/julia/stdlib/v1.7/LinearAlgebra/src/diagonal.jl:196\n\u001b[0m  ^(\u001b[91m::LinearAlgebra.Diagonal\u001b[39m, ::Real) at /usr/share/julia/stdlib/v1.7/LinearAlgebra/src/diagonal.jl:195\n\u001b[0m  ...",
      "",
      "Stacktrace:",
      " [1] literal_pow",
      "   @ ./intfuncs.jl:325 [inlined]",
      " [2] f(x::Vector{Int64})",
      "   @ Main ./In[3]:1",
      " [3] top-level scope",
      "   @ In[7]:1",
      " [4] eval",
      "   @ ./boot.jl:373 [inlined]",
      " [5] include_string(mapexpr::typeof(REPL.softscope), mod::Module, code::String, filename::String)",
      "   @ Base ./loading.jl:1196"
     ]
    }
   ],
   "source": [
    "f([1, 2, 3])"
   ]
  },
  {
   "cell_type": "markdown",
   "metadata": {},
   "source": [
    "Now we can define a new method of function `f`"
   ]
  },
  {
   "cell_type": "code",
   "execution_count": 8,
   "metadata": {},
   "outputs": [
    {
     "data": {
      "text/plain": [
       "f (generic function with 2 methods)"
      ]
     },
     "execution_count": 8,
     "metadata": {},
     "output_type": "execute_result"
    }
   ],
   "source": [
    "f(x::Vector) = x.^2"
   ]
  },
  {
   "cell_type": "code",
   "execution_count": 9,
   "metadata": {},
   "outputs": [
    {
     "data": {
      "text/plain": [
       "3-element Vector{Int64}:\n",
       " 1\n",
       " 4\n",
       " 9"
      ]
     },
     "execution_count": 9,
     "metadata": {},
     "output_type": "execute_result"
    }
   ],
   "source": [
    "f([1,2,3])"
   ]
  },
  {
   "cell_type": "markdown",
   "metadata": {},
   "source": [
    "Let's try it again using defining `foo1` function"
   ]
  },
  {
   "cell_type": "code",
   "execution_count": 19,
   "metadata": {},
   "outputs": [
    {
     "data": {
      "text/plain": [
       "foo1 (generic function with 1 method)"
      ]
     },
     "execution_count": 19,
     "metadata": {},
     "output_type": "execute_result"
    }
   ],
   "source": [
    "foo1(x::String,y::String) = println(\"This are the values of $x and $y\")"
   ]
  },
  {
   "cell_type": "code",
   "execution_count": 20,
   "metadata": {},
   "outputs": [
    {
     "name": "stdout",
     "output_type": "stream",
     "text": [
      "This are the values of String A and String B\n"
     ]
    }
   ],
   "source": [
    "foo1(\"String A\", \"String B\" )"
   ]
  },
  {
   "cell_type": "code",
   "execution_count": 21,
   "metadata": {},
   "outputs": [
    {
     "ename": "LoadError",
     "evalue": "MethodError: no method matching foo1(::Int64, ::Int64)",
     "output_type": "error",
     "traceback": [
      "MethodError: no method matching foo1(::Int64, ::Int64)",
      "",
      "Stacktrace:",
      " [1] top-level scope",
      "   @ In[21]:1",
      " [2] eval",
      "   @ ./boot.jl:373 [inlined]",
      " [3] include_string(mapexpr::typeof(REPL.softscope), mod::Module, code::String, filename::String)",
      "   @ Base ./loading.jl:1196"
     ]
    }
   ],
   "source": [
    "foo1(1,2)"
   ]
  },
  {
   "cell_type": "code",
   "execution_count": 22,
   "metadata": {},
   "outputs": [
    {
     "data": {
      "text/html": [
       "# 1 method for generic function <b>foo1</b>:<ul><li> foo1(x::<b>String</b>, y::<b>String</b>) in Main at In[19]:1</li> </ul>"
      ],
      "text/plain": [
       "# 1 method for generic function \"foo1\":\n",
       "[1] foo1(x::String, y::String) in Main at In[19]:1"
      ]
     },
     "execution_count": 22,
     "metadata": {},
     "output_type": "execute_result"
    }
   ],
   "source": [
    "methods(foo1)"
   ]
  },
  {
   "cell_type": "markdown",
   "metadata": {},
   "source": [
    "Now we can define from strart usign `@edit` macro and defining it generically like:"
   ]
  },
  {
   "cell_type": "code",
   "execution_count": 25,
   "metadata": {},
   "outputs": [],
   "source": [
    "for Types in (String,Int)\n",
    "    @eval foo1(x::$Types,y::$Types) = println(\"These are the values of $x and $y\")\n",
    "end"
   ]
  },
  {
   "cell_type": "code",
   "execution_count": 29,
   "metadata": {},
   "outputs": [
    {
     "data": {
      "text/html": [
       "# 2 methods for generic function <b>foo1</b>:<ul><li> foo1(x::<b>String</b>, y::<b>String</b>) in Main at In[25]:2</li> <li> foo1(x::<b>Int64</b>, y::<b>Int64</b>) in Main at In[25]:2</li> </ul>"
      ],
      "text/plain": [
       "# 2 methods for generic function \"foo1\":\n",
       "[1] foo1(x::String, y::String) in Main at In[25]:2\n",
       "[2] foo1(x::Int64, y::Int64) in Main at In[25]:2"
      ]
     },
     "execution_count": 29,
     "metadata": {},
     "output_type": "execute_result"
    }
   ],
   "source": [
    "methods(foo1)"
   ]
  },
  {
   "cell_type": "code",
   "execution_count": 31,
   "metadata": {},
   "outputs": [
    {
     "name": "stdout",
     "output_type": "stream",
     "text": [
      "These are the values of 1 and 2\n",
      "These are the values of Uno and Dos\n"
     ]
    }
   ],
   "source": [
    "foo1(1,2)\n",
    "foo1(\"Uno\",\"Dos\")"
   ]
  },
  {
   "cell_type": "markdown",
   "metadata": {},
   "source": [
    "There is a way to see which method is being used when we call a function like:"
   ]
  },
  {
   "cell_type": "code",
   "execution_count": 32,
   "metadata": {},
   "outputs": [
    {
     "data": {
      "text/html": [
       "foo1(x::<b>Int64</b>, y::<b>Int64</b>) in Main at In[25]:2"
      ],
      "text/plain": [
       "foo1(x::Int64, y::Int64) in Main at In[25]:2"
      ]
     },
     "execution_count": 32,
     "metadata": {},
     "output_type": "execute_result"
    }
   ],
   "source": [
    "@which foo1(1,2)"
   ]
  },
  {
   "cell_type": "markdown",
   "metadata": {},
   "source": [
    "We can add now a more general method to make it works the function for every case, obviosuly reduceing the preformance"
   ]
  },
  {
   "cell_type": "code",
   "execution_count": 33,
   "metadata": {},
   "outputs": [
    {
     "data": {
      "text/plain": [
       "foo1 (generic function with 3 methods)"
      ]
     },
     "execution_count": 33,
     "metadata": {},
     "output_type": "execute_result"
    }
   ],
   "source": [
    "foo1(x,y) = println(\"These are the values of $x and $y\")"
   ]
  },
  {
   "cell_type": "code",
   "execution_count": 36,
   "metadata": {},
   "outputs": [
    {
     "name": "stdout",
     "output_type": "stream",
     "text": [
      "These are the values of 1 and 2.0\n"
     ]
    },
    {
     "data": {
      "text/html": [
       "foo1(x, y) in Main at In[33]:1"
      ],
      "text/plain": [
       "foo1(x, y) in Main at In[33]:1"
      ]
     },
     "execution_count": 36,
     "metadata": {},
     "output_type": "execute_result"
    }
   ],
   "source": [
    "foo1(1,2.0)\n",
    "@which foo1(1,2.0)"
   ]
  },
  {
   "cell_type": "code",
   "execution_count": 40,
   "metadata": {},
   "outputs": [
    {
     "name": "stdout",
     "output_type": "stream",
     "text": [
      "These are the values of 1 and 2.0\n",
      "  0.000049 seconds (29 allocations: 1.516 KiB)\n",
      "These are the values of 1 and 2\n",
      "  0.000041 seconds (27 allocations: 832 bytes)\n"
     ]
    }
   ],
   "source": [
    "@time foo1(1,2.0)\n",
    "@time foo1(1,2)"
   ]
  },
  {
   "cell_type": "code",
   "execution_count": null,
   "metadata": {},
   "outputs": [],
   "source": []
  }
 ],
 "metadata": {
  "hide_input": false,
  "kernelspec": {
   "display_name": "Julia 1.7.2",
   "language": "julia",
   "name": "julia-1.7"
  },
  "language_info": {
   "file_extension": ".jl",
   "mimetype": "application/julia",
   "name": "julia",
   "version": "1.7.3"
  },
  "varInspector": {
   "cols": {
    "lenName": 16,
    "lenType": 16,
    "lenVar": 40
   },
   "kernels_config": {
    "python": {
     "delete_cmd_postfix": "",
     "delete_cmd_prefix": "del ",
     "library": "var_list.py",
     "varRefreshCmd": "print(var_dic_list())"
    },
    "r": {
     "delete_cmd_postfix": ") ",
     "delete_cmd_prefix": "rm(",
     "library": "var_list.r",
     "varRefreshCmd": "cat(var_dic_list()) "
    }
   },
   "types_to_exclude": [
    "module",
    "function",
    "builtin_function_or_method",
    "instance",
    "_Feature"
   ],
   "window_display": false
  }
 },
 "nbformat": 4,
 "nbformat_minor": 1
}
