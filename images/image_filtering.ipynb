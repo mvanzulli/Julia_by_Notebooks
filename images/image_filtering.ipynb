{
 "cells": [
  {
   "attachments": {},
   "cell_type": "markdown",
   "metadata": {},
   "source": [
    "## Image filtering"
   ]
  },
  {
   "cell_type": "code",
   "execution_count": 111,
   "metadata": {},
   "outputs": [],
   "source": [
    "using ImageFiltering, TestImages"
   ]
  },
  {
   "attachments": {},
   "cell_type": "markdown",
   "metadata": {},
   "source": [
    "### 2D image"
   ]
  },
  {
   "cell_type": "code",
   "execution_count": 112,
   "metadata": {},
   "outputs": [
    {
     "data": {
      "text/plain": [
       "7×7 Matrix{Int64}:\n",
       " 0  0  0  0  0  0  0\n",
       " 0  0  0  0  0  0  0\n",
       " 0  0  0  0  0  0  0\n",
       " 0  0  0  1  0  0  0\n",
       " 0  0  0  0  0  0  0\n",
       " 0  0  0  0  0  0  0\n",
       " 0  0  0  0  0  0  0"
      ]
     },
     "metadata": {},
     "output_type": "display_data"
    }
   ],
   "source": [
    "image_size = (7,7)\n",
    "\n",
    "# Create a two-dimensional discrete unit impulse function.\n",
    "f = fill(0,image_size);\n",
    "f[4, 4] = 1;\n",
    "f"
   ]
  },
  {
   "attachments": {},
   "cell_type": "markdown",
   "metadata": {},
   "source": [
    "Apply a mask"
   ]
  },
  {
   "cell_type": "code",
   "execution_count": 113,
   "metadata": {},
   "outputs": [
    {
     "data": {
      "text/plain": [
       "3×3 OffsetArray(::Matrix{Int64}, -1:1, -1:1) with eltype Int64 with indices -1:1×-1:1:\n",
       " 1  2  3\n",
       " 4  5  6\n",
       " 7  8  9"
      ]
     },
     "metadata": {},
     "output_type": "display_data"
    }
   ],
   "source": [
    "# Specify a filter coefficient mask and set the center of the mask as the origin.\n",
    "w = centered([1 2 3; 4 5 6 ; 7 8 9];)"
   ]
  },
  {
   "attachments": {},
   "cell_type": "markdown",
   "metadata": {},
   "source": [
    "Convolve"
   ]
  },
  {
   "cell_type": "code",
   "execution_count": 114,
   "metadata": {},
   "outputs": [
    {
     "data": {
      "text/plain": [
       "7×7 Matrix{Int64}:\n",
       " 0  0  0  0  0  0  0\n",
       " 0  0  0  0  0  0  0\n",
       " 0  0  1  2  3  0  0\n",
       " 0  0  4  5  6  0  0\n",
       " 0  0  7  8  9  0  0\n",
       " 0  0  0  0  0  0  0\n",
       " 0  0  0  0  0  0  0"
      ]
     },
     "metadata": {},
     "output_type": "display_data"
    }
   ],
   "source": [
    "convolution = imfilter(f,reflect(w), Fill(0,w))"
   ]
  },
  {
   "cell_type": "code",
   "execution_count": 115,
   "metadata": {},
   "outputs": [
    {
     "data": {
      "text/plain": [
       "7×7 Matrix{Int64}:\n",
       " 0  0  0  0  0  0  0\n",
       " 0  0  0  0  0  0  0\n",
       " 0  0  9  8  7  0  0\n",
       " 0  0  6  5  4  0  0\n",
       " 0  0  3  2  1  0  0\n",
       " 0  0  0  0  0  0  0\n",
       " 0  0  0  0  0  0  0"
      ]
     },
     "metadata": {},
     "output_type": "display_data"
    }
   ],
   "source": [
    "correlation = imfilter(f,w,Fill(0,w))"
   ]
  },
  {
   "attachments": {},
   "cell_type": "markdown",
   "metadata": {},
   "source": [
    "### Median Filters\n",
    "The Median filter is the popular known order-statistic filter in digital image processing. Median filter is very popular technique for the removal of impulse noise because of its good de-noising power and mathematical accuracy. The value of a pixel is replaced by a median of the intensity levels in the neighborhood of that pixel by the Median Filter. A fixed filtering window size is used for outcome of neighborhood pixels by the Median Filter. The median filters are implemented consistently across the image and therefore tends to modify both noisy and noise free pixels present in the image. Relation to this, there is always a chance of replacement of good pixels by some corrupted ones. Therefore, de-noising is often accomplished at the expense of blurred and distorted features thus removing fine details present in the image."
   ]
  },
  {
   "cell_type": "code",
   "execution_count": 116,
   "metadata": {},
   "outputs": [
    {
     "data": {
      "text/plain": [
       "7×7 Matrix{Float64}:\n",
       " 0.0  0.0  0.0  0.0  0.0  0.0  0.0\n",
       " 0.0  0.0  0.0  0.0  0.0  0.0  0.0\n",
       " 0.0  0.0  0.0  0.0  0.0  0.0  0.0\n",
       " 0.0  0.0  0.0  0.0  0.0  0.0  0.0\n",
       " 0.0  0.0  0.0  0.0  0.0  0.0  0.0\n",
       " 0.0  0.0  0.0  0.0  0.0  0.0  0.0\n",
       " 0.0  0.0  0.0  0.0  0.0  0.0  0.0"
      ]
     },
     "metadata": {},
     "output_type": "display_data"
    }
   ],
   "source": [
    "using Statistics\n",
    "median_filetr_size = (3,3)\n",
    "imgm = mapwindow(median, f, median_filetr_size)"
   ]
  },
  {
   "attachments": {},
   "cell_type": "markdown",
   "metadata": {},
   "source": [
    "### Gaussian filter\n",
    "Gaussian Noise which is added to the images shown in the fig 6(a).Gaussian distribution which is also known as normal distribution whose probability is equal to statistical noise known as Gaussian Noise. Due to poor illumination and great extent of temperature or transmission of particles in an electronic image it fails to meet up the requirement for the clear image this noise is caused. By using a Weiner filter this noise can be reduced to very much extent. Same filters are used to check out the best filter for this noise. The best filter was Weiner filter but the minimum size value after using the different filters is given by all three filters shown in fig 5. Each filter is used on all the images, their outcome is noted and compared with the other entire filter applied on the same images. The circularly symmetric Gaussian behavior is found in the mellow ultra- sound speckle echo for marginal statistics which is similar to the laser speckle for monochromatic illumination."
   ]
  },
  {
   "cell_type": "code",
   "execution_count": 117,
   "metadata": {},
   "outputs": [
    {
     "data": {
      "text/plain": [
       "7×7 Matrix{Float64}:\n",
       " 0.0  0.0          0.0         0.0          0.0         0.0          0.0\n",
       " 0.0  6.96248e-8   2.80886e-5  0.000207549  2.80886e-5  6.96248e-8   0.0\n",
       " 0.0  2.80886e-5   0.0113318   0.0837311    0.0113318   2.80886e-5   0.0\n",
       " 0.0  0.000207549  0.0837311   0.618694     0.0837311   0.000207549  0.0\n",
       " 0.0  2.80886e-5   0.0113318   0.0837311    0.0113318   2.80886e-5   0.0\n",
       " 0.0  6.96248e-8   2.80886e-5  0.000207549  2.80886e-5  6.96248e-8   0.0\n",
       " 0.0  0.0          0.0         0.0          0.0         0.0          0.0"
      ]
     },
     "metadata": {},
     "output_type": "display_data"
    }
   ],
   "source": [
    "σₓ = 0.5\n",
    "lₓ = 5\n",
    "σᵧ = 0.5\n",
    "lᵧ = 5\n",
    "gaussian_kernel = KernelFactors.gaussian((σₓ,σᵧ), (lₓ,lᵧ))\n",
    "filtered_gaussian_image = imfilter(f,gaussian_kernel,Fill(0))"
   ]
  },
  {
   "attachments": {},
   "cell_type": "markdown",
   "metadata": {},
   "source": [
    "## 3D image"
   ]
  },
  {
   "cell_type": "code",
   "execution_count": 118,
   "metadata": {},
   "outputs": [
    {
     "data": {
      "text/plain": [
       "3×3×3 Array{Int64, 3}:\n",
       "[:, :, 1] =\n",
       " 0  0  0\n",
       " 0  0  0\n",
       " 0  0  0\n",
       "\n",
       "[:, :, 2] =\n",
       " 0  0  0\n",
       " 0  1  0\n",
       " 0  0  0\n",
       "\n",
       "[:, :, 3] =\n",
       " 0  0  0\n",
       " 0  0  0\n",
       " 0  0  0"
      ]
     },
     "metadata": {},
     "output_type": "display_data"
    }
   ],
   "source": [
    "image_size = (3,3,3)\n",
    "\n",
    "# Create a two-dimensional discrete unit impulse function.\n",
    "f = fill(0,image_size);\n",
    "f[2, 2, 2] = 1;\n",
    "f"
   ]
  },
  {
   "cell_type": "code",
   "execution_count": 119,
   "metadata": {},
   "outputs": [
    {
     "data": {
      "text/plain": [
       "3×3×3 Array{Float64, 3}:\n",
       "[:, :, 1] =\n",
       " 1.0  2.0  3.0\n",
       " 4.0  5.0  6.0\n",
       " 7.0  8.0  9.0\n",
       "\n",
       "[:, :, 2] =\n",
       " 1.0  2.0  3.0\n",
       " 4.0  5.0  6.0\n",
       " 7.0  8.0  9.0\n",
       "\n",
       "[:, :, 3] =\n",
       " 1.0  2.0  3.0\n",
       " 4.0  5.0  6.0\n",
       " 7.0  8.0  9.0"
      ]
     },
     "metadata": {},
     "output_type": "display_data"
    }
   ],
   "source": [
    "# Specify a filter coefficient mask and set the center of the mask as the origin.\n",
    "w = zeros(3,3,3)\n",
    "w_f = [1 2 3; 4 5 6 ; 7 8 9]\n",
    "w[:,:,1] = w_f\n",
    "w[:,:,2] = w_f\n",
    "w[:,:,3] = w_f\n",
    "w"
   ]
  },
  {
   "cell_type": "code",
   "execution_count": 120,
   "metadata": {},
   "outputs": [
    {
     "data": {
      "text/plain": [
       "3×3×3 Array{Float64, 3}:\n",
       "[:, :, 1] =\n",
       " 9.0  8.0  7.0\n",
       " 6.0  5.0  4.0\n",
       " 3.0  2.0  1.0\n",
       "\n",
       "[:, :, 2] =\n",
       " 9.0  8.0  7.0\n",
       " 6.0  5.0  4.0\n",
       " 3.0  2.0  1.0\n",
       "\n",
       "[:, :, 3] =\n",
       " 9.0  8.0  7.0\n",
       " 6.0  5.0  4.0\n",
       " 3.0  2.0  1.0"
      ]
     },
     "metadata": {},
     "output_type": "display_data"
    }
   ],
   "source": [
    "correlation = imfilter(f,w, Fill(0))"
   ]
  }
 ],
 "metadata": {
  "kernelspec": {
   "display_name": "Julia 1.9.0",
   "language": "julia",
   "name": "julia-1.9"
  },
  "language_info": {
   "file_extension": ".jl",
   "mimetype": "application/julia",
   "name": "julia",
   "version": "1.9.0"
  },
  "orig_nbformat": 4
 },
 "nbformat": 4,
 "nbformat_minor": 2
}
