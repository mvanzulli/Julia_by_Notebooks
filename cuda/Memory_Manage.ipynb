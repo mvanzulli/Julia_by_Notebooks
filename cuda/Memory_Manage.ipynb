{
 "cells": [
  {
   "cell_type": "code",
   "execution_count": 1,
   "id": "beb79353",
   "metadata": {},
   "outputs": [
    {
     "data": {
      "text/html": [
       "<link href='http://fonts.googleapis.com/css?family=Alegreya+Sans:100,300,400,500,700,800,900,100italic,300italic,400italic,500italic,700italic,800italic,900italic' rel='stylesheet' type='text/css'>\r\n",
       "<link href='http://fonts.googleapis.com/css?family=Arvo:400,700,400italic' rel='stylesheet' type='text/css'>\r\n",
       "<link href='http://fonts.googleapis.com/css?family=PT+Mono' rel='stylesheet' type='text/css'>\r\n",
       "<link href='http://fonts.googleapis.com/css?family=Shadows+Into+Light' rel='stylesheet' type='text/css'>\r\n",
       "<link href='http://fonts.googleapis.com/css?family=Philosopher:400,700,400italic,700italic' rel='stylesheet' type='text/css'>\r\n",
       "\r\n",
       "<style>\r\n",
       "\r\n",
       "@font-face {\r\n",
       "    font-family: \"Computer Modern\";\r\n",
       "    src: url('http://mirrors.ctan.org/fonts/cm-unicode/fonts/otf/cmunss.otf');\r\n",
       "}\r\n",
       "\r\n",
       "\r\n",
       "\r\n",
       "/* Formatting for header cells */\r\n",
       ".text_cell_render h1 {\r\n",
       "    font-family: 'Philosopher', sans-serif;\r\n",
       "    font-weight: 400;\r\n",
       "    font-size: 2.2em;\r\n",
       "    line-height: 100%;\r\n",
       "    color: rgb(0, 80, 120);\r\n",
       "    margin-bottom: 0.1em;\r\n",
       "    margin-top: 0.1em;\r\n",
       "    display: block;\r\n",
       "}\t\r\n",
       ".text_cell_render h2 {\r\n",
       "    font-family: 'Philosopher', serif;\r\n",
       "    font-weight: 400;\r\n",
       "    font-size: 1.9em;\r\n",
       "    line-height: 100%;\r\n",
       "    color: rgb(200,100,0);\r\n",
       "    margin-bottom: 0.1em;\r\n",
       "    margin-top: 0.1em;\r\n",
       "    display: block;\r\n",
       "}\t\r\n",
       "\r\n",
       ".text_cell_render h3 {\r\n",
       "    font-family: 'Philosopher', serif;\r\n",
       "    margin-top:12px;\r\n",
       "    margin-bottom: 3px;\r\n",
       "    font-style: italic;\r\n",
       "    color: rgb(94,127,192);\r\n",
       "}\r\n",
       "\r\n",
       ".text_cell_render h4 {\r\n",
       "    font-family: 'Philosopher', serif;\r\n",
       "}\r\n",
       "\r\n",
       ".text_cell_render h5 {\r\n",
       "    font-family: 'Alegreya Sans', sans-serif;\r\n",
       "    font-weight: 300;\r\n",
       "    font-size: 16pt;\r\n",
       "    color: grey;\r\n",
       "    font-style: italic;\r\n",
       "    margin-bottom: .1em;\r\n",
       "    margin-top: 0.1em;\r\n",
       "    display: block;\r\n",
       "}\r\n",
       "\r\n",
       ".text_cell_render h6 {\r\n",
       "    font-family: 'PT Mono', sans-serif;\r\n",
       "    font-weight: 300;\r\n",
       "    font-size: 10pt;\r\n",
       "    color: grey;\r\n",
       "    margin-bottom: 1px;\r\n",
       "    margin-top: 1px;\r\n",
       "}\r\n",
       "\r\n",
       ".CodeMirror{\r\n",
       "        font-family: \"PT Mono\";\r\n",
       "        font-size: 100%;\r\n",
       "}\r\n",
       "\r\n",
       "</style>\r\n",
       "\r\n"
      ],
      "text/plain": [
       "HTML{String}(\"<link href='http://fonts.googleapis.com/css?family=Alegreya+Sans:100,300,400,500,700,800,900,100italic,300italic,400italic,500italic,700italic,800italic,900italic' rel='stylesheet' type='text/css'>\\r\\n<link href='http://fonts.googleapis.com/css?family=Arvo:400,700,400italic' rel='stylesheet' type='text/css'>\\r\\n<link href='http://fonts.googleapis.com/css?family=PT+Mono' rel='stylesheet' type='text/css'>\\r\\n<link href='http://fonts.googleapis.com/css?family=Shadows+Into+Light' rel='stylesheet' type='text/css'>\\r\\n<link href='http://fonts.googleapis.com/css?family=Philosopher:400,700,400italic,700italic' rel='stylesheet' type='text/css'>\\r\\n\\r\\n<style>\\r\\n\\r\\n@font-face {\\r\\n    font-family: \\\"Computer Modern\\\";\\r\\n    src: url('http://mirrors.ctan.org/fonts/cm-unicode/fonts/otf/cmunss.otf');\\r\\n}\\r\\n\\r\\n\\r\\n\\r\\n/* Formatting for header cells */\\r\\n.text_cell_render h1 {\\r\\n    font-family: 'Philosopher', sans-serif;\\r\\n    font-weight: 400;\\r\\n    font-size: 2.2em;\\r\\n    line-height: 100%;\\r\\n    color: rgb(0, 80, 120);\\r\\n    margin-bottom: 0.1em;\\r\\n    margin-top: 0.1em;\\r\\n    display: block;\\r\\n}\\t\\r\\n.text_cell_render h2 {\\r\\n    font-family: 'Philosopher', serif;\\r\\n    font-weight: 400;\\r\\n    font-size: 1.9em;\\r\\n    line-height: 100%;\\r\\n    color: rgb(200,100,0);\\r\\n    margin-bottom: 0.1em;\\r\\n    margin-top: 0.1em;\\r\\n    display: block;\\r\\n}\\t\\r\\n\\r\\n.text_cell_render h3 {\\r\\n    font-family: 'Philosopher', serif;\\r\\n    margin-top:12px;\\r\\n    margin-bottom: 3px;\\r\\n    font-style: italic;\\r\\n    color: rgb(94,127,192);\\r\\n}\\r\\n\\r\\n.text_cell_render h4 {\\r\\n    font-family: 'Philosopher', serif;\\r\\n}\\r\\n\\r\\n.text_cell_render h5 {\\r\\n    font-family: 'Alegreya Sans', sans-serif;\\r\\n    font-weight: 300;\\r\\n    font-size: 16pt;\\r\\n    color: grey;\\r\\n    font-style: italic;\\r\\n    margin-bottom: .1em;\\r\\n    margin-top: 0.1em;\\r\\n    display: block;\\r\\n}\\r\\n\\r\\n.text_cell_render h6 {\\r\\n    font-family: 'PT Mono', sans-serif;\\r\\n    font-weight: 300;\\r\\n    font-size: 10pt;\\r\\n    color: grey;\\r\\n    margin-bottom: 1px;\\r\\n    margin-top: 1px;\\r\\n}\\r\\n\\r\\n.CodeMirror{\\r\\n        font-family: \\\"PT Mono\\\";\\r\\n        font-size: 100%;\\r\\n}\\r\\n\\r\\n</style>\\r\\n\\r\\n\")"
      ]
     },
     "execution_count": 1,
     "metadata": {},
     "output_type": "execute_result"
    }
   ],
   "source": [
    "# Setting up a custom stylesheet in IJulia\n",
    "file = open(\"./../style.css\") # A .css file in the same folder as this notebook file\n",
    "styl = read(file, String) # Read the file\n",
    "HTML(\"$styl\") # Output as HTML"
   ]
  },
  {
   "cell_type": "markdown",
   "id": "9236e9f7",
   "metadata": {},
   "source": [
    "## CUDA.jl (based on [CUDA.jl/ docs]"
   ]
  },
  {
   "cell_type": "markdown",
   "id": "789fdda6",
   "metadata": {},
   "source": [
    "### Memory management"
   ]
  },
  {
   "cell_type": "markdown",
   "id": "14ee3a94",
   "metadata": {},
   "source": [
    "Memory management  is a highly important aspect of GPU programming. The `CuArray` type is the primary interface for doing so: Certain `CuArray` will automatically allocate memory data on the GPU, copying elements to it will uplad and then convering back to an Array will download to the CPU: "
   ]
  },
  {
   "cell_type": "code",
   "execution_count": 17,
   "id": "8edba11c",
   "metadata": {
    "scrolled": true
   },
   "outputs": [
    {
     "data": {
      "text/plain": [
       "\u001b[32m\u001b[1mTest Passed\u001b[22m\u001b[39m\n",
       "  Expression: cpu == Array(gpu)\n",
       "   Evaluated: Float32[0.9769538, 0.29255325, 0.9496431, 0.9284388, 0.59763557, 0.8097115, 0.55664915, 0.5397078, 0.3149128, 0.7165329  …  0.8114963, 0.3918023, 0.5987678, 0.43801403, 0.38594592, 0.030004144, 0.6159654, 0.2991097, 0.8174435, 0.37383997] == Float32[0.9769538, 0.29255325, 0.9496431, 0.9284388, 0.59763557, 0.8097115, 0.55664915, 0.5397078, 0.3149128, 0.7165329  …  0.8114963, 0.3918023, 0.5987678, 0.43801403, 0.38594592, 0.030004144, 0.6159654, 0.2991097, 0.8174435, 0.37383997]"
      ]
     },
     "execution_count": 17,
     "metadata": {},
     "output_type": "execute_result"
    }
   ],
   "source": [
    "import CUDA, Test\n",
    "# generate cpu array\n",
    "cpu = rand(Float32, 1024)\n",
    "\n",
    "# allocate memory on the GPU\n",
    "gpu = CUDA.CuArray{Float32}(undef, 1024)\n",
    "\n",
    "# copy from the CPU to the the GPU copyto!(destiny, origin)\n",
    "copyto!(gpu, cpu)\n",
    "\n",
    "# download and verify \n",
    "Test.@test cpu == Array(gpu)\n",
    "\n",
    "# this is the same to do \n",
    "gpu = CUDA.CuArray(cpu)\n",
    "\n",
    "# verify \n",
    "Test.@test cpu == Array(gpu)\n"
   ]
  },
  {
   "cell_type": "markdown",
   "id": "a8aa594f",
   "metadata": {},
   "source": [
    "In many cases, you might not want to convert your input data to a dense CuArray. For example, with array wrappers you will want to preserve that wrapper type on the GPU and only upload the contained data. The Adapt.jl package does exactly that, and contains a list of rules on how to unpack and reconstruct types like array wrappers so that we can preserve the type when, e.g., uploading data to the GPU:"
   ]
  },
  {
   "cell_type": "code",
   "execution_count": 28,
   "id": "b423af05",
   "metadata": {
    "scrolled": true
   },
   "outputs": [
    {
     "data": {
      "text/plain": [
       "2×2 Diagonal{Int64, CUDA.CuArray{Int64, 1, CUDA.Mem.DeviceBuffer}}:\n",
       " 1  ⋅\n",
       " ⋅  2"
      ]
     },
     "execution_count": 28,
     "metadata": {},
     "output_type": "execute_result"
    }
   ],
   "source": [
    "import LinearAlgebra\n",
    "# define a cpu diagonal object\n",
    "cpu_diag = LinearAlgebra.Diagonal([1,2])\n",
    "\n",
    "# adapt the struct to CuArray object function \n",
    "import Adapt\n",
    "gpu_diag = Adapt.adapt(CUDA.CuArray, cpu)\n",
    "\n",
    "# or instead we can use: \n",
    "CUDA.cu(cpu_diag)"
   ]
  },
  {
   "cell_type": "markdown",
   "id": "de991a06",
   "metadata": {},
   "source": [
    "### Garbage collection"
   ]
  },
  {
   "cell_type": "markdown",
   "id": "389b7b9e",
   "metadata": {},
   "source": [
    "In computer science, garbage collection (GC) is a form of automatic memory management. The garbage collector, or just collector, attempts to reclaim garbage, or memory occupied by objects that are no longer in use by the program. `CuArray` objects type are managed by the Julia garbage collector. This means that will be collected once they are unreachable, and the memory hold by it will be reused. "
   ]
  },
  {
   "cell_type": "markdown",
   "id": "73cf33d0",
   "metadata": {},
   "source": [
    "### Memory pool\n",
    "Behind the scenes, a memory pool will hold on to your objects and cache the underlying memory to speed up future allocations. As a result, your GPU might seem to be running out of memory while it isn't. When memory pressure is high, the pool will automatically free cached objects:"
   ]
  },
  {
   "cell_type": "markdown",
   "id": "e4595bb6",
   "metadata": {},
   "source": [
    "Initial state:"
   ]
  },
  {
   "cell_type": "code",
   "execution_count": 31,
   "id": "818dbd64",
   "metadata": {
    "scrolled": true
   },
   "outputs": [
    {
     "name": "stdout",
     "output_type": "stream",
     "text": [
      "Effective GPU memory usage: 2.45% (145.500 MiB/5.807 GiB)\n",
      "Memory pool usage: 28.062 KiB (32.000 MiB reserved)"
     ]
    }
   ],
   "source": [
    "CUDA.memory_status() "
   ]
  },
  {
   "cell_type": "markdown",
   "id": "1c3b375c",
   "metadata": {},
   "source": [
    "Allocate memory:"
   ]
  },
  {
   "cell_type": "code",
   "execution_count": 42,
   "id": "c48250c0",
   "metadata": {},
   "outputs": [
    {
     "name": "stdout",
     "output_type": "stream",
     "text": [
      "kb_size of var is 80000.0\n"
     ]
    }
   ],
   "source": [
    "var = CUDA.CuArray{Int}(undef, 100_000_00)\n",
    "\n",
    "println(\"kb_size of var is $(100_000_00*8/1000)\") "
   ]
  },
  {
   "cell_type": "markdown",
   "id": "51f4a782",
   "metadata": {},
   "source": [
    "New state:"
   ]
  },
  {
   "cell_type": "code",
   "execution_count": 43,
   "id": "086fa730",
   "metadata": {
    "scrolled": true
   },
   "outputs": [
    {
     "name": "stdout",
     "output_type": "stream",
     "text": [
      "Effective GPU memory usage: 3.52% (209.500 MiB/5.807 GiB)\n",
      "Memory pool usage: 76.321 MiB (96.000 MiB reserved)"
     ]
    }
   ],
   "source": [
    "CUDA.memory_status()"
   ]
  },
  {
   "cell_type": "markdown",
   "id": "ad7485b3",
   "metadata": {},
   "source": [
    "We can reclaim more cache memory using:"
   ]
  },
  {
   "cell_type": "code",
   "execution_count": 44,
   "id": "40765f12",
   "metadata": {},
   "outputs": [
    {
     "name": "stdout",
     "output_type": "stream",
     "text": [
      "Effective GPU memory usage: 3.52% (209.500 MiB/5.807 GiB)\n",
      "Memory pool usage: 76.321 MiB (96.000 MiB reserved)"
     ]
    }
   ],
   "source": [
    "CUDA.reclaim()\n",
    "CUDA.memory_status()"
   ]
  },
  {
   "cell_type": "markdown",
   "id": "f3164a96",
   "metadata": {},
   "source": [
    "free memory allocated using:"
   ]
  },
  {
   "cell_type": "code",
   "execution_count": 46,
   "id": "574806e2",
   "metadata": {
    "scrolled": true
   },
   "outputs": [
    {
     "name": "stdout",
     "output_type": "stream",
     "text": [
      "Effective GPU memory usage: 3.52% (209.500 MiB/5.807 GiB)\n",
      "Memory pool usage: 28.062 KiB (96.000 MiB reserved)"
     ]
    }
   ],
   "source": [
    "CUDA.unsafe_free!(var)\n",
    "CUDA.memory_status()"
   ]
  },
  {
   "cell_type": "markdown",
   "id": "6a803819",
   "metadata": {},
   "source": [
    "¿What if we have no enough memory?"
   ]
  }
 ],
 "metadata": {
  "kernelspec": {
   "display_name": "Julia 1.7.2",
   "language": "julia",
   "name": "julia-1.7"
  },
  "language_info": {
   "file_extension": ".jl",
   "mimetype": "application/julia",
   "name": "julia",
   "version": "1.7.3"
  }
 },
 "nbformat": 4,
 "nbformat_minor": 5
}
