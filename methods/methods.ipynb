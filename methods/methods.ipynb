{
 "cells": [
  {
   "cell_type": "code",
   "execution_count": 1,
   "metadata": {},
   "outputs": [
    {
     "data": {
      "text/html": [
       "<link href='http://fonts.googleapis.com/css?family=Alegreya+Sans:100,300,400,500,700,800,900,100italic,300italic,400italic,500italic,700italic,800italic,900italic' rel='stylesheet' type='text/css'>\r\n",
       "<link href='http://fonts.googleapis.com/css?family=Arvo:400,700,400italic' rel='stylesheet' type='text/css'>\r\n",
       "<link href='http://fonts.googleapis.com/css?family=PT+Mono' rel='stylesheet' type='text/css'>\r\n",
       "<link href='http://fonts.googleapis.com/css?family=Shadows+Into+Light' rel='stylesheet' type='text/css'>\r\n",
       "<link href='http://fonts.googleapis.com/css?family=Philosopher:400,700,400italic,700italic' rel='stylesheet' type='text/css'>\r\n",
       "\r\n",
       "<style>\r\n",
       "\r\n",
       "@font-face {\r\n",
       "    font-family: \"Computer Modern\";\r\n",
       "    src: url('http://mirrors.ctan.org/fonts/cm-unicode/fonts/otf/cmunss.otf');\r\n",
       "}\r\n",
       "\r\n",
       "\r\n",
       "\r\n",
       "/* Formatting for header cells */\r\n",
       ".text_cell_render h1 {\r\n",
       "    font-family: 'Philosopher', sans-serif;\r\n",
       "    font-weight: 400;\r\n",
       "    font-size: 2.2em;\r\n",
       "    line-height: 100%;\r\n",
       "    color: rgb(0, 80, 120);\r\n",
       "    margin-bottom: 0.1em;\r\n",
       "    margin-top: 0.1em;\r\n",
       "    display: block;\r\n",
       "}\t\r\n",
       ".text_cell_render h2 {\r\n",
       "    font-family: 'Philosopher', serif;\r\n",
       "    font-weight: 400;\r\n",
       "    font-size: 1.9em;\r\n",
       "    line-height: 100%;\r\n",
       "    color: rgb(200,100,0);\r\n",
       "    margin-bottom: 0.1em;\r\n",
       "    margin-top: 0.1em;\r\n",
       "    display: block;\r\n",
       "}\t\r\n",
       "\r\n",
       ".text_cell_render h3 {\r\n",
       "    font-family: 'Philosopher', serif;\r\n",
       "    margin-top:12px;\r\n",
       "    margin-bottom: 3px;\r\n",
       "    font-style: italic;\r\n",
       "    color: rgb(94,127,192);\r\n",
       "}\r\n",
       "\r\n",
       ".text_cell_render h4 {\r\n",
       "    font-family: 'Philosopher', serif;\r\n",
       "}\r\n",
       "\r\n",
       ".text_cell_render h5 {\r\n",
       "    font-family: 'Alegreya Sans', sans-serif;\r\n",
       "    font-weight: 300;\r\n",
       "    font-size: 16pt;\r\n",
       "    color: grey;\r\n",
       "    font-style: italic;\r\n",
       "    margin-bottom: .1em;\r\n",
       "    margin-top: 0.1em;\r\n",
       "    display: block;\r\n",
       "}\r\n",
       "\r\n",
       ".text_cell_render h6 {\r\n",
       "    font-family: 'PT Mono', sans-serif;\r\n",
       "    font-weight: 300;\r\n",
       "    font-size: 10pt;\r\n",
       "    color: grey;\r\n",
       "    margin-bottom: 1px;\r\n",
       "    margin-top: 1px;\r\n",
       "}\r\n",
       "\r\n",
       ".CodeMirror{\r\n",
       "        font-family: \"PT Mono\";\r\n",
       "        font-size: 100%;\r\n",
       "}\r\n",
       "\r\n",
       "</style>\r\n",
       "\r\n"
      ],
      "text/plain": [
       "HTML{String}(\"<link href='http://fonts.googleapis.com/css?family=Alegreya+Sans:100,300,400,500,700,800,900,100italic,300italic,400italic,500italic,700italic,800italic,900italic' rel='stylesheet' type='text/css'>\\r\\n<link href='http://fonts.googleapis.com/css?family=Arvo:400,700,400italic' rel='stylesheet' type='text/css'>\\r\\n<link href='http://fonts.googleapis.com/css?family=PT+Mono' rel='stylesheet' type='text/css'>\\r\\n<link href='http://fonts.googleapis.com/css?family=Shadows+Into+Light' rel='stylesheet' type='text/css'>\\r\\n<link href='http://fonts.googleapis.com/css?family=Philosopher:400,700,400italic,700italic' rel='stylesheet' type='text/css'>\\r\\n\\r\\n<style>\\r\\n\\r\\n@font-face {\\r\\n    font-family: \\\"Computer Modern\\\";\\r\\n    src: url('http://mirrors.ctan.org/fonts/cm-unicode/fonts/otf/cmunss.otf');\\r\\n}\\r\\n\\r\\n\\r\\n\\r\\n/* Formatting for header cells */\\r\\n.text_cell_render h1 {\\r\\n    font-family: 'Philosopher', sans-serif;\\r\\n    font-weight: 400;\\r\\n    font-size: 2.2em;\\r\\n    line-height: 100%;\\r\\n    color: rgb(0, 80, 120);\\r\\n    margin-bottom: 0.1em;\\r\\n    margin-top: 0.1em;\\r\\n    display: block;\\r\\n}\\t\\r\\n.text_cell_render h2 {\\r\\n    font-family: 'Philosopher', serif;\\r\\n    font-weight: 400;\\r\\n    font-size: 1.9em;\\r\\n    line-height: 100%;\\r\\n    color: rgb(200,100,0);\\r\\n    margin-bottom: 0.1em;\\r\\n    margin-top: 0.1em;\\r\\n    display: block;\\r\\n}\\t\\r\\n\\r\\n.text_cell_render h3 {\\r\\n    font-family: 'Philosopher', serif;\\r\\n    margin-top:12px;\\r\\n    margin-bottom: 3px;\\r\\n    font-style: italic;\\r\\n    color: rgb(94,127,192);\\r\\n}\\r\\n\\r\\n.text_cell_render h4 {\\r\\n    font-family: 'Philosopher', serif;\\r\\n}\\r\\n\\r\\n.text_cell_render h5 {\\r\\n    font-family: 'Alegreya Sans', sans-serif;\\r\\n    font-weight: 300;\\r\\n    font-size: 16pt;\\r\\n    color: grey;\\r\\n    font-style: italic;\\r\\n    margin-bottom: .1em;\\r\\n    margin-top: 0.1em;\\r\\n    display: block;\\r\\n}\\r\\n\\r\\n.text_cell_render h6 {\\r\\n    font-family: 'PT Mono', sans-serif;\\r\\n    font-weight: 300;\\r\\n    font-size: 10pt;\\r\\n    color: grey;\\r\\n    margin-bottom: 1px;\\r\\n    margin-top: 1px;\\r\\n}\\r\\n\\r\\n.CodeMirror{\\r\\n        font-family: \\\"PT Mono\\\";\\r\\n        font-size: 100%;\\r\\n}\\r\\n\\r\\n</style>\\r\\n\\r\\n\")"
      ]
     },
     "execution_count": 1,
     "metadata": {},
     "output_type": "execute_result"
    }
   ],
   "source": [
    "# Setting up a custom stylesheet in IJulia\n",
    "file = open(\"./../style.css\") # A .css file in the same folder as this notebook file\n",
    "style = read(file, String) # Read the file\n",
    "HTML(\"$style\") # Output as HTML"
   ]
  },
  {
   "cell_type": "markdown",
   "metadata": {},
   "source": [
    "## In this notebook"
   ]
  },
  {
   "cell_type": "markdown",
   "metadata": {},
   "source": [
    "- [Introduction](#Introduction)\n",
    "- [Multiple Dispatch](#Multiple-Dispatch)\n",
    "- [Composite Types vs Dictionaries and Named Tuples](#Composite-Types-vs-Dictionaries-and-Named-Tuples)\n",
    "- [Example](#Example)"
   ]
  },
  {
   "cell_type": "markdown",
   "metadata": {},
   "source": [
    "## Introduction"
   ]
  },
  {
   "cell_type": "markdown",
   "metadata": {},
   "source": [
    "In Julia is a new methods feature to call the same function by different type of arguments. In julia macro @which reveals the list of available methods for a function:\n"
   ]
  },
  {
   "cell_type": "code",
   "execution_count": 2,
   "metadata": {
    "scrolled": true
   },
   "outputs": [
    {
     "data": {
      "text/html": [
       "+(x::<b>T</b>, y::<b>T</b>)<i> where T<:Union{Int128, Int16, Int32, Int64, Int8, UInt128, UInt16, UInt32, UInt64, UInt8}</i> in Base at <a href=\"https://github.com/JuliaLang/julia/tree/742b9abb4dd4621b667ec5bb3434b8b3602f96fd/base/int.jl#L87\" target=\"_blank\">int.jl:87</a>"
      ],
      "text/plain": [
       "+(x::T, y::T) where T<:Union{Int128, Int16, Int32, Int64, Int8, UInt128, UInt16, UInt32, UInt64, UInt8} in Base at int.jl:87"
      ]
     },
     "execution_count": 2,
     "metadata": {},
     "output_type": "execute_result"
    }
   ],
   "source": [
    "@which 2+2"
   ]
  },
  {
   "cell_type": "code",
   "execution_count": 3,
   "metadata": {
    "scrolled": true
   },
   "outputs": [
    {
     "data": {
      "text/html": [
       "+(x::<b>Number</b>, y::<b>Number</b>) in Base at <a href=\"https://github.com/JuliaLang/julia/tree/742b9abb4dd4621b667ec5bb3434b8b3602f96fd/base/promotion.jl#L379\" target=\"_blank\">promotion.jl:379</a>"
      ],
      "text/plain": [
       "+(x::Number, y::Number) in Base at promotion.jl:379"
      ]
     },
     "execution_count": 3,
     "metadata": {},
     "output_type": "execute_result"
    }
   ],
   "source": [
    "@which 2.0+2"
   ]
  },
  {
   "cell_type": "code",
   "execution_count": 4,
   "metadata": {},
   "outputs": [
    {
     "data": {
      "text/html": [
       "+(x::<b>Float64</b>, y::<b>Float64</b>) in Base at <a href=\"https://github.com/JuliaLang/julia/tree/742b9abb4dd4621b667ec5bb3434b8b3602f96fd/base/float.jl#L399\" target=\"_blank\">float.jl:399</a>"
      ],
      "text/plain": [
       "+(x::Float64, y::Float64) in Base at float.jl:399"
      ]
     },
     "execution_count": 4,
     "metadata": {},
     "output_type": "execute_result"
    }
   ],
   "source": [
    "@which 2.0+2.0"
   ]
  },
  {
   "cell_type": "markdown",
   "metadata": {},
   "source": [
    "The process to select which method is used is called dispatching. The process that Julia uses to decide which method to call is a magical process called *Multiple dispatch*. The engine is the \"Type inference Engine\" that works behind the scenes as we press enter. When Julia select the methods is almost not loss computational efficiency, that is one of the performance secrets."
   ]
  },
  {
   "cell_type": "code",
   "execution_count": 5,
   "metadata": {},
   "outputs": [
    {
     "name": "stdout",
     "output_type": "stream",
     "text": [
      "1.0 plus π is 4.141592653589793\n",
      "nothing1.0 plus 2 is 3.0\n",
      "nothing1 plus 2 is 3\n",
      "nothing"
     ]
    }
   ],
   "source": [
    "function testmethods(x,y)\n",
    "    println(\"$x plus $y is $(x+y)\")\n",
    "end\n",
    "\n",
    "print(testmethods(1.0,pi))\n",
    "print(testmethods(1.0,2))\n",
    "print(testmethods(1,2))\n"
   ]
  },
  {
   "cell_type": "markdown",
   "metadata": {},
   "source": [
    "## Multiple Dispatch\n"
   ]
  },
  {
   "cell_type": "markdown",
   "metadata": {},
   "source": [
    "Clearly is a different behaviour in the output, hence the executed code is obviously different, so if we want we can select types for defining branching a function"
   ]
  },
  {
   "cell_type": "code",
   "execution_count": 6,
   "metadata": {},
   "outputs": [
    {
     "data": {
      "text/plain": [
       "testmethods (generic function with 4 methods)"
      ]
     },
     "execution_count": 6,
     "metadata": {},
     "output_type": "execute_result"
    }
   ],
   "source": [
    "function testmethods(x::Integer, y::Integer)\n",
    "     println(\"$x plus $y is $(x+y) \")\n",
    "end\n",
    "function testmethods(x::Float64, y::Float64)\n",
    "     println(\"$x plus $y is $(x+y)\")\n",
    "end\n",
    "function testmethods(x::String, y::String)\n",
    "     println(\"$x concatenated with $y is $(x*y)\")\n",
    "end"
   ]
  },
  {
   "cell_type": "code",
   "execution_count": 7,
   "metadata": {},
   "outputs": [
    {
     "name": "stdout",
     "output_type": "stream",
     "text": [
      "1 plus 2 is 3 \n",
      "nothing\n",
      "2.0 plus π is 5.141592653589793\n",
      "nothing\n",
      "A concatenated with B is AB\n",
      "nothing\n"
     ]
    }
   ],
   "source": [
    "# Let's call them\n",
    "# Integers\n",
    "println(testmethods(1,2))\n",
    "# Floats\n",
    "println(testmethods(2.0,pi))\n",
    "# Strings\n",
    "println(testmethods(\"A\",\"B\"))"
   ]
  },
  {
   "cell_type": "markdown",
   "metadata": {},
   "source": [
    "## Types\n"
   ]
  },
  {
   "cell_type": "markdown",
   "metadata": {},
   "source": [
    "In Julia are many types of variables depending on the level of it we can select how specific we want to be when we program a function. This way to organize different types makes Julia very special and also suitable for different abstract functions. For example, `Integer` is an abstract type class which contains the primitive types `Int32` and `Int64`. Here is the general tree Types of the Julia core:"
   ]
  },
  {
   "attachments": {
    "typeTree.png": {
     "image/png": "[encoded data removed]"
    }
   },
   "cell_type": "markdown",
   "metadata": {},
   "source": [
    "![typeTree.png](attachment:typeTree.png)"
   ]
  },
  {
   "cell_type": "markdown",
   "metadata": {},
   "source": [
    "If we don't set up any different methods for our function then Julia will do that for us, however if our application requires specific types or if we want to program efficient programs then defining types is a must."
   ]
  },
  {
   "cell_type": "markdown",
   "metadata": {},
   "source": [
    "In Julia are three different type of types, (Abstract, Primitive or Composite types). Composite types are user-defined types which are necessary when users want to use their own types. A Composite types is a collection of name fields that can contain a value. In Julia CompositeTypes are created using structs and camelCase writing style (as it is used in built-in types), let's define MyType"
   ]
  },
  {
   "cell_type": "code",
   "execution_count": 8,
   "metadata": {},
   "outputs": [
    {
     "data": {
      "text/plain": [
       "DataType"
      ]
     },
     "execution_count": 8,
     "metadata": {},
     "output_type": "execute_result"
    }
   ],
   "source": [
    "# Create a CompositeType MyType with fields x y and z\n",
    "struct MyType \n",
    "    x\n",
    "    y::Integer\n",
    "    z::Float64\n",
    "end\n",
    "# The type of a varaiable is asked using `typeof()` function\n",
    "typeof(MyType)"
   ]
  },
  {
   "cell_type": "code",
   "execution_count": 9,
   "metadata": {
    "scrolled": false
   },
   "outputs": [
    {
     "data": {
      "text/plain": [
       "MyType(\"mauri\", 1, 3.141592653589793)"
      ]
     },
     "execution_count": 9,
     "metadata": {},
     "output_type": "execute_result"
    }
   ],
   "source": [
    "#We can now define a variable using our type by the constructor operator. \n",
    "#This is very simillar than dictionaries but instead of using Dict constructur we use MyType:\n",
    "my_type_variable = MyType(\"mauri\", 1, pi)"
   ]
  },
  {
   "cell_type": "markdown",
   "metadata": {},
   "source": [
    "#### `new`constructor method:"
   ]
  },
  {
   "cell_type": "markdown",
   "metadata": {},
   "source": [
    "There is also another way to instantiate the struct or construct the object, using an internal constructor function when declaring the struct using the `new` keyword, also this allows us to check specific range of attributes like in a MyTime composite struct:"
   ]
  },
  {
   "cell_type": "code",
   "execution_count": 28,
   "metadata": {},
   "outputs": [
    {
     "data": {
      "text/plain": [
       "49:00:00"
      ]
     },
     "execution_count": 28,
     "metadata": {},
     "output_type": "execute_result"
    }
   ],
   "source": [
    "struct MyTime\n",
    "    # define attributes\n",
    "    hour::Integer\n",
    "    minute::Integer\n",
    "    second::Integer\n",
    "    \n",
    "    # declare constructor\n",
    "    function MyTime(hour::Integer = 0, minute::Integer = 0, second::Integer = 0)\n",
    "       !(0 ≤ minute ≤ 60) && throw(ArgumentError(\"minutes must be in [0, 60] range\"))\n",
    "       !(0 ≤ second ≤ 60) && throw(ArgumentError(\"minutes must be in [0, 60] range\"))\n",
    "        # constructor\n",
    "        new(hour, minute, second)\n",
    "    end\n",
    "end\n",
    "\n",
    "# Now we can construct the struct via the following methods\n",
    "mytime1 = MyTime()\n",
    "mytime2 = MyTime(49)\n",
    "\n"
   ]
  },
  {
   "cell_type": "markdown",
   "metadata": {},
   "source": [
    "But what had happend before we define an internal constructor? A default constructor is used, then if an internal constructor is defined is no longer available. In addition, there is another possibility to define new constructors that allows us to define recursive data structures, i.e when a Stract contains itself as an attribute (in this case the struct has to be mutable because it is modified after it's installation. "
   ]
  },
  {
   "cell_type": "code",
   "execution_count": 8,
   "metadata": {},
   "outputs": [
    {
     "data": {
      "text/plain": [
       "MyTime"
      ]
     },
     "execution_count": 8,
     "metadata": {},
     "output_type": "execute_result"
    }
   ],
   "source": [
    "    function MyTime(hour::Integer = 0, minute::Integer = 0, second::Integer = 0)\n",
    "       !(0 ≤ minute ≤ 60) && throw(ArgumentError(\"minutes must be in [0, 60] range\"))\n",
    "       !(0 ≤ second ≤ 60) && throw(ArgumentError(\"minutes must be in [0, 60] range\"))\n",
    "        # constructor\n",
    "        time = new()\n",
    "        time.hour = hour\n",
    "        time.minute = minute\n",
    "        time.second = second\n",
    "        return time\n",
    "    end"
   ]
  },
  {
   "cell_type": "markdown",
   "metadata": {},
   "source": [
    "#### `show`print method:"
   ]
  },
  {
   "cell_type": "markdown",
   "metadata": {},
   "source": [
    "There is also another `show` keyword to use that is used to print specific attrbitues of an object, like this (we use the `Base` to add the method into the Julia Base pkg and then we can use it simple):"
   ]
  },
  {
   "cell_type": "code",
   "execution_count": 17,
   "metadata": {},
   "outputs": [
    {
     "name": "stdout",
     "output_type": "stream",
     "text": [
      "49:00:00"
     ]
    },
    {
     "data": {
      "text/plain": [
       "49:00:00"
      ]
     },
     "execution_count": 17,
     "metadata": {},
     "output_type": "execute_result"
    }
   ],
   "source": [
    "using Printf\n",
    "function Base.show(io::IO, time = MyTime) \n",
    "    @printf(io, \"%02d:%02d:%02d\", time.hour, time.minute, time.second)\n",
    "end\n",
    "print(mytime2) # or just \n",
    "mytime2"
   ]
  },
  {
   "cell_type": "code",
   "execution_count": 47,
   "metadata": {
    "scrolled": true
   },
   "outputs": [
    {
     "data": {
      "text/plain": [
       "increment (generic function with 1 method)"
      ]
     },
     "execution_count": 47,
     "metadata": {},
     "output_type": "execute_result"
    }
   ],
   "source": [
    "# Lets define some functions to operate with times \n",
    "# transform time to an integer base 60 \n",
    "function timetoint(time::MyTime)\n",
    "    minutes = time.hour * 60 + time.minute\n",
    "    seconds = minutes*60 + time.second \n",
    "    return seconds\n",
    "end\n",
    "# do the oposite\n",
    "function inttotime(timeint::Integer)\n",
    "    (minutes, seconds) = divrem(timeint, 60)\n",
    "    (hours, minutes) = divrem(minutes, 60)\n",
    "    return MyTime(hours, minutes, seconds)\n",
    "end\n",
    "# increment time \n",
    "function increment(seconds::Integer, time::MyTime)\n",
    "    return inttotime(timetoint(time) + seconds)\n",
    "end"
   ]
  },
  {
   "cell_type": "markdown",
   "metadata": {},
   "source": [
    "#### Operator overloading:"
   ]
  },
  {
   "cell_type": "markdown",
   "metadata": {},
   "source": [
    "Now we can define specific operators for our methods like this, for example we can add a method to the plus `+` operator to add to times of type `MyType`. This is called operator overloading: "
   ]
  },
  {
   "cell_type": "code",
   "execution_count": 48,
   "metadata": {
    "scrolled": true
   },
   "outputs": [
    {
     "data": {
      "text/plain": [
       "00:45:53"
      ]
     },
     "execution_count": 48,
     "metadata": {},
     "output_type": "execute_result"
    }
   ],
   "source": [
    "import Base.+\n",
    "\n",
    "function +(t1::MyTime, t2::MyTime)\n",
    "    sum_time_int = timetoint(t1) + timetoint(t2)\n",
    "    return inttotime(sum_time_int)\n",
    "end\n",
    "\n",
    "# Now we can execute\n",
    "sunset_starts = MyTime(18, 20, 20)\n",
    "duration = MyTime(0, 45, 30)\n",
    "\n",
    "# This will use + operator and show method\n",
    "sunset_starts + duration"
   ]
  },
  {
   "cell_type": "markdown",
   "metadata": {},
   "source": [
    "#### Multiple displatch with objects:\n",
    "Julia can decide which method invokes obviously using and defining different objects. "
   ]
  },
  {
   "cell_type": "code",
   "execution_count": 55,
   "metadata": {},
   "outputs": [
    {
     "data": {
      "text/plain": [
       "19:20:20"
      ]
     },
     "execution_count": 55,
     "metadata": {},
     "output_type": "execute_result"
    }
   ],
   "source": [
    "# We can now add one new method to the sum operator using increment function \n",
    "import Base.+\n",
    "\n",
    "function +(seconds::Integer, time::MyTime)\n",
    "    increment(seconds, time)\n",
    "end\n",
    "\n",
    "# Now we can add seconds to a time object using multiple dispatch\n",
    "3600 + sunset_starts"
   ]
  },
  {
   "cell_type": "markdown",
   "metadata": {},
   "source": [
    "[Back to the top](#In-this-lesson)"
   ]
  },
  {
   "cell_type": "markdown",
   "metadata": {},
   "source": [
    "## Composite Types vs Dictionaries and Named Tuples\n"
   ]
  },
  {
   "cell_type": "markdown",
   "metadata": {},
   "source": [
    "A natural question is that now we have different ways to allocate some different data into a variable depending on the data structure, let's make a comparison:  "
   ]
  },
  {
   "cell_type": "code",
   "execution_count": 10,
   "metadata": {},
   "outputs": [
    {
     "data": {
      "text/plain": [
       "(x = \"Mauri\", y = 1, z = π)"
      ]
     },
     "execution_count": 10,
     "metadata": {},
     "output_type": "execute_result"
    }
   ],
   "source": [
    "# Defining into a dictionary\n",
    "my_dict = Dict('x' => \"Mauri\", 'y' => 1, 'z'=> pi)\n",
    "# Defining into an array\n",
    "my_arraay = [\"Mauri\", 1, pi]\n",
    "# Using a named tuple \n",
    "my_tuple = (x=\"Mauri\", y = 1, z = pi)\n"
   ]
  },
  {
   "cell_type": "code",
   "execution_count": 11,
   "metadata": {
    "scrolled": true
   },
   "outputs": [
    {
     "data": {
      "text/latex": [
       "\\begin{tabular}\n",
       "{l | r | l}\n",
       "name & size & summary \\\\\n",
       "\\hline\n",
       "Base &  & Module \\\\\n",
       "Core &  & Module \\\\\n",
       "Main &  & Module \\\\\n",
       "MyType & 160 bytes & DataType \\\\\n",
       "file & 344 bytes & IOStream \\\\\n",
       "my\\_arraay & 85 bytes & 3-element Vector\\{Any\\} \\\\\n",
       "my\\_dict & 413 bytes & Dict\\{Char, Any\\} with 3 entries \\\\\n",
       "my\\_tuple & 29 bytes & NamedTuple\\{(:x, :y, :z), Tuple\\{String, Int64, Irrational\\{:π\\}\\}\\} \\\\\n",
       "my\\_type\\_variable & 45 bytes & MyType \\\\\n",
       "style & 2.013 KiB & 2053-codeunit String \\\\\n",
       "testmethods & 0 bytes & testmethods (generic function with 4 methods) \\\\\n",
       "\\end{tabular}\n"
      ],
      "text/markdown": [
       "| name             |      size | summary                                                        |\n",
       "|:---------------- | ---------:|:-------------------------------------------------------------- |\n",
       "| Base             |           | Module                                                         |\n",
       "| Core             |           | Module                                                         |\n",
       "| Main             |           | Module                                                         |\n",
       "| MyType           | 160 bytes | DataType                                                       |\n",
       "| file             | 344 bytes | IOStream                                                       |\n",
       "| my_arraay        |  85 bytes | 3-element Vector{Any}                                          |\n",
       "| my_dict          | 413 bytes | Dict{Char, Any} with 3 entries                                 |\n",
       "| my_tuple         |  29 bytes | NamedTuple{(:x, :y, :z), Tuple{String, Int64, Irrational{:π}}} |\n",
       "| my_type_variable |  45 bytes | MyType                                                         |\n",
       "| style            | 2.013 KiB | 2053-codeunit String                                           |\n",
       "| testmethods      |   0 bytes | testmethods (generic function with 4 methods)                  |\n"
      ],
      "text/plain": [
       "  name                  size summary                                                       \n",
       "  –––––––––––––––– ––––––––– ––––––––––––––––––––––––––––––––––––––––––––––––––––––––––––––\n",
       "  Base                       Module                                                        \n",
       "  Core                       Module                                                        \n",
       "  Main                       Module                                                        \n",
       "  MyType           160 bytes DataType                                                      \n",
       "  file             344 bytes IOStream                                                      \n",
       "  my_arraay         85 bytes 3-element Vector{Any}                                         \n",
       "  my_dict          413 bytes Dict{Char, Any} with 3 entries                                \n",
       "  my_tuple          29 bytes NamedTuple{(:x, :y, :z), Tuple{String, Int64, Irrational{:π}}}\n",
       "  my_type_variable  45 bytes MyType                                                        \n",
       "  style            2.013 KiB 2053-codeunit String                                          \n",
       "  testmethods        0 bytes testmethods (generic function with 4 methods)                 "
      ]
     },
     "execution_count": 11,
     "metadata": {},
     "output_type": "execute_result"
    }
   ],
   "source": [
    "varinfo()"
   ]
  },
  {
   "cell_type": "markdown",
   "metadata": {},
   "source": [
    "As it is presented in the previous table *Dictionaries take more memory* and *Tuples take the least memory* and our *Composite type take less memory than our Array* a general rule then can be: **\"if a Tuple it is two restrictive because they are (unmutable) for our application and we don't need all the bells and whistles of the Array then it make senses for us to set our Composite Types\"**. "
   ]
  },
  {
   "cell_type": "code",
   "execution_count": 12,
   "metadata": {},
   "outputs": [
    {
     "name": "stdout",
     "output_type": "stream",
     "text": [
      "The field x is mauri\n",
      "The field y is 1\n",
      "The field z is 3.141592653589793\n"
     ]
    }
   ],
   "source": [
    "# As in named tuples we use\n",
    "my_tuple.x\n",
    "# then we can acces to MyType fields using\n",
    "println(\"The field $(fieldnames(MyType)[1]) is $(my_type_variable.x)\")\n",
    "println(\"The field $(fieldnames(MyType)[2]) is $(my_type_variable.y)\")\n",
    "println(\"The field $(fieldnames(MyType)[3]) is $(my_type_variable.z)\")"
   ]
  },
  {
   "cell_type": "code",
   "execution_count": 13,
   "metadata": {
    "scrolled": false
   },
   "outputs": [
    {
     "ename": "LoadError",
     "evalue": "setfield!: immutable struct of type MyType cannot be changed",
     "output_type": "error",
     "traceback": [
      "setfield!: immutable struct of type MyType cannot be changed",
      "",
      "Stacktrace:",
      " [1] setproperty!(x::MyType, f::Symbol, v::Int64)",
      "   @ Base ./Base.jl:43",
      " [2] top-level scope",
      "   @ In[13]:2",
      " [3] eval",
      "   @ ./boot.jl:373 [inlined]",
      " [4] include_string(mapexpr::typeof(REPL.softscope), mod::Module, code::String, filename::String)",
      "   @ Base ./loading.jl:1196"
     ]
    }
   ],
   "source": [
    "# but simple structs are inmutable like tuples...\n",
    "my_type_variable.y = 2 "
   ]
  },
  {
   "cell_type": "markdown",
   "metadata": {},
   "source": [
    "Then we can define a mutable struct as a class of CompositeStructs using:"
   ]
  },
  {
   "cell_type": "markdown",
   "metadata": {
    "scrolled": true
   },
   "source": [
    "mutable struct MyMutableStruct\n",
    "    x\n",
    "    y::Integer\n",
    "    z::AbstractFloat\n",
    "end\n",
    "\n",
    "# Construct the variable\n",
    "my_mutable_var = MyMutableStruct(\"Mauri\",1,pi)\n",
    "println(\"The previous value of field $(fieldnames(typeof(my_mutable_var))[1]) of my_mutable_var was $(my_mutable_var.x)\")\n",
    "# Change the field x\n",
    "my_mutable_var.x = \"Robert\"\n",
    "println(\"The new value of field $(fieldnames(typeof(my_mutable_var))[1]) of my_mutable_var is $(my_mutable_var.x)\")\n"
   ]
  },
  {
   "cell_type": "code",
   "execution_count": 1,
   "metadata": {},
   "outputs": [
    {
     "ename": "LoadError",
     "evalue": "syntax: incomplete: premature end of input",
     "output_type": "error",
     "traceback": [
      "syntax: incomplete: premature end of input",
      "",
      "Stacktrace:",
      " [1] top-level scope",
      "   @ In[1]:1",
      " [2] eval",
      "   @ ./boot.jl:373 [inlined]",
      " [3] include_string(mapexpr::typeof(REPL.softscope), mod::Module, code::String, filename::String)",
      "   @ Base ./loading.jl:1196"
     ]
    }
   ],
   "source": [
    "[Back to the top](#In-this-lesson)"
   ]
  },
  {
   "cell_type": "markdown",
   "metadata": {},
   "source": [
    "## Example"
   ]
  },
  {
   "cell_type": "markdown",
   "metadata": {},
   "source": [
    "From this point there are several combinations of mutable structs than we can defining, for example structs of structs. Imagine that we can split different kind of stars in groups and that each star has it's own characteristic, then we can define a general struct called `Star`:"
   ]
  },
  {
   "cell_type": "code",
   "execution_count": 15,
   "metadata": {},
   "outputs": [],
   "source": [
    "# General Star tpye\n",
    "struct Star \n",
    "    galaxy_location::String\n",
    "    age::BigFloat\n",
    "end\n",
    "\n",
    "# Solar Stars\n",
    "struct SolarStar\n",
    "    id::Star\n",
    "    light::AbstractFloat\n",
    "    mass::BigFloat\n",
    "end\n",
    "\n",
    "# Solar Stars\n",
    "struct NeutronStar\n",
    "    id::Star\n",
    "    power::AbstractFloat\n",
    "    element::String\n",
    "end\n"
   ]
  },
  {
   "cell_type": "markdown",
   "metadata": {},
   "source": [
    "Since we have now different type of stars then we might need a different methods for function. Let's define a function with different methods depending on the type of the inputs to tell as about the star:"
   ]
  },
  {
   "cell_type": "code",
   "execution_count": 16,
   "metadata": {},
   "outputs": [
    {
     "name": "stdout",
     "output_type": "stream",
     "text": [
      "This Solar Star is located at glaxy Via Lactea and its age is: 1.0e+12 \n",
      "This Solar Star has light: 3.0e12 and mass : 1.1999999999999999112715591221248e+31 \n",
      "This Neutron Star is located at glaxy Magallanes and its age is: 1.0e+21 \n",
      "This Neutron Star has a power of: 1.0e8 and the element : Oxigen \n"
     ]
    }
   ],
   "source": [
    "# Solar star method\n",
    "function tellme_about_the_star(star::SolarStar)\n",
    "    println(\"This Solar Star is located at glaxy $(star.id.galaxy_location) and its age is: $(star.id.age) \")\n",
    "    println(\"This Solar Star has light: $(star.light) and mass : $(star.mass) \")\n",
    "end\n",
    "\n",
    "our_sun = SolarStar(Star(\"Via Lactea\", BigFloat(1e12)), 3.0e12, BigFloat(12e30))\n",
    "\n",
    "tellme_about_the_star(our_sun)\n",
    "\n",
    "# Neutron star method\n",
    "function tellme_about_the_star(star::NeutronStar)\n",
    "    println(\"This Neutron Star is located at glaxy $(star.id.galaxy_location) and its age is: $(star.id.age) \")\n",
    "    println(\"This Neutron Star has a power of: $(star.power) and the element : $(star.element) \")\n",
    "end\n",
    "\n",
    "some_neutron_star = NeutronStar(Star( \"Magallanes\", BigFloat(1e21) ), 1e8, \"Oxigen\" )\n",
    "tellme_about_the_star(some_neutron_star)"
   ]
  },
  {
   "cell_type": "markdown",
   "metadata": {},
   "source": [
    "As we see we can access to composite dataTypes using multiple dots `data_type_var1.data_type_var2.field_type2` also we can use two functions to get into what is going on under the hood:\n",
    "\n",
    "- `typeof()`: return the type of a variable\n",
    "- `fieldnames()`: return the fields of a type"
   ]
  },
  {
   "cell_type": "code",
   "execution_count": 23,
   "metadata": {},
   "outputs": [
    {
     "name": "stdout",
     "output_type": "stream",
     "text": [
      "The tpye of our_sun.id  is Star\n",
      "The tpye of our_sun.id  is BigFloat\n"
     ]
    }
   ],
   "source": [
    "$\n",
    "println(\"The tpye of our_sun.id  is $(typeof(our_sun.id))\")\n",
    "println(\"The tpye of our_sun.id  is $(typeof(our_sun.mass))\")\n"
   ]
  },
  {
   "cell_type": "markdown",
   "metadata": {},
   "source": [
    "[Back to the top](#In-this-lesson)"
   ]
  }
 ],
 "metadata": {
  "@webio": {
   "lastCommId": null,
   "lastKernelId": null
  },
  "kernelspec": {
   "display_name": "Julia 1.7.2",
   "language": "julia",
   "name": "julia-1.7"
  },
  "language_info": {
   "file_extension": ".jl",
   "mimetype": "application/julia",
   "name": "julia",
   "version": "1.7.3"
  }
 },
 "nbformat": 4,
 "nbformat_minor": 2
}
