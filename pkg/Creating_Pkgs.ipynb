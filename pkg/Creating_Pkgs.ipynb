{
 "cells": [
  {
   "cell_type": "code",
   "execution_count": 14,
   "id": "c5e0e7ae",
   "metadata": {},
   "outputs": [
    {
     "data": {
      "text/html": [
       "<link href='http://fonts.googleapis.com/css?family=Alegreya+Sans:100,300,400,500,700,800,900,100italic,300italic,400italic,500italic,700italic,800italic,900italic' rel='stylesheet' type='text/css'>\r\n",
       "<link href='http://fonts.googleapis.com/css?family=Arvo:400,700,400italic' rel='stylesheet' type='text/css'>\r\n",
       "<link href='http://fonts.googleapis.com/css?family=PT+Mono' rel='stylesheet' type='text/css'>\r\n",
       "<link href='http://fonts.googleapis.com/css?family=Shadows+Into+Light' rel='stylesheet' type='text/css'>\r\n",
       "<link href='http://fonts.googleapis.com/css?family=Philosopher:400,700,400italic,700italic' rel='stylesheet' type='text/css'>\r\n",
       "\r\n",
       "<style>\r\n",
       "\r\n",
       "@font-face {\r\n",
       "    font-family: \"Computer Modern\";\r\n",
       "    src: url('http://mirrors.ctan.org/fonts/cm-unicode/fonts/otf/cmunss.otf');\r\n",
       "}\r\n",
       "\r\n",
       "\r\n",
       "\r\n",
       "/* Formatting for header cells */\r\n",
       ".text_cell_render h1 {\r\n",
       "    font-family: 'Philosopher', sans-serif;\r\n",
       "    font-weight: 400;\r\n",
       "    font-size: 2.2em;\r\n",
       "    line-height: 100%;\r\n",
       "    color: rgb(0, 80, 120);\r\n",
       "    margin-bottom: 0.1em;\r\n",
       "    margin-top: 0.1em;\r\n",
       "    display: block;\r\n",
       "}\t\r\n",
       ".text_cell_render h2 {\r\n",
       "    font-family: 'Philosopher', serif;\r\n",
       "    font-weight: 400;\r\n",
       "    font-size: 1.9em;\r\n",
       "    line-height: 100%;\r\n",
       "    color: rgb(200,100,0);\r\n",
       "    margin-bottom: 0.1em;\r\n",
       "    margin-top: 0.1em;\r\n",
       "    display: block;\r\n",
       "}\t\r\n",
       "\r\n",
       ".text_cell_render h3 {\r\n",
       "    font-family: 'Philosopher', serif;\r\n",
       "    margin-top:12px;\r\n",
       "    margin-bottom: 3px;\r\n",
       "    font-style: italic;\r\n",
       "    color: rgb(94,127,192);\r\n",
       "}\r\n",
       "\r\n",
       ".text_cell_render h4 {\r\n",
       "    font-family: 'Philosopher', serif;\r\n",
       "}\r\n",
       "\r\n",
       ".text_cell_render h5 {\r\n",
       "    font-family: 'Alegreya Sans', sans-serif;\r\n",
       "    font-weight: 300;\r\n",
       "    font-size: 16pt;\r\n",
       "    color: grey;\r\n",
       "    font-style: italic;\r\n",
       "    margin-bottom: .1em;\r\n",
       "    margin-top: 0.1em;\r\n",
       "    display: block;\r\n",
       "}\r\n",
       "\r\n",
       ".text_cell_render h6 {\r\n",
       "    font-family: 'PT Mono', sans-serif;\r\n",
       "    font-weight: 300;\r\n",
       "    font-size: 10pt;\r\n",
       "    color: grey;\r\n",
       "    margin-bottom: 1px;\r\n",
       "    margin-top: 1px;\r\n",
       "}\r\n",
       "\r\n",
       ".CodeMirror{\r\n",
       "        font-family: \"PT Mono\";\r\n",
       "        font-size: 100%;\r\n",
       "}\r\n",
       "\r\n",
       "</style>\r\n",
       "\r\n"
      ],
      "text/plain": [
       "HTML{String}(\"<link href='http://fonts.googleapis.com/css?family=Alegreya+Sans:100,300,400,500,700,800,900,100italic,300italic,400italic,500italic,700italic,800italic,900italic' rel='stylesheet' type='text/css'>\\r\\n<link href='http://fonts.googleapis.com/css?family=Arvo:400,700,400italic' rel='stylesheet' type='text/css'>\\r\\n<link href='http://fonts.googleapis.com/css?family=PT+Mono' rel='stylesheet' type='text/css'>\\r\\n<link href='http://fonts.googleapis.com/css?family=Shadows+Into+Light' rel='stylesheet' type='text/css'>\\r\\n<link href='http://fonts.googleapis.com/css?family=Philosopher:400,700,400italic,700italic' rel='stylesheet' type='text/css'>\\r\\n\\r\\n<style>\\r\\n\\r\\n@font-face {\\r\\n    font-family: \\\"Computer Modern\\\";\\r\\n    src: url('http://mirrors.ctan.org/fonts/cm-unicode/fonts/otf/cmunss.otf');\\r\\n}\\r\\n\\r\\n\\r\\n\\r\\n/* Formatting for header cells */\\r\\n.text_cell_render h1 {\\r\\n    font-family: 'Philosopher', sans-serif;\\r\\n    font-weight: 400;\\r\\n    font-size: 2.2em;\\r\\n    line-height: 100%;\\r\\n    color: rgb(0, 80, 120);\\r\\n    margin-bottom: 0.1em;\\r\\n    margin-top: 0.1em;\\r\\n    display: block;\\r\\n}\\t\\r\\n.text_cell_render h2 {\\r\\n    font-family: 'Philosopher', serif;\\r\\n    font-weight: 400;\\r\\n    font-size: 1.9em;\\r\\n    line-height: 100%;\\r\\n    color: rgb(200,100,0);\\r\\n    margin-bottom: 0.1em;\\r\\n    margin-top: 0.1em;\\r\\n    display: block;\\r\\n}\\t\\r\\n\\r\\n.text_cell_render h3 {\\r\\n    font-family: 'Philosopher', serif;\\r\\n    margin-top:12px;\\r\\n    margin-bottom: 3px;\\r\\n    font-style: italic;\\r\\n    color: rgb(94,127,192);\\r\\n}\\r\\n\\r\\n.text_cell_render h4 {\\r\\n    font-family: 'Philosopher', serif;\\r\\n}\\r\\n\\r\\n.text_cell_render h5 {\\r\\n    font-family: 'Alegreya Sans', sans-serif;\\r\\n    font-weight: 300;\\r\\n    font-size: 16pt;\\r\\n    color: grey;\\r\\n    font-style: italic;\\r\\n    margin-bottom: .1em;\\r\\n    margin-top: 0.1em;\\r\\n    display: block;\\r\\n}\\r\\n\\r\\n.text_cell_render h6 {\\r\\n    font-family: 'PT Mono', sans-serif;\\r\\n    font-weight: 300;\\r\\n    font-size: 10pt;\\r\\n    color: grey;\\r\\n    margin-bottom: 1px;\\r\\n    margin-top: 1px;\\r\\n}\\r\\n\\r\\n.CodeMirror{\\r\\n        font-family: \\\"PT Mono\\\";\\r\\n        font-size: 100%;\\r\\n}\\r\\n\\r\\n</style>\\r\\n\\r\\n\")"
      ]
     },
     "execution_count": 14,
     "metadata": {},
     "output_type": "execute_result"
    }
   ],
   "source": [
    "# Setting up a custom stylesheet in IJulia\n",
    "file = open(\"style.css\") # A .css file in the same folder as this notebook file\n",
    "styl = read(file, String) # Read the file\n",
    "HTML(\"$styl\") # Output as HTML"
   ]
  },
  {
   "cell_type": "markdown",
   "id": "a0dcd693",
   "metadata": {},
   "source": [
    "<h1> Create a pkg in julia</h1>\n"
   ]
  },
  {
   "cell_type": "markdown",
   "id": "330c7b02",
   "metadata": {},
   "source": [
    "<h2>In this notebook</h2>\n",
    "\n",
    "- [Outcome](#Outcome)\n",
    "- [Generate files for a pkg](#Generate-files-for-a-pkg)\n",
    "- [Adding dependecies to the project](#Adding-dependecies-to-the-project)\n",
    "- [Points of note](#Points-of-note)"
   ]
  },
  {
   "cell_type": "markdown",
   "id": "f9519a0f",
   "metadata": {},
   "source": [
    "[Back to the top](#In-this-notebook)"
   ]
  },
  {
   "cell_type": "markdown",
   "id": "b8f782a3",
   "metadata": {},
   "source": [
    "<h2>Generate files for a pkg</h2>\n",
    "\n",
    "A package is group of code with certain features. The characterisics of a pkg are the `name`, `uuid` and `version`. All this info is saved into `Project.toml` file. In this notebook we will create a pkg from scratch but there is an easier way using [PkgTemplates](https://github.com/invenia/PkgTemplates.jl)."
   ]
  },
  {
   "cell_type": "markdown",
   "id": "552ec3ac",
   "metadata": {},
   "source": [
    "To generate a new pkg called \"IdenGPU\" we use\n",
    "```julia\n",
    "pkg> generate <IdenGPU>\n",
    "```"
   ]
  },
  {
   "cell_type": "markdown",
   "id": "a1942eae",
   "metadata": {},
   "source": [
    "This will authomatically create the main .jl of the package and a `Project.toml` this:\n",
    "\n",
    "```julia\n",
    "  Generating  project IdenGPU:\n",
    "    IdenGPU/Project.toml\n",
    "    IdenGPU/src/IdenGPU.jl\n",
    "```"
   ]
  },
  {
   "cell_type": "markdown",
   "id": "68968790",
   "metadata": {},
   "source": [
    "The `Project.toml` file contains the name of the package, its unique UUID, its version, the authors and potential dependencies:"
   ]
  },
  {
   "cell_type": "markdown",
   "id": "d2ca7fff",
   "metadata": {},
   "source": [
    "To skim on it we can access to the shell executing semicoloumn symbol `;`"
   ]
  },
  {
   "cell_type": "markdown",
   "id": "f7f46369",
   "metadata": {},
   "source": [
    "```julia\n",
    "shell> tree .\n",
    ".\n",
    "├── Project.toml\n",
    "└── src\n",
    "    └── IdenGPU.jl\n",
    "\n",
    "1 directory, 2 files\n",
    "```"
   ]
  },
  {
   "cell_type": "markdown",
   "id": "4f776f1e",
   "metadata": {},
   "source": [
    "* The `Project.toml` contains:\n",
    "```julia\n",
    "name = \"IdenGPU\"\n",
    "uuid = \"26fdc215-02c3-44fa-a87d-7f8179a65ee6\"\n",
    "authors = [\"Someone <someone@mail.com>\"]\n",
    "version = \"0.1.0\"\n",
    "```\n",
    "* Inside `src/IdenGPU.jl` file is:\n",
    "```julia\n",
    "module IdenGPU\n",
    "greet() = print(\"Hello World!\")\n",
    "end # module\n",
    "```\n"
   ]
  },
  {
   "cell_type": "markdown",
   "id": "16ec36ff",
   "metadata": {},
   "source": [
    "We can activate the project by two ways:\n",
    "\n",
    "* Open Julia into the main folder of the project and execute:\n",
    "```julia\n",
    "pkg> activate .\n",
    "  Activating project at `~/Repositories/gitLab/IdenGPU`\n",
    "(IdenGPU) pkg> st\n",
    "     Project IdenGPU v0.1.0\n",
    "      Status `~/Repositories/gitLab/IdenGPU/Project.toml` (empty project)\n",
    "julia> import IdenGPU\n",
    "[ Info: Precompiling IdenGPU [26fdc215-02c3-44fa-a87d-7f8179a65ee6]\n",
    "julia> IdenGPU.greet()\n",
    "Hello World!\n",
    "```\n",
    "\n",
    "* From terminal we can use \n",
    "``` \n",
    "julia --project=.\n",
    "```\n",
    "and inside julia we can run:\n",
    "```julia\n",
    "julia> import IdenGPU\n",
    "julia> IdenGPU.greet()\n",
    "Hello World!\n",
    "```"
   ]
  },
  {
   "cell_type": "markdown",
   "id": "c4fb193f",
   "metadata": {},
   "source": [
    "[Back to the top](#In-this-notebook)"
   ]
  },
  {
   "cell_type": "markdown",
   "id": "90c2a066",
   "metadata": {},
   "source": [
    "<h2>Adding dependecies to the project</h2>\n"
   ]
  },
  {
   "cell_type": "markdown",
   "id": "ece68aa1",
   "metadata": {},
   "source": [
    "Sopuse we want to use an standard pkg like `CUDA`, `Plots` and `Images` into our project, and also this dependencies must be authoatically loadad when an external user want to use the package. In order to do that we just simple add the pkg inside the project:\n"
   ]
  },
  {
   "cell_type": "markdown",
   "id": "1ed75be0",
   "metadata": {},
   "source": [
    "```julia\n",
    "julia> import Pkg\n",
    "julia> Pkg.add.([\"CUDA\",\"Plots\",\"Images\"])\n",
    "```\n",
    "then we acces to the pkg prompt `[`\n",
    "\n",
    "```julia\n",
    "julia> ] <enter>\n",
    "(IdenGPU) pkg> st\n",
    "     Project IdenGPU v0.1.0\n",
    "      Status `~/Repositories/gitLab/IdenGPU/Project.toml`\n",
    "  [052768ef] CUDA v3.10.0\n",
    "  [916415d5] Images v0.25.2\n",
    "  [91a5bcdd] Plots v1.29.0\n",
    "  [44cfe95a] Pkg\n",
    "```\n",
    "This will authomatically install the newst version in the julia registrey pkg hub (note that the project name is shown before the prompt)."
   ]
  },
  {
   "cell_type": "markdown",
   "id": "49d18b64",
   "metadata": {},
   "source": [
    "Packages `CUDA`,`Plots` and `Images` got added to the project’s Project.toml file, and the resulting dependencies got added to the `Manifest.toml` file. The resolver has installed each package with the highest possible version, while still respecting the compatibility that each package enforces on its dependencies.\n",
    "\n",
    "We can now use packages into our project.Changing src/ideGPU.jl to:\n",
    "```julia\n",
    "module IdenGPU\n",
    "\n",
    "# import packages neded\n",
    "import CUDA, Images, Plots\n",
    "\n",
    "# include functions\n",
    "greet() = print(\"Hello World!\")\n",
    "\n",
    "end # module\n",
    "```"
   ]
  },
  {
   "cell_type": "markdown",
   "id": "80147848",
   "metadata": {},
   "source": [
    "[Back to the top](#In-this-notebook)"
   ]
  },
  {
   "cell_type": "markdown",
   "id": "8cbc14e5",
   "metadata": {},
   "source": [
    "<h2>Adding test to the package</h2>\n"
   ]
  },
  {
   "cell_type": "markdown",
   "id": "ba0a6436",
   "metadata": {},
   "source": [
    "When a packages is tested we need to create a file `runtests.jl` into the folder `test` containig all the scripts necessary to test the package."
   ]
  },
  {
   "cell_type": "markdown",
   "id": "29712fe2",
   "metadata": {},
   "source": [
    "When a package is tested the file test/runtests.jl is executed:\n",
    "```julia\n",
    "julia> print(read(\"test/runtests.jl\", String))\n",
    "println(\"Testing...\")\n",
    "(idenGPU) pkg> test\n",
    "   Testing idenGPU\n",
    " Resolving package versions...\n",
    "Testing...\n",
    "   Testing idenGPU tests passed\n",
    "```\n",
    "Tests are run in a new Julia process, where the package itself, and any test-specific dependencies, are available, see below.\n"
   ]
  },
  {
   "cell_type": "code",
   "execution_count": null,
   "id": "bebc6014",
   "metadata": {},
   "outputs": [],
   "source": []
  }
 ],
 "metadata": {
  "kernelspec": {
   "display_name": "Julia 1.7.2",
   "language": "julia",
   "name": "julia-1.7"
  },
  "language_info": {
   "file_extension": ".jl",
   "mimetype": "application/julia",
   "name": "julia",
   "version": "1.7.2"
  }
 },
 "nbformat": 4,
 "nbformat_minor": 5
}
