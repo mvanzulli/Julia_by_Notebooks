{
 "cells": [
  {
   "attachments": {},
   "cell_type": "markdown",
   "metadata": {},
   "source": [
    "## Interpolations"
   ]
  },
  {
   "cell_type": "code",
   "execution_count": 3,
   "metadata": {},
   "outputs": [],
   "source": [
    "using Interpolations"
   ]
  },
  {
   "attachments": {},
   "cell_type": "markdown",
   "metadata": {},
   "source": [
    "### Unstructured 2D grid interpoation"
   ]
  },
  {
   "cell_type": "code",
   "execution_count": 12,
   "metadata": {},
   "outputs": [
    {
     "data": {
      "text/plain": [
       "0.8563937501504773"
      ]
     },
     "metadata": {},
     "output_type": "display_data"
    }
   ],
   "source": [
    "num_points_x = 8\n",
    "num_points_y = 20\n",
    "A = rand(num_points_x, num_points_y)\n",
    "nodes = ([x^2 for x = 1:num_points_x], [0.2y for y = 1:num_points_y])\n",
    "\n",
    "axis_interpolation_x = Gridded(Linear())\n",
    "axis_interpolation_y = Gridded(Linear())\n",
    "\n",
    "\n",
    "itp = interpolate(nodes, A, (axis_interpolation_x, axis_interpolation_y))\n",
    "itp(4,1.2)  # approximately A[2,6]A_x = [1,1.6,2.0]\n",
    "# nodes = (A_x,)\n",
    "# itp = interpolate(nodes, A, Gridded(Linear()))\n",
    "# itp(2.0)"
   ]
  }
 ],
 "metadata": {
  "kernelspec": {
   "display_name": "Julia 1.9.0",
   "language": "julia",
   "name": "julia-1.9"
  },
  "language_info": {
   "file_extension": ".jl",
   "mimetype": "application/julia",
   "name": "julia",
   "version": "1.9.0"
  },
  "orig_nbformat": 4,
  "vscode": {
   "interpreter": {
    "hash": "e7370f93d1d0cde622a1f8e1c04877d8463912d04d973331ad4851f04de6915a"
   }
  }
 },
 "nbformat": 4,
 "nbformat_minor": 2
}
